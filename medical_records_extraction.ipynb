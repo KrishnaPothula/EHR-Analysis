{
  "nbformat": 4,
  "nbformat_minor": 0,
  "metadata": {
    "kernelspec": {
      "display_name": "Python 3",
      "language": "python",
      "name": "python3"
    },
    "language_info": {
      "codemirror_mode": {
        "name": "ipython",
        "version": 3
      },
      "file_extension": ".py",
      "mimetype": "text/x-python",
      "name": "python",
      "nbconvert_exporter": "python",
      "pygments_lexer": "ipython3",
      "version": "3.7.9"
    },
    "colab": {
      "name": "medical_records_extraction (1).ipynb",
      "provenance": [],
      "collapsed_sections": [
        "pf0NKJDtYJkb",
        "v0AKJrigYJkd",
        "uC6Gl7DKYJkd",
        "6FEvwZKXYJkh",
        "Q31LDby-YJki",
        "OEGbijQlYJki"
      ],
      "include_colab_link": true
    }
  },
  "cells": [
    {
      "cell_type": "markdown",
      "metadata": {
        "id": "view-in-github",
        "colab_type": "text"
      },
      "source": [
        "<a href=\"https://colab.research.google.com/github/KrishnaPothula/EHR-Analysis/blob/main/medical_records_extraction.ipynb\" target=\"_parent\"><img src=\"https://colab.research.google.com/assets/colab-badge.svg\" alt=\"Open In Colab\"/></a>"
      ]
    },
    {
      "cell_type": "markdown",
      "metadata": {
        "id": "fCpiOOXPYJkU"
      },
      "source": [
        "## Problem Statement:"
      ]
    },
    {
      "cell_type": "markdown",
      "metadata": {
        "id": "zLiVYfsxYJkV"
      },
      "source": [
        "Medical decisioning depends on medical history of a patient. Doctors typically use past patient records from multiple visits collected through lab tests, procedures and patient diagnoses records to determine the right treatment. The medical history and patient demographics can be used to identify and analyse patterns that groups patients into cohorts.\n",
        "\n",
        "The cohorts formed vary in terms of diseases, test results and patient data. Electronic Health Records are a systematic way to collect huge amounts of digital health information from multiple sources. Accessing this data and using it to create the cohorts presents initial analysis and proper medical path to be followed for any patient dependingon the results from similar patients belonging to the same cohort.\n",
        "\n",
        "The problem is clearly identified as an unsupervised machine learning problem and I will use relevant algorithms to distinguish various cohorts based on their differences. Furthermore, this analysis can be used for drug analysis, identifying disease progression and much more.\n"
      ]
    },
    {
      "cell_type": "code",
      "metadata": {
        "colab": {
          "base_uri": "https://localhost:8080/"
        },
        "id": "auVDhRXdZx9a",
        "outputId": "7d7663a2-b8ae-4a55-b893-fbfb2a701b57"
      },
      "source": [
        "!pip install minisom\n"
      ],
      "execution_count": 1,
      "outputs": [
        {
          "output_type": "stream",
          "text": [
            "Collecting minisom\n",
            "  Downloading https://files.pythonhosted.org/packages/88/c9/7ef2caebca23a1f1803a057c3df1aef219e230acc4fa824c0944432b6b7a/MiniSom-2.2.9.tar.gz\n",
            "Building wheels for collected packages: minisom\n",
            "  Building wheel for minisom (setup.py) ... \u001b[?25l\u001b[?25hdone\n",
            "  Created wheel for minisom: filename=MiniSom-2.2.9-cp37-none-any.whl size=8603 sha256=58f8b502cde983d33f82a9756021fa72bfbd8b120bb76d78fa3066bb6cd5cc78\n",
            "  Stored in directory: /root/.cache/pip/wheels/de/a0/08/5234d6b02b29c561f62b6c985e2eb7d480fb0b92359a8c74e4\n",
            "Successfully built minisom\n",
            "Installing collected packages: minisom\n",
            "Successfully installed minisom-2.2.9\n"
          ],
          "name": "stdout"
        }
      ]
    },
    {
      "cell_type": "code",
      "metadata": {
        "colab": {
          "base_uri": "https://localhost:8080/"
        },
        "id": "wian2m5ZaJfZ",
        "outputId": "b83ccbf6-2340-48d0-c096-097efcac7016"
      },
      "source": [
        "!unzip SOMperf.zip"
      ],
      "execution_count": 2,
      "outputs": [
        {
          "output_type": "stream",
          "text": [
            "Archive:  SOMperf.zip\n",
            "f747ffff9b3b291a2f9b6bff184755b0f9c89c70\n",
            "   creating: SOMperf-master/\n",
            " extracting: SOMperf-master/.gitattributes  \n",
            "  inflating: SOMperf-master/.gitignore  \n",
            "  inflating: SOMperf-master/LICENSE  \n",
            "  inflating: SOMperf-master/README.md  \n",
            "  inflating: SOMperf-master/requirements.txt  \n",
            "  inflating: SOMperf-master/setup.py  \n",
            "   creating: SOMperf-master/somperf/\n",
            "  inflating: SOMperf-master/somperf/__init__.py  \n",
            "  inflating: SOMperf-master/somperf/__version__.py  \n",
            "   creating: SOMperf-master/somperf/metrics/\n",
            "  inflating: SOMperf-master/somperf/metrics/__init__.py  \n",
            "  inflating: SOMperf-master/somperf/metrics/external.py  \n",
            "  inflating: SOMperf-master/somperf/metrics/internal.py  \n",
            "   creating: SOMperf-master/somperf/utils/\n",
            "  inflating: SOMperf-master/somperf/utils/__init__.py  \n",
            "  inflating: SOMperf-master/somperf/utils/neighborhood.py  \n",
            "  inflating: SOMperf-master/somperf/utils/topology.py  \n",
            "   creating: SOMperf-master/tests/\n",
            "  inflating: SOMperf-master/tests/SOMperf-Tests.ipynb  \n",
            "   creating: SOMperf-master/tests/rc/\n",
            "  inflating: SOMperf-master/tests/rc/som-classes-csi-1.svg  \n",
            "  inflating: SOMperf-master/tests/rc/som-classes-csi-2.svg  \n",
            "  inflating: SOMperf-master/tests/rc/som-classes-csi-3.svg  \n",
            "  inflating: SOMperf-master/tests/rc/som-classes-superclusters.svg  \n",
            "  inflating: SOMperf-master/tests/rc/som-classes.svg  \n"
          ],
          "name": "stdout"
        }
      ]
    },
    {
      "cell_type": "code",
      "metadata": {
        "colab": {
          "base_uri": "https://localhost:8080/"
        },
        "id": "1J8lXlGtbJij",
        "outputId": "abc72c18-b9cc-4545-c93f-47116a447e38"
      },
      "source": [
        "!python SOMperf/setup.py install"
      ],
      "execution_count": 5,
      "outputs": [
        {
          "output_type": "stream",
          "text": [
            "running install\n",
            "running bdist_egg\n",
            "running egg_info\n",
            "creating SOMperf.egg-info\n",
            "writing SOMperf.egg-info/PKG-INFO\n",
            "writing dependency_links to SOMperf.egg-info/dependency_links.txt\n",
            "writing requirements to SOMperf.egg-info/requires.txt\n",
            "writing top-level names to SOMperf.egg-info/top_level.txt\n",
            "writing manifest file 'SOMperf.egg-info/SOURCES.txt'\n",
            "reading manifest file 'SOMperf.egg-info/SOURCES.txt'\n",
            "writing manifest file 'SOMperf.egg-info/SOURCES.txt'\n",
            "installing library code to build/bdist.linux-x86_64/egg\n",
            "running install_lib\n",
            "warning: install_lib: 'build/lib' does not exist -- no Python modules to install\n",
            "\n",
            "creating build\n",
            "creating build/bdist.linux-x86_64\n",
            "creating build/bdist.linux-x86_64/egg\n",
            "creating build/bdist.linux-x86_64/egg/EGG-INFO\n",
            "copying SOMperf.egg-info/PKG-INFO -> build/bdist.linux-x86_64/egg/EGG-INFO\n",
            "copying SOMperf.egg-info/SOURCES.txt -> build/bdist.linux-x86_64/egg/EGG-INFO\n",
            "copying SOMperf.egg-info/dependency_links.txt -> build/bdist.linux-x86_64/egg/EGG-INFO\n",
            "copying SOMperf.egg-info/requires.txt -> build/bdist.linux-x86_64/egg/EGG-INFO\n",
            "copying SOMperf.egg-info/top_level.txt -> build/bdist.linux-x86_64/egg/EGG-INFO\n",
            "zip_safe flag not set; analyzing archive contents...\n",
            "creating dist\n",
            "creating 'dist/SOMperf-0.2b0-py3.7.egg' and adding 'build/bdist.linux-x86_64/egg' to it\n",
            "removing 'build/bdist.linux-x86_64/egg' (and everything under it)\n",
            "Processing SOMperf-0.2b0-py3.7.egg\n",
            "Copying SOMperf-0.2b0-py3.7.egg to /usr/local/lib/python3.7/dist-packages\n",
            "Adding SOMperf 0.2b0 to easy-install.pth file\n",
            "\n",
            "Installed /usr/local/lib/python3.7/dist-packages/SOMperf-0.2b0-py3.7.egg\n",
            "Processing dependencies for SOMperf==0.2b0\n",
            "Searching for MiniSom==2.2.9\n",
            "Best match: MiniSom 2.2.9\n",
            "Adding MiniSom 2.2.9 to easy-install.pth file\n",
            "\n",
            "Using /usr/local/lib/python3.7/dist-packages\n",
            "Finished processing dependencies for SOMperf==0.2b0\n"
          ],
          "name": "stdout"
        }
      ]
    },
    {
      "cell_type": "markdown",
      "metadata": {
        "id": "Oi7Jrm4LYJkW"
      },
      "source": [
        "## Import Libraries"
      ]
    },
    {
      "cell_type": "code",
      "metadata": {
        "id": "i8UMb3NxYJkW"
      },
      "source": [
        "# in-built libraries\n",
        "import pandas as pd\n",
        "import numpy as np\n",
        "import random\n",
        "from matplotlib import pyplot as plt\n",
        "from datetime import datetime\n",
        "import matplotlib.dates as mdates\n",
        "from datetime import date\n",
        "import math\n",
        "from sklearn import metrics\n",
        "from sklearn.cluster import DBSCAN\n",
        "from sklearn.decomposition import PCA\n",
        "# external libraries\n",
        "# pip install -r requirements.txt\n",
        "from minisom import MiniSom\n",
        "# downloaded from https://github.com/FlorentF9/SOMperf.git\n",
        "from SOMperf.somperf.metrics import *\n",
        "from SOMperf.somperf.utils.topology import rectangular_topology_dist"
      ],
      "execution_count": 50,
      "outputs": []
    },
    {
      "cell_type": "markdown",
      "metadata": {
        "id": "1qr2CCZzYJkX"
      },
      "source": [
        "## Import Data"
      ]
    },
    {
      "cell_type": "code",
      "metadata": {
        "id": "tKpUAwNFYJkX",
        "colab": {
          "base_uri": "https://localhost:8080/",
          "height": 455
        },
        "outputId": "bba063b0-a88f-4f8d-e92d-1b2c3a6ec86e"
      },
      "source": [
        "# There are 4 different text files each with data separated by tab space which we will import into individual datasets\n",
        "admissions_df = pd.read_csv(\"AdmissionsCorePopulatedTable.txt\", sep=\"\\t\")\n",
        "diagnoses_df = pd.read_csv(\"AdmissionsDiagnosesCorePopulatedTable.txt\", sep=\"\\t\")\n",
        "labs_df = pd.read_csv(\"LabsCorePopulatedTable.txt\", sep=\"\\t\")\n",
        "patient_df = pd.read_csv(\"PatientCorePopulatedTable.txt\", sep=\"\\t\")\n",
        "patient_df.head()"
      ],
      "execution_count": 9,
      "outputs": [
        {
          "output_type": "execute_result",
          "data": {
            "text/html": [
              "<div>\n",
              "<style scoped>\n",
              "    .dataframe tbody tr th:only-of-type {\n",
              "        vertical-align: middle;\n",
              "    }\n",
              "\n",
              "    .dataframe tbody tr th {\n",
              "        vertical-align: top;\n",
              "    }\n",
              "\n",
              "    .dataframe thead th {\n",
              "        text-align: right;\n",
              "    }\n",
              "</style>\n",
              "<table border=\"1\" class=\"dataframe\">\n",
              "  <thead>\n",
              "    <tr style=\"text-align: right;\">\n",
              "      <th></th>\n",
              "      <th>PatientID</th>\n",
              "      <th>PatientGender</th>\n",
              "      <th>PatientDateOfBirth</th>\n",
              "      <th>PatientRace</th>\n",
              "      <th>PatientMaritalStatus</th>\n",
              "      <th>PatientLanguage</th>\n",
              "      <th>PatientPopulationPercentageBelowPoverty</th>\n",
              "    </tr>\n",
              "  </thead>\n",
              "  <tbody>\n",
              "    <tr>\n",
              "      <th>0</th>\n",
              "      <td>FB2ABB23-C9D0-4D09-8464-49BF0B982F0F</td>\n",
              "      <td>Male</td>\n",
              "      <td>1947-12-28 02:45:40.547</td>\n",
              "      <td>Unknown</td>\n",
              "      <td>Married</td>\n",
              "      <td>Icelandic</td>\n",
              "      <td>18.08</td>\n",
              "    </tr>\n",
              "    <tr>\n",
              "      <th>1</th>\n",
              "      <td>64182B95-EB72-4E2B-BE77-8050B71498CE</td>\n",
              "      <td>Male</td>\n",
              "      <td>1952-01-18 19:51:12.917</td>\n",
              "      <td>African American</td>\n",
              "      <td>Separated</td>\n",
              "      <td>English</td>\n",
              "      <td>13.03</td>\n",
              "    </tr>\n",
              "    <tr>\n",
              "      <th>2</th>\n",
              "      <td>DB22A4D9-7E4D-485C-916A-9CD1386507FB</td>\n",
              "      <td>Female</td>\n",
              "      <td>1970-07-25 13:04:20.717</td>\n",
              "      <td>Asian</td>\n",
              "      <td>Married</td>\n",
              "      <td>English</td>\n",
              "      <td>6.67</td>\n",
              "    </tr>\n",
              "    <tr>\n",
              "      <th>3</th>\n",
              "      <td>6E70D84D-C75F-477C-BC37-9177C3698C66</td>\n",
              "      <td>Male</td>\n",
              "      <td>1979-01-04 05:45:29.580</td>\n",
              "      <td>White</td>\n",
              "      <td>Married</td>\n",
              "      <td>English</td>\n",
              "      <td>16.09</td>\n",
              "    </tr>\n",
              "    <tr>\n",
              "      <th>4</th>\n",
              "      <td>C8556CC0-32FC-4CA5-A8CD-9CCF38816167</td>\n",
              "      <td>Female</td>\n",
              "      <td>1921-04-11 11:39:49.197</td>\n",
              "      <td>White</td>\n",
              "      <td>Married</td>\n",
              "      <td>English</td>\n",
              "      <td>18.20</td>\n",
              "    </tr>\n",
              "  </tbody>\n",
              "</table>\n",
              "</div>"
            ],
            "text/plain": [
              "                              PatientID  ... PatientPopulationPercentageBelowPoverty\n",
              "0  FB2ABB23-C9D0-4D09-8464-49BF0B982F0F  ...                                   18.08\n",
              "1  64182B95-EB72-4E2B-BE77-8050B71498CE  ...                                   13.03\n",
              "2  DB22A4D9-7E4D-485C-916A-9CD1386507FB  ...                                    6.67\n",
              "3  6E70D84D-C75F-477C-BC37-9177C3698C66  ...                                   16.09\n",
              "4  C8556CC0-32FC-4CA5-A8CD-9CCF38816167  ...                                   18.20\n",
              "\n",
              "[5 rows x 7 columns]"
            ]
          },
          "metadata": {
            "tags": []
          },
          "execution_count": 9
        }
      ]
    },
    {
      "cell_type": "code",
      "metadata": {
        "id": "xtbsDmihYJkY",
        "colab": {
          "base_uri": "https://localhost:8080/",
          "height": 203
        },
        "outputId": "d1c1017f-2b6b-444a-80b9-c3925e321eb2"
      },
      "source": [
        "admissions_df.head()"
      ],
      "execution_count": 10,
      "outputs": [
        {
          "output_type": "execute_result",
          "data": {
            "text/html": [
              "<div>\n",
              "<style scoped>\n",
              "    .dataframe tbody tr th:only-of-type {\n",
              "        vertical-align: middle;\n",
              "    }\n",
              "\n",
              "    .dataframe tbody tr th {\n",
              "        vertical-align: top;\n",
              "    }\n",
              "\n",
              "    .dataframe thead th {\n",
              "        text-align: right;\n",
              "    }\n",
              "</style>\n",
              "<table border=\"1\" class=\"dataframe\">\n",
              "  <thead>\n",
              "    <tr style=\"text-align: right;\">\n",
              "      <th></th>\n",
              "      <th>PatientID</th>\n",
              "      <th>AdmissionID</th>\n",
              "      <th>AdmissionStartDate</th>\n",
              "      <th>AdmissionEndDate</th>\n",
              "    </tr>\n",
              "  </thead>\n",
              "  <tbody>\n",
              "    <tr>\n",
              "      <th>0</th>\n",
              "      <td>7A025E77-7832-4F53-B9A7-09A3F98AC17E</td>\n",
              "      <td>7</td>\n",
              "      <td>2011-10-12 14:55:02.027</td>\n",
              "      <td>2011-10-22 01:16:07.557</td>\n",
              "    </tr>\n",
              "    <tr>\n",
              "      <th>1</th>\n",
              "      <td>DCE5AEB8-6DB9-4106-8AE4-02CCC5C23741</td>\n",
              "      <td>1</td>\n",
              "      <td>1993-02-11 18:57:04.003</td>\n",
              "      <td>1993-02-24 17:22:29.713</td>\n",
              "    </tr>\n",
              "    <tr>\n",
              "      <th>2</th>\n",
              "      <td>DCE5AEB8-6DB9-4106-8AE4-02CCC5C23741</td>\n",
              "      <td>2</td>\n",
              "      <td>2002-11-28 19:06:31.117</td>\n",
              "      <td>2002-12-04 19:14:40.797</td>\n",
              "    </tr>\n",
              "    <tr>\n",
              "      <th>3</th>\n",
              "      <td>DCE5AEB8-6DB9-4106-8AE4-02CCC5C23741</td>\n",
              "      <td>3</td>\n",
              "      <td>2011-07-19 18:42:45.287</td>\n",
              "      <td>2011-07-25 04:57:42.053</td>\n",
              "    </tr>\n",
              "    <tr>\n",
              "      <th>4</th>\n",
              "      <td>886B5885-1EE2-49F3-98D5-A2F02EB8A9D4</td>\n",
              "      <td>1</td>\n",
              "      <td>1994-12-03 22:20:46.077</td>\n",
              "      <td>1994-12-20 20:24:56.010</td>\n",
              "    </tr>\n",
              "  </tbody>\n",
              "</table>\n",
              "</div>"
            ],
            "text/plain": [
              "                              PatientID  ...         AdmissionEndDate\n",
              "0  7A025E77-7832-4F53-B9A7-09A3F98AC17E  ...  2011-10-22 01:16:07.557\n",
              "1  DCE5AEB8-6DB9-4106-8AE4-02CCC5C23741  ...  1993-02-24 17:22:29.713\n",
              "2  DCE5AEB8-6DB9-4106-8AE4-02CCC5C23741  ...  2002-12-04 19:14:40.797\n",
              "3  DCE5AEB8-6DB9-4106-8AE4-02CCC5C23741  ...  2011-07-25 04:57:42.053\n",
              "4  886B5885-1EE2-49F3-98D5-A2F02EB8A9D4  ...  1994-12-20 20:24:56.010\n",
              "\n",
              "[5 rows x 4 columns]"
            ]
          },
          "metadata": {
            "tags": []
          },
          "execution_count": 10
        }
      ]
    },
    {
      "cell_type": "code",
      "metadata": {
        "id": "LcaVMLZ0YJkY",
        "colab": {
          "base_uri": "https://localhost:8080/",
          "height": 203
        },
        "outputId": "e69d1ef1-d5d7-4a4a-addf-9705d92775ae"
      },
      "source": [
        "diagnoses_df.head()"
      ],
      "execution_count": 11,
      "outputs": [
        {
          "output_type": "execute_result",
          "data": {
            "text/html": [
              "<div>\n",
              "<style scoped>\n",
              "    .dataframe tbody tr th:only-of-type {\n",
              "        vertical-align: middle;\n",
              "    }\n",
              "\n",
              "    .dataframe tbody tr th {\n",
              "        vertical-align: top;\n",
              "    }\n",
              "\n",
              "    .dataframe thead th {\n",
              "        text-align: right;\n",
              "    }\n",
              "</style>\n",
              "<table border=\"1\" class=\"dataframe\">\n",
              "  <thead>\n",
              "    <tr style=\"text-align: right;\">\n",
              "      <th></th>\n",
              "      <th>PatientID</th>\n",
              "      <th>AdmissionID</th>\n",
              "      <th>PrimaryDiagnosisCode</th>\n",
              "      <th>PrimaryDiagnosisDescription</th>\n",
              "    </tr>\n",
              "  </thead>\n",
              "  <tbody>\n",
              "    <tr>\n",
              "      <th>0</th>\n",
              "      <td>80AC01B2-BD55-4BE0-A59A-4024104CF4E9</td>\n",
              "      <td>2</td>\n",
              "      <td>M01.X</td>\n",
              "      <td>Direct infection of joint in infectious and pa...</td>\n",
              "    </tr>\n",
              "    <tr>\n",
              "      <th>1</th>\n",
              "      <td>80AC01B2-BD55-4BE0-A59A-4024104CF4E9</td>\n",
              "      <td>3</td>\n",
              "      <td>D65</td>\n",
              "      <td>Disseminated intravascular coagulation [defibr...</td>\n",
              "    </tr>\n",
              "    <tr>\n",
              "      <th>2</th>\n",
              "      <td>80AC01B2-BD55-4BE0-A59A-4024104CF4E9</td>\n",
              "      <td>4</td>\n",
              "      <td>C92.1</td>\n",
              "      <td>Chronic myeloid leukemia, BCR/ABL-positive</td>\n",
              "    </tr>\n",
              "    <tr>\n",
              "      <th>3</th>\n",
              "      <td>80AC01B2-BD55-4BE0-A59A-4024104CF4E9</td>\n",
              "      <td>5</td>\n",
              "      <td>M05.51</td>\n",
              "      <td>Rheumatoid polyneuropathy with rheumatoid arth...</td>\n",
              "    </tr>\n",
              "    <tr>\n",
              "      <th>4</th>\n",
              "      <td>6A57AC0C-57F3-4C19-98A1-51135EFBC4FF</td>\n",
              "      <td>1</td>\n",
              "      <td>C91.00</td>\n",
              "      <td>Acute lymphoblastic leukemia not having achiev...</td>\n",
              "    </tr>\n",
              "  </tbody>\n",
              "</table>\n",
              "</div>"
            ],
            "text/plain": [
              "                              PatientID  ...                        PrimaryDiagnosisDescription\n",
              "0  80AC01B2-BD55-4BE0-A59A-4024104CF4E9  ...  Direct infection of joint in infectious and pa...\n",
              "1  80AC01B2-BD55-4BE0-A59A-4024104CF4E9  ...  Disseminated intravascular coagulation [defibr...\n",
              "2  80AC01B2-BD55-4BE0-A59A-4024104CF4E9  ...         Chronic myeloid leukemia, BCR/ABL-positive\n",
              "3  80AC01B2-BD55-4BE0-A59A-4024104CF4E9  ...  Rheumatoid polyneuropathy with rheumatoid arth...\n",
              "4  6A57AC0C-57F3-4C19-98A1-51135EFBC4FF  ...  Acute lymphoblastic leukemia not having achiev...\n",
              "\n",
              "[5 rows x 4 columns]"
            ]
          },
          "metadata": {
            "tags": []
          },
          "execution_count": 11
        }
      ]
    },
    {
      "cell_type": "markdown",
      "metadata": {
        "id": "-NAq0AVqYJkZ"
      },
      "source": [
        "## Data Cleaning"
      ]
    },
    {
      "cell_type": "code",
      "metadata": {
        "id": "_wGU0cHXYJkZ"
      },
      "source": [
        "# Function to calculate age compared to todays date\n",
        "def calculate_age(birth_date):\n",
        "        today = date.today()\n",
        "        age = today.year - birth_date.year\n",
        "        full_year_passed = (today.month, today.day) < (birth_date.month, birth_date.day)\n",
        "        if not full_year_passed:\n",
        "            age -= 1\n",
        "        return age"
      ],
      "execution_count": 12,
      "outputs": []
    },
    {
      "cell_type": "code",
      "metadata": {
        "id": "LkKhRPT7YJkZ"
      },
      "source": [
        "# Adding the age column to the dataset\n",
        "myFmt = mdates.DateFormatter('%d')\n",
        "patient_df[\"PatientDateOfBirth\"] = patient_df[\"PatientDateOfBirth\"].apply(lambda x: datetime.strptime(x, '%Y-%m-%d %H:%M:%S.%f'))\n",
        "patient_df[\"Age\"] = patient_df[\"PatientDateOfBirth\"].apply(calculate_age)"
      ],
      "execution_count": 13,
      "outputs": []
    },
    {
      "cell_type": "markdown",
      "metadata": {
        "id": "2LCqtbgZYJka"
      },
      "source": [
        "Converting AdmissionStartDate and AdmissionEndDate into datetime64 format to calculate the number of hours spent in admission"
      ]
    },
    {
      "cell_type": "code",
      "metadata": {
        "id": "FMxXEdHXYJka"
      },
      "source": [
        "admissions_df[\"AdmissionStartDate\"] = admissions_df[\"AdmissionStartDate\"].apply(lambda x: datetime.strptime(x, '%Y-%m-%d %H:%M:%S.%f'))\n",
        "admissions_df[\"AdmissionEndDate\"] = admissions_df[\"AdmissionEndDate\"].apply(lambda x: datetime.strptime(x, '%Y-%m-%d %H:%M:%S.%f'))"
      ],
      "execution_count": 14,
      "outputs": []
    },
    {
      "cell_type": "code",
      "metadata": {
        "id": "_sKc-tNgYJka",
        "colab": {
          "base_uri": "https://localhost:8080/"
        },
        "outputId": "bf20e475-6e6c-4afc-dc5c-25283b75b4d5"
      },
      "source": [
        "admissions_df.dtypes"
      ],
      "execution_count": 15,
      "outputs": [
        {
          "output_type": "execute_result",
          "data": {
            "text/plain": [
              "PatientID                     object\n",
              "AdmissionID                    int64\n",
              "AdmissionStartDate    datetime64[ns]\n",
              "AdmissionEndDate      datetime64[ns]\n",
              "dtype: object"
            ]
          },
          "metadata": {
            "tags": []
          },
          "execution_count": 15
        }
      ]
    },
    {
      "cell_type": "code",
      "metadata": {
        "id": "_ZM7ozcMYJkb"
      },
      "source": [
        "admissions_df[\"num_hours\"] = (admissions_df.AdmissionEndDate-admissions_df.AdmissionStartDate).astype('timedelta64[h]')"
      ],
      "execution_count": 16,
      "outputs": []
    },
    {
      "cell_type": "code",
      "metadata": {
        "id": "Zy8HBEYuYJkb",
        "colab": {
          "base_uri": "https://localhost:8080/",
          "height": 203
        },
        "outputId": "b365e269-7a65-4768-872c-9c86f448c3f3"
      },
      "source": [
        "admissions_df.head()"
      ],
      "execution_count": 17,
      "outputs": [
        {
          "output_type": "execute_result",
          "data": {
            "text/html": [
              "<div>\n",
              "<style scoped>\n",
              "    .dataframe tbody tr th:only-of-type {\n",
              "        vertical-align: middle;\n",
              "    }\n",
              "\n",
              "    .dataframe tbody tr th {\n",
              "        vertical-align: top;\n",
              "    }\n",
              "\n",
              "    .dataframe thead th {\n",
              "        text-align: right;\n",
              "    }\n",
              "</style>\n",
              "<table border=\"1\" class=\"dataframe\">\n",
              "  <thead>\n",
              "    <tr style=\"text-align: right;\">\n",
              "      <th></th>\n",
              "      <th>PatientID</th>\n",
              "      <th>AdmissionID</th>\n",
              "      <th>AdmissionStartDate</th>\n",
              "      <th>AdmissionEndDate</th>\n",
              "      <th>num_hours</th>\n",
              "    </tr>\n",
              "  </thead>\n",
              "  <tbody>\n",
              "    <tr>\n",
              "      <th>0</th>\n",
              "      <td>7A025E77-7832-4F53-B9A7-09A3F98AC17E</td>\n",
              "      <td>7</td>\n",
              "      <td>2011-10-12 14:55:02.027</td>\n",
              "      <td>2011-10-22 01:16:07.557</td>\n",
              "      <td>226.0</td>\n",
              "    </tr>\n",
              "    <tr>\n",
              "      <th>1</th>\n",
              "      <td>DCE5AEB8-6DB9-4106-8AE4-02CCC5C23741</td>\n",
              "      <td>1</td>\n",
              "      <td>1993-02-11 18:57:04.003</td>\n",
              "      <td>1993-02-24 17:22:29.713</td>\n",
              "      <td>310.0</td>\n",
              "    </tr>\n",
              "    <tr>\n",
              "      <th>2</th>\n",
              "      <td>DCE5AEB8-6DB9-4106-8AE4-02CCC5C23741</td>\n",
              "      <td>2</td>\n",
              "      <td>2002-11-28 19:06:31.117</td>\n",
              "      <td>2002-12-04 19:14:40.797</td>\n",
              "      <td>144.0</td>\n",
              "    </tr>\n",
              "    <tr>\n",
              "      <th>3</th>\n",
              "      <td>DCE5AEB8-6DB9-4106-8AE4-02CCC5C23741</td>\n",
              "      <td>3</td>\n",
              "      <td>2011-07-19 18:42:45.287</td>\n",
              "      <td>2011-07-25 04:57:42.053</td>\n",
              "      <td>130.0</td>\n",
              "    </tr>\n",
              "    <tr>\n",
              "      <th>4</th>\n",
              "      <td>886B5885-1EE2-49F3-98D5-A2F02EB8A9D4</td>\n",
              "      <td>1</td>\n",
              "      <td>1994-12-03 22:20:46.077</td>\n",
              "      <td>1994-12-20 20:24:56.010</td>\n",
              "      <td>406.0</td>\n",
              "    </tr>\n",
              "  </tbody>\n",
              "</table>\n",
              "</div>"
            ],
            "text/plain": [
              "                              PatientID  ...  num_hours\n",
              "0  7A025E77-7832-4F53-B9A7-09A3F98AC17E  ...      226.0\n",
              "1  DCE5AEB8-6DB9-4106-8AE4-02CCC5C23741  ...      310.0\n",
              "2  DCE5AEB8-6DB9-4106-8AE4-02CCC5C23741  ...      144.0\n",
              "3  DCE5AEB8-6DB9-4106-8AE4-02CCC5C23741  ...      130.0\n",
              "4  886B5885-1EE2-49F3-98D5-A2F02EB8A9D4  ...      406.0\n",
              "\n",
              "[5 rows x 5 columns]"
            ]
          },
          "metadata": {
            "tags": []
          },
          "execution_count": 17
        }
      ]
    },
    {
      "cell_type": "markdown",
      "metadata": {
        "id": "XgtirLPkYJkb"
      },
      "source": [
        "## Visualization and Analysis"
      ]
    },
    {
      "cell_type": "markdown",
      "metadata": {
        "id": "pf0NKJDtYJkb"
      },
      "source": [
        "### Patient Data Distribution"
      ]
    },
    {
      "cell_type": "code",
      "metadata": {
        "id": "_5OIFWdjYJkb",
        "colab": {
          "base_uri": "https://localhost:8080/",
          "height": 337
        },
        "outputId": "a3a0c408-6777-48d2-e128-a1384d89242f"
      },
      "source": [
        "f, ((ax1, ax2), (ax3, ax4)) = plt.subplots(2, 2, figsize=(15,5))\n",
        "patient_grouped_df = patient_df.groupby('PatientGender')['PatientID'].nunique().reset_index()\n",
        "ax1.bar(patient_grouped_df[\"PatientGender\"],patient_grouped_df[\"PatientID\"])\n",
        "patient_grouped_df = patient_df.groupby('PatientRace')['PatientID'].nunique().reset_index()\n",
        "ax2.bar(patient_grouped_df[\"PatientRace\"],patient_grouped_df[\"PatientID\"])\n",
        "patient_grouped_df = patient_df.groupby('PatientMaritalStatus')['PatientID'].nunique().reset_index()\n",
        "ax3.bar(patient_grouped_df[\"PatientMaritalStatus\"],patient_grouped_df[\"PatientID\"])\n",
        "patient_grouped_df = patient_df.groupby('PatientLanguage')['PatientID'].nunique().reset_index()\n",
        "ax4.bar(patient_grouped_df[\"PatientLanguage\"],patient_grouped_df[\"PatientID\"])"
      ],
      "execution_count": 18,
      "outputs": [
        {
          "output_type": "execute_result",
          "data": {
            "text/plain": [
              "<BarContainer object of 4 artists>"
            ]
          },
          "metadata": {
            "tags": []
          },
          "execution_count": 18
        },
        {
          "output_type": "display_data",
          "data": {
            "image/png": "[encoded data removed]",
            "text/plain": [
              "<Figure size 1080x360 with 4 Axes>"
            ]
          },
          "metadata": {
            "tags": [],
            "needs_background": "light"
          }
        }
      ]
    },
    {
      "cell_type": "markdown",
      "metadata": {
        "id": "AMEDP-xgYJkc"
      },
      "source": [
        "The graphs show distribution of categories across the patients. The goal is to understand why some groups are favoured compared to others"
      ]
    },
    {
      "cell_type": "markdown",
      "metadata": {
        "id": "6azBPoTJYJkc"
      },
      "source": [
        "Creating age groups - Grouping creates categories of ages for better clustering"
      ]
    },
    {
      "cell_type": "code",
      "metadata": {
        "id": "BaBFFb9-YJkc",
        "colab": {
          "base_uri": "https://localhost:8080/",
          "height": 339
        },
        "outputId": "e3440ab3-fe17-4c34-d106-3a626df91b5e"
      },
      "source": [
        "bins = [0, 30, 40, 50, 60, 70, 80, 90, 100, 120]\n",
        "labels = ['<30', '30-39', '40-49', '50-59', '60-69', '70-79', '80-89', '90-99', '100>']\n",
        "patient_df['AgeRange'] = pd.cut(patient_df.Age, bins, labels = labels,include_lowest = True)\n",
        "\n",
        "plt.figure(figsize=(15,5))\n",
        "patient_grouped_df = patient_df.groupby('AgeRange')['PatientID'].nunique().reset_index()\n",
        "plt.bar(patient_grouped_df[\"AgeRange\"],patient_grouped_df[\"PatientID\"])"
      ],
      "execution_count": 19,
      "outputs": [
        {
          "output_type": "execute_result",
          "data": {
            "text/plain": [
              "<BarContainer object of 9 artists>"
            ]
          },
          "metadata": {
            "tags": []
          },
          "execution_count": 19
        },
        {
          "output_type": "display_data",
          "data": {
            "image/png": "[encoded data removed]",
            "text/plain": [
              "<Figure size 1080x360 with 1 Axes>"
            ]
          },
          "metadata": {
            "tags": [],
            "needs_background": "light"
          }
        }
      ]
    },
    {
      "cell_type": "markdown",
      "metadata": {
        "id": "v0AKJrigYJkd"
      },
      "source": [
        "### Admission Data Distribution"
      ]
    },
    {
      "cell_type": "code",
      "metadata": {
        "id": "u0Kr14WvYJkd",
        "colab": {
          "base_uri": "https://localhost:8080/",
          "height": 431
        },
        "outputId": "2aa93207-10c6-443e-80ab-4787e3f9cef8"
      },
      "source": [
        "f, ((ax1, ax2)) = plt.subplots(1, 2, figsize=(15,5))\n",
        "admission_grouped_df = admissions_df.groupby('AdmissionID')['PatientID'].nunique().reset_index()\n",
        "ax1.bar(admission_grouped_df[\"AdmissionID\"],admission_grouped_df[\"PatientID\"])\n",
        "admissions_df.boxplot(column=['num_hours'], by='AdmissionID', ax=ax2)"
      ],
      "execution_count": 26,
      "outputs": [
        {
          "output_type": "stream",
          "text": [
            "/usr/local/lib/python3.7/dist-packages/numpy/core/_asarray.py:83: VisibleDeprecationWarning: Creating an ndarray from ragged nested sequences (which is a list-or-tuple of lists-or-tuples-or ndarrays with different lengths or shapes) is deprecated. If you meant to do this, you must specify 'dtype=object' when creating the ndarray\n",
            "  return array(a, dtype, copy=False, order=order)\n"
          ],
          "name": "stderr"
        },
        {
          "output_type": "execute_result",
          "data": {
            "text/plain": [
              "<matplotlib.axes._subplots.AxesSubplot at 0x7f5658a9ab10>"
            ]
          },
          "metadata": {
            "tags": []
          },
          "execution_count": 26
        },
        {
          "output_type": "display_data",
          "data": {
            "image/png": "[encoded data removed]",
            "text/plain": [
              "<Figure size 1080x360 with 2 Axes>"
            ]
          },
          "metadata": {
            "tags": [],
            "needs_background": "light"
          }
        }
      ]
    },
    {
      "cell_type": "markdown",
      "metadata": {
        "id": "9q0fOo-EYJkd"
      },
      "source": [
        "The bar chart shows the earlier visits to have more patients. The boxplot shows the visit number which takes up most of the time."
      ]
    },
    {
      "cell_type": "markdown",
      "metadata": {
        "id": "uC6Gl7DKYJkd"
      },
      "source": [
        "### Diagnosis Data Distribution"
      ]
    },
    {
      "cell_type": "code",
      "metadata": {
        "id": "6NyP7j3QYJkd",
        "colab": {
          "base_uri": "https://localhost:8080/",
          "height": 203
        },
        "outputId": "b747ab20-78c8-4409-c99a-5c354317a4d3"
      },
      "source": [
        "diagnoses_grouped_df = diagnoses_df.groupby('PrimaryDiagnosisCode')['PatientID'].nunique().reset_index()\n",
        "diagnoses_grouped_df.head()"
      ],
      "execution_count": 27,
      "outputs": [
        {
          "output_type": "execute_result",
          "data": {
            "text/html": [
              "<div>\n",
              "<style scoped>\n",
              "    .dataframe tbody tr th:only-of-type {\n",
              "        vertical-align: middle;\n",
              "    }\n",
              "\n",
              "    .dataframe tbody tr th {\n",
              "        vertical-align: top;\n",
              "    }\n",
              "\n",
              "    .dataframe thead th {\n",
              "        text-align: right;\n",
              "    }\n",
              "</style>\n",
              "<table border=\"1\" class=\"dataframe\">\n",
              "  <thead>\n",
              "    <tr style=\"text-align: right;\">\n",
              "      <th></th>\n",
              "      <th>PrimaryDiagnosisCode</th>\n",
              "      <th>PatientID</th>\n",
              "    </tr>\n",
              "  </thead>\n",
              "  <tbody>\n",
              "    <tr>\n",
              "      <th>0</th>\n",
              "      <td>A42.0</td>\n",
              "      <td>1</td>\n",
              "    </tr>\n",
              "    <tr>\n",
              "      <th>1</th>\n",
              "      <td>A48.2</td>\n",
              "      <td>1</td>\n",
              "    </tr>\n",
              "    <tr>\n",
              "      <th>2</th>\n",
              "      <td>A52.0</td>\n",
              "      <td>1</td>\n",
              "    </tr>\n",
              "    <tr>\n",
              "      <th>3</th>\n",
              "      <td>A83.6</td>\n",
              "      <td>1</td>\n",
              "    </tr>\n",
              "    <tr>\n",
              "      <th>4</th>\n",
              "      <td>A98.3</td>\n",
              "      <td>1</td>\n",
              "    </tr>\n",
              "  </tbody>\n",
              "</table>\n",
              "</div>"
            ],
            "text/plain": [
              "  PrimaryDiagnosisCode  PatientID\n",
              "0                A42.0          1\n",
              "1                A48.2          1\n",
              "2                A52.0          1\n",
              "3                A83.6          1\n",
              "4                A98.3          1"
            ]
          },
          "metadata": {
            "tags": []
          },
          "execution_count": 27
        }
      ]
    },
    {
      "cell_type": "markdown",
      "metadata": {
        "id": "YJLDv--KYJke"
      },
      "source": [
        "Dividing the PrimaryDiagnosisCode into multiple columns to be able to create better clusters"
      ]
    },
    {
      "cell_type": "code",
      "metadata": {
        "id": "Ud8mSq2NYJke",
        "colab": {
          "base_uri": "https://localhost:8080/",
          "height": 371
        },
        "outputId": "3b2260d4-83dc-4c55-900e-96dbf68248a2"
      },
      "source": [
        "diagnoses_df[\"OverallDiagnosisCode\"] = diagnoses_df[\"PrimaryDiagnosisCode\"].str[0]\n",
        "\n",
        "diagnoses_df[\"DiagnosisCode1\"] = diagnoses_df[\"PrimaryDiagnosisCode\"].str.split(\".\")\n",
        "diagnoses_df[\"DiagnosisCode1\"] = diagnoses_df[\"DiagnosisCode1\"].apply(lambda x: x[0])\n",
        "\n",
        "diagnoses_df[\"DiagnosisCode2\"] = diagnoses_df[\"PrimaryDiagnosisCode\"].str.split(\".\")\n",
        "diagnoses_df[\"DiagnosisCode2\"] = diagnoses_df[\"DiagnosisCode2\"].apply(lambda x: \"\" if len(x) < 2 else x[1])\n",
        "\n",
        "diagnoses_df.head()"
      ],
      "execution_count": 28,
      "outputs": [
        {
          "output_type": "execute_result",
          "data": {
            "text/html": [
              "<div>\n",
              "<style scoped>\n",
              "    .dataframe tbody tr th:only-of-type {\n",
              "        vertical-align: middle;\n",
              "    }\n",
              "\n",
              "    .dataframe tbody tr th {\n",
              "        vertical-align: top;\n",
              "    }\n",
              "\n",
              "    .dataframe thead th {\n",
              "        text-align: right;\n",
              "    }\n",
              "</style>\n",
              "<table border=\"1\" class=\"dataframe\">\n",
              "  <thead>\n",
              "    <tr style=\"text-align: right;\">\n",
              "      <th></th>\n",
              "      <th>PatientID</th>\n",
              "      <th>AdmissionID</th>\n",
              "      <th>PrimaryDiagnosisCode</th>\n",
              "      <th>PrimaryDiagnosisDescription</th>\n",
              "      <th>OverallDiagnosisCode</th>\n",
              "      <th>DiagnosisCode1</th>\n",
              "      <th>DiagnosisCode2</th>\n",
              "    </tr>\n",
              "  </thead>\n",
              "  <tbody>\n",
              "    <tr>\n",
              "      <th>0</th>\n",
              "      <td>80AC01B2-BD55-4BE0-A59A-4024104CF4E9</td>\n",
              "      <td>2</td>\n",
              "      <td>M01.X</td>\n",
              "      <td>Direct infection of joint in infectious and pa...</td>\n",
              "      <td>M</td>\n",
              "      <td>M01</td>\n",
              "      <td>X</td>\n",
              "    </tr>\n",
              "    <tr>\n",
              "      <th>1</th>\n",
              "      <td>80AC01B2-BD55-4BE0-A59A-4024104CF4E9</td>\n",
              "      <td>3</td>\n",
              "      <td>D65</td>\n",
              "      <td>Disseminated intravascular coagulation [defibr...</td>\n",
              "      <td>D</td>\n",
              "      <td>D65</td>\n",
              "      <td></td>\n",
              "    </tr>\n",
              "    <tr>\n",
              "      <th>2</th>\n",
              "      <td>80AC01B2-BD55-4BE0-A59A-4024104CF4E9</td>\n",
              "      <td>4</td>\n",
              "      <td>C92.1</td>\n",
              "      <td>Chronic myeloid leukemia, BCR/ABL-positive</td>\n",
              "      <td>C</td>\n",
              "      <td>C92</td>\n",
              "      <td>1</td>\n",
              "    </tr>\n",
              "    <tr>\n",
              "      <th>3</th>\n",
              "      <td>80AC01B2-BD55-4BE0-A59A-4024104CF4E9</td>\n",
              "      <td>5</td>\n",
              "      <td>M05.51</td>\n",
              "      <td>Rheumatoid polyneuropathy with rheumatoid arth...</td>\n",
              "      <td>M</td>\n",
              "      <td>M05</td>\n",
              "      <td>51</td>\n",
              "    </tr>\n",
              "    <tr>\n",
              "      <th>4</th>\n",
              "      <td>6A57AC0C-57F3-4C19-98A1-51135EFBC4FF</td>\n",
              "      <td>1</td>\n",
              "      <td>C91.00</td>\n",
              "      <td>Acute lymphoblastic leukemia not having achiev...</td>\n",
              "      <td>C</td>\n",
              "      <td>C91</td>\n",
              "      <td>00</td>\n",
              "    </tr>\n",
              "  </tbody>\n",
              "</table>\n",
              "</div>"
            ],
            "text/plain": [
              "                              PatientID  ...  DiagnosisCode2\n",
              "0  80AC01B2-BD55-4BE0-A59A-4024104CF4E9  ...               X\n",
              "1  80AC01B2-BD55-4BE0-A59A-4024104CF4E9  ...                \n",
              "2  80AC01B2-BD55-4BE0-A59A-4024104CF4E9  ...               1\n",
              "3  80AC01B2-BD55-4BE0-A59A-4024104CF4E9  ...              51\n",
              "4  6A57AC0C-57F3-4C19-98A1-51135EFBC4FF  ...              00\n",
              "\n",
              "[5 rows x 7 columns]"
            ]
          },
          "metadata": {
            "tags": []
          },
          "execution_count": 28
        }
      ]
    },
    {
      "cell_type": "markdown",
      "metadata": {
        "id": "uouHzm9uYJke"
      },
      "source": [
        "Understanding the common OverallDiagnosisCode among different patients"
      ]
    },
    {
      "cell_type": "code",
      "metadata": {
        "id": "RDkFCgjaYJke",
        "colab": {
          "base_uri": "https://localhost:8080/",
          "height": 295
        },
        "outputId": "e5bf2549-13b3-40f7-f60e-e67078043ed4"
      },
      "source": [
        "diagnoses_grouped_df = diagnoses_df.groupby('OverallDiagnosisCode')['PatientID'].nunique().reset_index()\n",
        "diagnoses_grouped_df.plot.bar(x=\"OverallDiagnosisCode\" , y=\"PatientID\")"
      ],
      "execution_count": 29,
      "outputs": [
        {
          "output_type": "execute_result",
          "data": {
            "text/plain": [
              "<matplotlib.axes._subplots.AxesSubplot at 0x7f565878a490>"
            ]
          },
          "metadata": {
            "tags": []
          },
          "execution_count": 29
        },
        {
          "output_type": "display_data",
          "data": {
            "image/png": "[encoded data removed]",
            "text/plain": [
              "<Figure size 432x288 with 1 Axes>"
            ]
          },
          "metadata": {
            "tags": [],
            "needs_background": "light"
          }
        }
      ]
    },
    {
      "cell_type": "code",
      "metadata": {
        "id": "qC_knH2eYJke",
        "colab": {
          "base_uri": "https://localhost:8080/",
          "height": 982
        },
        "outputId": "78f0b94f-fc45-4f0e-bf9e-91cc80d773fb"
      },
      "source": [
        "diagnoses_df[diagnoses_df[\"OverallDiagnosisCode\"] == \"Z\"].head(15)"
      ],
      "execution_count": 30,
      "outputs": [
        {
          "output_type": "execute_result",
          "data": {
            "text/html": [
              "<div>\n",
              "<style scoped>\n",
              "    .dataframe tbody tr th:only-of-type {\n",
              "        vertical-align: middle;\n",
              "    }\n",
              "\n",
              "    .dataframe tbody tr th {\n",
              "        vertical-align: top;\n",
              "    }\n",
              "\n",
              "    .dataframe thead th {\n",
              "        text-align: right;\n",
              "    }\n",
              "</style>\n",
              "<table border=\"1\" class=\"dataframe\">\n",
              "  <thead>\n",
              "    <tr style=\"text-align: right;\">\n",
              "      <th></th>\n",
              "      <th>PatientID</th>\n",
              "      <th>AdmissionID</th>\n",
              "      <th>PrimaryDiagnosisCode</th>\n",
              "      <th>PrimaryDiagnosisDescription</th>\n",
              "      <th>OverallDiagnosisCode</th>\n",
              "      <th>DiagnosisCode1</th>\n",
              "      <th>DiagnosisCode2</th>\n",
              "    </tr>\n",
              "  </thead>\n",
              "  <tbody>\n",
              "    <tr>\n",
              "      <th>38</th>\n",
              "      <td>9C75DF1F-9DA6-4C98-8F5B-E10BDC805ED0</td>\n",
              "      <td>1</td>\n",
              "      <td>Z13.810</td>\n",
              "      <td>Encounter for screening for upper gastrointest...</td>\n",
              "      <td>Z</td>\n",
              "      <td>Z13</td>\n",
              "      <td>810</td>\n",
              "    </tr>\n",
              "    <tr>\n",
              "      <th>40</th>\n",
              "      <td>A19A0B00-4C9A-4206-B1FE-17E6DA3CEB0B</td>\n",
              "      <td>1</td>\n",
              "      <td>Z13.83</td>\n",
              "      <td>Encounter for screening for respiratory disord...</td>\n",
              "      <td>Z</td>\n",
              "      <td>Z13</td>\n",
              "      <td>83</td>\n",
              "    </tr>\n",
              "    <tr>\n",
              "      <th>54</th>\n",
              "      <td>FA157FA5-F488-4884-BF87-E144630D595C</td>\n",
              "      <td>5</td>\n",
              "      <td>Z13.85</td>\n",
              "      <td>Encounter for screening for nervous system dis...</td>\n",
              "      <td>Z</td>\n",
              "      <td>Z13</td>\n",
              "      <td>85</td>\n",
              "    </tr>\n",
              "    <tr>\n",
              "      <th>64</th>\n",
              "      <td>DA6CECFF-DE13-4C4C-919F-64E1A2B76C9D</td>\n",
              "      <td>4</td>\n",
              "      <td>Z22.31</td>\n",
              "      <td>Carrier of bacterial disease due to meningococci</td>\n",
              "      <td>Z</td>\n",
              "      <td>Z22</td>\n",
              "      <td>31</td>\n",
              "    </tr>\n",
              "    <tr>\n",
              "      <th>88</th>\n",
              "      <td>25B786AF-0F99-478C-9CFA-0EA607E45834</td>\n",
              "      <td>6</td>\n",
              "      <td>Z22.31</td>\n",
              "      <td>Carrier of bacterial disease due to meningococci</td>\n",
              "      <td>Z</td>\n",
              "      <td>Z22</td>\n",
              "      <td>31</td>\n",
              "    </tr>\n",
              "    <tr>\n",
              "      <th>135</th>\n",
              "      <td>69B5D2A0-12FD-46EF-A5FF-B29C4BAFBE49</td>\n",
              "      <td>1</td>\n",
              "      <td>Z91.15</td>\n",
              "      <td>Patient's noncompliance with renal dialysis</td>\n",
              "      <td>Z</td>\n",
              "      <td>Z91</td>\n",
              "      <td>15</td>\n",
              "    </tr>\n",
              "    <tr>\n",
              "      <th>141</th>\n",
              "      <td>8D389A8C-A6D8-4447-9DDE-1A28AB4EC667</td>\n",
              "      <td>2</td>\n",
              "      <td>Z13.22</td>\n",
              "      <td>Encounter for screening for metabolic disorder</td>\n",
              "      <td>Z</td>\n",
              "      <td>Z13</td>\n",
              "      <td>22</td>\n",
              "    </tr>\n",
              "    <tr>\n",
              "      <th>157</th>\n",
              "      <td>49DADA25-F2C2-42BB-8210-D78E6C7B0D48</td>\n",
              "      <td>1</td>\n",
              "      <td>Z12</td>\n",
              "      <td>Encounter for screening for malignant neoplasms</td>\n",
              "      <td>Z</td>\n",
              "      <td>Z12</td>\n",
              "      <td></td>\n",
              "    </tr>\n",
              "    <tr>\n",
              "      <th>218</th>\n",
              "      <td>9E18822E-7D13-45C7-B50E-F95CFF92BC3E</td>\n",
              "      <td>1</td>\n",
              "      <td>Z13.0</td>\n",
              "      <td>Encounter for screening for diseases of the bl...</td>\n",
              "      <td>Z</td>\n",
              "      <td>Z13</td>\n",
              "      <td>0</td>\n",
              "    </tr>\n",
              "    <tr>\n",
              "      <th>229</th>\n",
              "      <td>98F593D2-8894-49BB-93B9-5A0E2CF85E2E</td>\n",
              "      <td>1</td>\n",
              "      <td>Z12.2</td>\n",
              "      <td>Encounter for screening for malignant neoplasm...</td>\n",
              "      <td>Z</td>\n",
              "      <td>Z12</td>\n",
              "      <td>2</td>\n",
              "    </tr>\n",
              "    <tr>\n",
              "      <th>272</th>\n",
              "      <td>6623F5D6-D581-4268-9F9B-21612FBBF7B5</td>\n",
              "      <td>3</td>\n",
              "      <td>Z12.71</td>\n",
              "      <td>Encounter for screening for malignant neoplasm...</td>\n",
              "      <td>Z</td>\n",
              "      <td>Z12</td>\n",
              "      <td>71</td>\n",
              "    </tr>\n",
              "    <tr>\n",
              "      <th>298</th>\n",
              "      <td>C8556CC0-32FC-4CA5-A8CD-9CCF38816167</td>\n",
              "      <td>1</td>\n",
              "      <td>Z12.13</td>\n",
              "      <td>Encounter for screening for malignant neoplasm...</td>\n",
              "      <td>Z</td>\n",
              "      <td>Z12</td>\n",
              "      <td>13</td>\n",
              "    </tr>\n",
              "    <tr>\n",
              "      <th>299</th>\n",
              "      <td>C8556CC0-32FC-4CA5-A8CD-9CCF38816167</td>\n",
              "      <td>2</td>\n",
              "      <td>Z95.810</td>\n",
              "      <td>Presence of automatic (implantable) cardiac de...</td>\n",
              "      <td>Z</td>\n",
              "      <td>Z95</td>\n",
              "      <td>810</td>\n",
              "    </tr>\n",
              "    <tr>\n",
              "      <th>332</th>\n",
              "      <td>3231F930-2978-4F50-8234-755449851E7B</td>\n",
              "      <td>2</td>\n",
              "      <td>Z49</td>\n",
              "      <td>Encounter for care involving renal dialysis</td>\n",
              "      <td>Z</td>\n",
              "      <td>Z49</td>\n",
              "      <td></td>\n",
              "    </tr>\n",
              "    <tr>\n",
              "      <th>364</th>\n",
              "      <td>4C201C71-CCED-40D1-9642-F9C8C485B854</td>\n",
              "      <td>6</td>\n",
              "      <td>Z22.31</td>\n",
              "      <td>Carrier of bacterial disease due to meningococci</td>\n",
              "      <td>Z</td>\n",
              "      <td>Z22</td>\n",
              "      <td>31</td>\n",
              "    </tr>\n",
              "  </tbody>\n",
              "</table>\n",
              "</div>"
            ],
            "text/plain": [
              "                                PatientID  ...  DiagnosisCode2\n",
              "38   9C75DF1F-9DA6-4C98-8F5B-E10BDC805ED0  ...             810\n",
              "40   A19A0B00-4C9A-4206-B1FE-17E6DA3CEB0B  ...              83\n",
              "54   FA157FA5-F488-4884-BF87-E144630D595C  ...              85\n",
              "64   DA6CECFF-DE13-4C4C-919F-64E1A2B76C9D  ...              31\n",
              "88   25B786AF-0F99-478C-9CFA-0EA607E45834  ...              31\n",
              "135  69B5D2A0-12FD-46EF-A5FF-B29C4BAFBE49  ...              15\n",
              "141  8D389A8C-A6D8-4447-9DDE-1A28AB4EC667  ...              22\n",
              "157  49DADA25-F2C2-42BB-8210-D78E6C7B0D48  ...                \n",
              "218  9E18822E-7D13-45C7-B50E-F95CFF92BC3E  ...               0\n",
              "229  98F593D2-8894-49BB-93B9-5A0E2CF85E2E  ...               2\n",
              "272  6623F5D6-D581-4268-9F9B-21612FBBF7B5  ...              71\n",
              "298  C8556CC0-32FC-4CA5-A8CD-9CCF38816167  ...              13\n",
              "299  C8556CC0-32FC-4CA5-A8CD-9CCF38816167  ...             810\n",
              "332  3231F930-2978-4F50-8234-755449851E7B  ...                \n",
              "364  4C201C71-CCED-40D1-9642-F9C8C485B854  ...              31\n",
              "\n",
              "[15 rows x 7 columns]"
            ]
          },
          "metadata": {
            "tags": []
          },
          "execution_count": 30
        }
      ]
    },
    {
      "cell_type": "markdown",
      "metadata": {
        "id": "lSQwp5nPYJkf"
      },
      "source": [
        "The splitting of PrimaryDiagnosis to different columns makes sense when looking at the data above.\n",
        "For example the rows 2, 3 & 7 show how the descriptions vary with the specific detail when you compare the codes"
      ]
    },
    {
      "cell_type": "markdown",
      "metadata": {
        "id": "Rdl_RxhSYJkf"
      },
      "source": [
        "## Data Preparation"
      ]
    },
    {
      "cell_type": "markdown",
      "metadata": {
        "id": "LMLk9iGLYJkf"
      },
      "source": [
        "Combining the datasets into one dataframe"
      ]
    },
    {
      "cell_type": "code",
      "metadata": {
        "id": "BGVSKoDIYJkf",
        "colab": {
          "base_uri": "https://localhost:8080/",
          "height": 475
        },
        "outputId": "3d874518-8aa5-4528-ea47-184e3f7741b9"
      },
      "source": [
        "admitted_diagnoses_df = pd.merge(admissions_df,diagnoses_df,on=['PatientID','AdmissionID'], how='left')\n",
        "admitted_diagnoses_df.drop(columns=[\"AdmissionStartDate\", \"AdmissionEndDate\", \"PrimaryDiagnosisCode\", \"PrimaryDiagnosisDescription\"], inplace=True)\n",
        "admit_patient_diag_df = pd.merge(admitted_diagnoses_df,patient_df,on=['PatientID'], how='left')\n",
        "admit_patient_diag_df.drop(columns=[\"PatientDateOfBirth\", \"PatientPopulationPercentageBelowPoverty\", \"Age\"], inplace=True)\n",
        "# admit_patient_lab_diag_df = pd.merge(admit_patient_diag_df, labs_df, on=['PatientID', 'AdmissionID'], how='left')\n",
        "# admit_patient_lab_diag_df.drop(columns=[\"PatientID\", \"LabUnits\", \"LabDateTime\"], inplace=True)\n",
        "admit_patient_diag_df.head()"
      ],
      "execution_count": 31,
      "outputs": [
        {
          "output_type": "execute_result",
          "data": {
            "text/html": [
              "<div>\n",
              "<style scoped>\n",
              "    .dataframe tbody tr th:only-of-type {\n",
              "        vertical-align: middle;\n",
              "    }\n",
              "\n",
              "    .dataframe tbody tr th {\n",
              "        vertical-align: top;\n",
              "    }\n",
              "\n",
              "    .dataframe thead th {\n",
              "        text-align: right;\n",
              "    }\n",
              "</style>\n",
              "<table border=\"1\" class=\"dataframe\">\n",
              "  <thead>\n",
              "    <tr style=\"text-align: right;\">\n",
              "      <th></th>\n",
              "      <th>PatientID</th>\n",
              "      <th>AdmissionID</th>\n",
              "      <th>num_hours</th>\n",
              "      <th>OverallDiagnosisCode</th>\n",
              "      <th>DiagnosisCode1</th>\n",
              "      <th>DiagnosisCode2</th>\n",
              "      <th>PatientGender</th>\n",
              "      <th>PatientRace</th>\n",
              "      <th>PatientMaritalStatus</th>\n",
              "      <th>PatientLanguage</th>\n",
              "      <th>AgeRange</th>\n",
              "    </tr>\n",
              "  </thead>\n",
              "  <tbody>\n",
              "    <tr>\n",
              "      <th>0</th>\n",
              "      <td>7A025E77-7832-4F53-B9A7-09A3F98AC17E</td>\n",
              "      <td>7</td>\n",
              "      <td>226.0</td>\n",
              "      <td>F</td>\n",
              "      <td>F06</td>\n",
              "      <td>3</td>\n",
              "      <td>Female</td>\n",
              "      <td>Asian</td>\n",
              "      <td>Single</td>\n",
              "      <td>English</td>\n",
              "      <td>60-69</td>\n",
              "    </tr>\n",
              "    <tr>\n",
              "      <th>1</th>\n",
              "      <td>DCE5AEB8-6DB9-4106-8AE4-02CCC5C23741</td>\n",
              "      <td>1</td>\n",
              "      <td>310.0</td>\n",
              "      <td>K</td>\n",
              "      <td>K91</td>\n",
              "      <td></td>\n",
              "      <td>Female</td>\n",
              "      <td>White</td>\n",
              "      <td>Single</td>\n",
              "      <td>Unknown</td>\n",
              "      <td>50-59</td>\n",
              "    </tr>\n",
              "    <tr>\n",
              "      <th>2</th>\n",
              "      <td>DCE5AEB8-6DB9-4106-8AE4-02CCC5C23741</td>\n",
              "      <td>2</td>\n",
              "      <td>144.0</td>\n",
              "      <td>F</td>\n",
              "      <td>F40</td>\n",
              "      <td>01</td>\n",
              "      <td>Female</td>\n",
              "      <td>White</td>\n",
              "      <td>Single</td>\n",
              "      <td>Unknown</td>\n",
              "      <td>50-59</td>\n",
              "    </tr>\n",
              "    <tr>\n",
              "      <th>3</th>\n",
              "      <td>DCE5AEB8-6DB9-4106-8AE4-02CCC5C23741</td>\n",
              "      <td>3</td>\n",
              "      <td>130.0</td>\n",
              "      <td>C</td>\n",
              "      <td>C40</td>\n",
              "      <td>11</td>\n",
              "      <td>Female</td>\n",
              "      <td>White</td>\n",
              "      <td>Single</td>\n",
              "      <td>Unknown</td>\n",
              "      <td>50-59</td>\n",
              "    </tr>\n",
              "    <tr>\n",
              "      <th>4</th>\n",
              "      <td>886B5885-1EE2-49F3-98D5-A2F02EB8A9D4</td>\n",
              "      <td>1</td>\n",
              "      <td>406.0</td>\n",
              "      <td>M</td>\n",
              "      <td>M05</td>\n",
              "      <td>752</td>\n",
              "      <td>Female</td>\n",
              "      <td>Unknown</td>\n",
              "      <td>Married</td>\n",
              "      <td>English</td>\n",
              "      <td>40-49</td>\n",
              "    </tr>\n",
              "  </tbody>\n",
              "</table>\n",
              "</div>"
            ],
            "text/plain": [
              "                              PatientID  AdmissionID  ...  PatientLanguage AgeRange\n",
              "0  7A025E77-7832-4F53-B9A7-09A3F98AC17E            7  ...          English    60-69\n",
              "1  DCE5AEB8-6DB9-4106-8AE4-02CCC5C23741            1  ...          Unknown    50-59\n",
              "2  DCE5AEB8-6DB9-4106-8AE4-02CCC5C23741            2  ...          Unknown    50-59\n",
              "3  DCE5AEB8-6DB9-4106-8AE4-02CCC5C23741            3  ...          Unknown    50-59\n",
              "4  886B5885-1EE2-49F3-98D5-A2F02EB8A9D4            1  ...          English    40-49\n",
              "\n",
              "[5 rows x 11 columns]"
            ]
          },
          "metadata": {
            "tags": []
          },
          "execution_count": 31
        }
      ]
    },
    {
      "cell_type": "code",
      "metadata": {
        "id": "XNJrXmpXYJkf",
        "colab": {
          "base_uri": "https://localhost:8080/"
        },
        "outputId": "a73f471e-9534-4ee7-ba3e-ee447be4f2c8"
      },
      "source": [
        "admit_patient_diag_df.shape"
      ],
      "execution_count": 32,
      "outputs": [
        {
          "output_type": "execute_result",
          "data": {
            "text/plain": [
              "(372, 11)"
            ]
          },
          "metadata": {
            "tags": []
          },
          "execution_count": 32
        }
      ]
    },
    {
      "cell_type": "code",
      "metadata": {
        "id": "n8Gs6r8lYJkg",
        "colab": {
          "base_uri": "https://localhost:8080/"
        },
        "outputId": "d4c846b5-7c56-4ac1-9346-fd9f21e80c41"
      },
      "source": [
        "admit_patient_diag_df.dtypes"
      ],
      "execution_count": 33,
      "outputs": [
        {
          "output_type": "execute_result",
          "data": {
            "text/plain": [
              "PatientID                 object\n",
              "AdmissionID                int64\n",
              "num_hours                float64\n",
              "OverallDiagnosisCode      object\n",
              "DiagnosisCode1            object\n",
              "DiagnosisCode2            object\n",
              "PatientGender             object\n",
              "PatientRace               object\n",
              "PatientMaritalStatus      object\n",
              "PatientLanguage           object\n",
              "AgeRange                category\n",
              "dtype: object"
            ]
          },
          "metadata": {
            "tags": []
          },
          "execution_count": 33
        }
      ]
    },
    {
      "cell_type": "markdown",
      "metadata": {
        "id": "PymFcJVvYJkg"
      },
      "source": [
        "Converting the string values into categories and later into integers with integer encoding "
      ]
    },
    {
      "cell_type": "code",
      "metadata": {
        "id": "OqbszDp6YJkg"
      },
      "source": [
        "admit_patient_diag_df[\"OverallDiagnosisCode\"] = admit_patient_diag_df[\"OverallDiagnosisCode\"].astype('category')\n",
        "admit_patient_diag_df[\"DiagnosisCode1\"] = admit_patient_diag_df[\"DiagnosisCode1\"].astype('category')\n",
        "admit_patient_diag_df[\"DiagnosisCode2\"] = admit_patient_diag_df[\"DiagnosisCode2\"].astype('category')\n",
        "admit_patient_diag_df[\"PatientGender\"] = admit_patient_diag_df[\"PatientGender\"].astype('category')\n",
        "admit_patient_diag_df[\"PatientRace\"] = admit_patient_diag_df[\"PatientRace\"].astype('category')\n",
        "admit_patient_diag_df[\"PatientMaritalStatus\"] = admit_patient_diag_df[\"PatientMaritalStatus\"].astype('category')\n",
        "admit_patient_diag_df[\"PatientLanguage\"] = admit_patient_diag_df[\"PatientLanguage\"].astype('category')"
      ],
      "execution_count": 34,
      "outputs": []
    },
    {
      "cell_type": "code",
      "metadata": {
        "id": "1UoiMdayYJkg"
      },
      "source": [
        "admit_patient_diag_df[\"OverallDiagnosisCode_cat\"] = admit_patient_diag_df[\"OverallDiagnosisCode\"].cat.codes\n",
        "admit_patient_diag_df[\"DiagnosisCode1_cat\"] = admit_patient_diag_df[\"DiagnosisCode1\"].cat.codes\n",
        "admit_patient_diag_df[\"DiagnosisCode2_cat\"] = admit_patient_diag_df[\"DiagnosisCode2\"].cat.codes\n",
        "admit_patient_diag_df[\"PatientGender_cat\"] = admit_patient_diag_df[\"PatientGender\"].cat.codes\n",
        "admit_patient_diag_df[\"PatientRace_cat\"] = admit_patient_diag_df[\"PatientRace\"].cat.codes\n",
        "admit_patient_diag_df[\"PatientMaritalStatus_cat\"] = admit_patient_diag_df[\"PatientMaritalStatus\"].cat.codes\n",
        "admit_patient_diag_df[\"PatientLanguage_cat\"] = admit_patient_diag_df[\"PatientLanguage\"].cat.codes\n",
        "admit_patient_diag_df[\"AgeRange_cat\"] = admit_patient_diag_df[\"AgeRange\"].cat.codes"
      ],
      "execution_count": 35,
      "outputs": []
    },
    {
      "cell_type": "markdown",
      "metadata": {
        "id": "IEERE9idYJkg"
      },
      "source": [
        "## Modeling"
      ]
    },
    {
      "cell_type": "markdown",
      "metadata": {
        "id": "6FEvwZKXYJkh"
      },
      "source": [
        "### Data Preprocessing"
      ]
    },
    {
      "cell_type": "code",
      "metadata": {
        "id": "aO66dB-oYJkh"
      },
      "source": [
        "input_df = admit_patient_diag_df[['AdmissionID', 'num_hours', 'OverallDiagnosisCode_cat', 'DiagnosisCode1_cat',\n",
        "                                      'DiagnosisCode2_cat', 'PatientGender_cat', 'PatientRace_cat',\n",
        "                                      'PatientMaritalStatus_cat', 'PatientLanguage_cat', 'AgeRange_cat']]"
      ],
      "execution_count": 80,
      "outputs": []
    },
    {
      "cell_type": "code",
      "metadata": {
        "id": "mA0Tb5SPYJkh",
        "colab": {
          "base_uri": "https://localhost:8080/"
        },
        "outputId": "b7db6cb3-6aa0-4917-b96b-383353146dc2"
      },
      "source": [
        "input_df.shape"
      ],
      "execution_count": 81,
      "outputs": [
        {
          "output_type": "execute_result",
          "data": {
            "text/plain": [
              "(372, 10)"
            ]
          },
          "metadata": {
            "tags": []
          },
          "execution_count": 81
        }
      ]
    },
    {
      "cell_type": "code",
      "metadata": {
        "id": "2KEGSUhuYJkh",
        "colab": {
          "base_uri": "https://localhost:8080/"
        },
        "outputId": "14c2382a-34cd-4cf5-ceac-052a57b65bb3"
      },
      "source": [
        "input_df.columns"
      ],
      "execution_count": 82,
      "outputs": [
        {
          "output_type": "execute_result",
          "data": {
            "text/plain": [
              "Index(['AdmissionID', 'num_hours', 'OverallDiagnosisCode_cat',\n",
              "       'DiagnosisCode1_cat', 'DiagnosisCode2_cat', 'PatientGender_cat',\n",
              "       'PatientRace_cat', 'PatientMaritalStatus_cat', 'PatientLanguage_cat',\n",
              "       'AgeRange_cat'],\n",
              "      dtype='object')"
            ]
          },
          "metadata": {
            "tags": []
          },
          "execution_count": 82
        }
      ]
    },
    {
      "cell_type": "code",
      "metadata": {
        "id": "hcwO9GfJYJkh"
      },
      "source": [
        "# Converting dataframe to numpy array required for the model.\n",
        "input_numpy_arr_data = input_df.values"
      ],
      "execution_count": 83,
      "outputs": []
    },
    {
      "cell_type": "markdown",
      "metadata": {
        "id": "Q31LDby-YJki"
      },
      "source": [
        "### Initializing and training the model"
      ]
    },
    {
      "cell_type": "code",
      "metadata": {
        "id": "Dkmn1WK-YJki"
      },
      "source": [
        "# Using 6X6 neurons to learn from the data and create clusters\n",
        "som = MiniSom(6, 6, input_len = input_df.shape[1], sigma=0.5, learning_rate=0.5, random_seed=999)\n",
        "som.train_random(input_numpy_arr_data, 100)"
      ],
      "execution_count": 84,
      "outputs": []
    },
    {
      "cell_type": "markdown",
      "metadata": {
        "id": "QZvbW6M3YJki"
      },
      "source": [
        "adding seed to the model to ensure the winner does not change between each run."
      ]
    },
    {
      "cell_type": "markdown",
      "metadata": {
        "id": "OEGbijQlYJki"
      },
      "source": [
        "### Clustering a random data record"
      ]
    },
    {
      "cell_type": "code",
      "metadata": {
        "id": "-clIP4AkYJki",
        "colab": {
          "base_uri": "https://localhost:8080/"
        },
        "outputId": "5feb7e7d-f23c-4924-a4f7-afae7982f34b"
      },
      "source": [
        "# Finding which neuron is the winner(closest) to the test data\n",
        "print(som.winner(input_numpy_arr_data[random.randint(0,371)]))"
      ],
      "execution_count": 85,
      "outputs": [
        {
          "output_type": "stream",
          "text": [
            "(2, 1)\n"
          ],
          "name": "stdout"
        }
      ]
    },
    {
      "cell_type": "markdown",
      "metadata": {
        "id": "x4UNlLLdYJki"
      },
      "source": [
        "### How good is SOM performing"
      ]
    },
    {
      "cell_type": "code",
      "metadata": {
        "id": "njXlypY9YJkj",
        "colab": {
          "base_uri": "https://localhost:8080/"
        },
        "outputId": "e476de24-9da4-4851-c7af-5922b073c3e5"
      },
      "source": [
        "weights = som.get_weights().reshape(6*6, -1)\n",
        "\n",
        "# compute a few metrics\n",
        "print('Topographic product = ', topographic_product(rectangular_topology_dist((6,6)), weights))\n",
        "print('Neighborhood preservation = ', neighborhood_preservation(1, weights, input_numpy_arr_data))\n",
        "print('Trustworthiness = ', trustworthiness(1, weights, input_numpy_arr_data))"
      ],
      "execution_count": 86,
      "outputs": [
        {
          "output_type": "stream",
          "text": [
            "Topographic product =  0.10703060612558928\n",
            "Neighborhood preservation =  -0.5464109270560884\n",
            "Trustworthiness =  0.8189951652222967\n"
          ],
          "name": "stdout"
        }
      ]
    },
    {
      "cell_type": "markdown",
      "metadata": {
        "id": "N9Idt-OeYJkj"
      },
      "source": [
        "Manhattan distance generally works only if the points are arranged in the form of a grid and the problem which we are working on gives more priority to the distance between the points only along with the grids, but not the geometric distance.This gives us 81% trustworthiness."
      ]
    },
    {
      "cell_type": "markdown",
      "metadata": {
        "id": "LaHmct7mYJkj"
      },
      "source": [
        "### DBSCAN - Density-Based Spatial Clustering of Applications with Noise"
      ]
    },
    {
      "cell_type": "markdown",
      "metadata": {
        "id": "b33QXq0kYJkj"
      },
      "source": [
        "Comparing our results with another model gives us a good idea on how good the data actually is. I am using the DBSCAN model that decides the number of clusters within a dataset."
      ]
    },
    {
      "cell_type": "code",
      "metadata": {
        "id": "NloRlY7GYJkj",
        "colab": {
          "base_uri": "https://localhost:8080/"
        },
        "outputId": "cbae325d-e754-4611-e031-605a44c644da"
      },
      "source": [
        "dbscan = DBSCAN(eps=36, min_samples=10)\n",
        "# Fitting\n",
        "dbscan.fit(input_df)\n",
        "# Transoring Using PCA\n",
        "\n",
        "clustering_labels = dbscan.fit_predict(input_df)\n",
        "np.unique(clustering_labels)"
      ],
      "execution_count": 87,
      "outputs": [
        {
          "output_type": "execute_result",
          "data": {
            "text/plain": [
              "array([-1,  0,  1,  2,  3,  4])"
            ]
          },
          "metadata": {
            "tags": []
          },
          "execution_count": 87
        }
      ]
    },
    {
      "cell_type": "code",
      "metadata": {
        "id": "zRKtH33MYJkj",
        "colab": {
          "base_uri": "https://localhost:8080/"
        },
        "outputId": "334430de-96f5-44d2-8c83-44f4898f1dbd"
      },
      "source": [
        "metrics.silhouette_score(input_df, clustering_labels)"
      ],
      "execution_count": 88,
      "outputs": [
        {
          "output_type": "execute_result",
          "data": {
            "text/plain": [
              "-0.019685184553699466"
            ]
          },
          "metadata": {
            "tags": []
          },
          "execution_count": 88
        }
      ]
    },
    {
      "cell_type": "markdown",
      "metadata": {
        "id": "-FzKk2QrYJkk"
      },
      "source": [
        "Using DBSCAN has given a silhouette score of -0.019. Silhouette score close to 1 indicates that the clusters decided by DBSCAN were good enough, but anything close to zero or negative shows that the algorithm chose either less number of clusters or too many."
      ]
    },
    {
      "cell_type": "markdown",
      "metadata": {
        "id": "IDqIMt8ZYJkk"
      },
      "source": [
        "This proves that our model is better in terms of assigning data points to their relavent clusters."
      ]
    },
    {
      "cell_type": "markdown",
      "metadata": {
        "id": "EPc3HJo0YJkk"
      },
      "source": [
        "#### Visualizing DBSCAN clusters:"
      ]
    },
    {
      "cell_type": "code",
      "metadata": {
        "id": "_12A9nycYJkk",
        "colab": {
          "base_uri": "https://localhost:8080/",
          "height": 296
        },
        "outputId": "a7357cec-0d59-492b-8db1-1af9b30398cf"
      },
      "source": [
        "plt.scatter(input_df.iloc[:, 1], input_df.iloc[:, 2], c=clustering_labels, cmap=\"plasma\")\n",
        "plt.xlabel(\"Feature 1\")\n",
        "plt.ylabel(\"Feature 2\")"
      ],
      "execution_count": 89,
      "outputs": [
        {
          "output_type": "execute_result",
          "data": {
            "text/plain": [
              "Text(0, 0.5, 'Feature 2')"
            ]
          },
          "metadata": {
            "tags": []
          },
          "execution_count": 89
        },
        {
          "output_type": "display_data",
          "data": {
            "image/png": "[encoded data removed]",
            "text/plain": [
              "<Figure size 432x288 with 1 Axes>"
            ]
          },
          "metadata": {
            "tags": [],
            "needs_background": "light"
          }
        }
      ]
    },
    {
      "cell_type": "markdown",
      "metadata": {
        "id": "sxaiFOWxYJkk"
      },
      "source": [
        "The DBSCAN cluster plot at first glance doesnt make much sense but if you look closely you will notice that the blue dots which represent error(-1) cluster falls all over the place but other nodes are fairly clustered. The reason why DBSCAN does not perform well is because the number of error/unclustered data points are high compared to the clustered ones"
      ]
    },
    {
      "cell_type": "markdown",
      "metadata": {
        "id": "64P16547YJkk"
      },
      "source": [
        "### Plotting MiniSOM clusters"
      ]
    },
    {
      "cell_type": "code",
      "metadata": {
        "id": "7ub_kATpYJkl"
      },
      "source": [
        "labels = []\n",
        "for i in range(input_df.shape[0]):\n",
        "    labels.append(som.winner(input_numpy_arr_data[i]))\n",
        "input_df.insert(loc=0, column=\"labels_som\", value=pd.Series(labels))"
      ],
      "execution_count": 90,
      "outputs": []
    },
    {
      "cell_type": "code",
      "metadata": {
        "id": "0KCTNt1dYJkl",
        "colab": {
          "base_uri": "https://localhost:8080/",
          "height": 223
        },
        "outputId": "4fbe05b6-baa6-4961-9678-319ae1745c40"
      },
      "source": [
        "input_df.head()"
      ],
      "execution_count": 91,
      "outputs": [
        {
          "output_type": "execute_result",
          "data": {
            "text/html": [
              "<div>\n",
              "<style scoped>\n",
              "    .dataframe tbody tr th:only-of-type {\n",
              "        vertical-align: middle;\n",
              "    }\n",
              "\n",
              "    .dataframe tbody tr th {\n",
              "        vertical-align: top;\n",
              "    }\n",
              "\n",
              "    .dataframe thead th {\n",
              "        text-align: right;\n",
              "    }\n",
              "</style>\n",
              "<table border=\"1\" class=\"dataframe\">\n",
              "  <thead>\n",
              "    <tr style=\"text-align: right;\">\n",
              "      <th></th>\n",
              "      <th>labels_som</th>\n",
              "      <th>AdmissionID</th>\n",
              "      <th>num_hours</th>\n",
              "      <th>OverallDiagnosisCode_cat</th>\n",
              "      <th>DiagnosisCode1_cat</th>\n",
              "      <th>DiagnosisCode2_cat</th>\n",
              "      <th>PatientGender_cat</th>\n",
              "      <th>PatientRace_cat</th>\n",
              "      <th>PatientMaritalStatus_cat</th>\n",
              "      <th>PatientLanguage_cat</th>\n",
              "      <th>AgeRange_cat</th>\n",
              "    </tr>\n",
              "  </thead>\n",
              "  <tbody>\n",
              "    <tr>\n",
              "      <th>0</th>\n",
              "      <td>(1, 2)</td>\n",
              "      <td>7</td>\n",
              "      <td>226.0</td>\n",
              "      <td>5</td>\n",
              "      <td>78</td>\n",
              "      <td>48</td>\n",
              "      <td>0</td>\n",
              "      <td>1</td>\n",
              "      <td>3</td>\n",
              "      <td>0</td>\n",
              "      <td>4</td>\n",
              "    </tr>\n",
              "    <tr>\n",
              "      <th>1</th>\n",
              "      <td>(1, 1)</td>\n",
              "      <td>1</td>\n",
              "      <td>310.0</td>\n",
              "      <td>10</td>\n",
              "      <td>133</td>\n",
              "      <td>0</td>\n",
              "      <td>0</td>\n",
              "      <td>3</td>\n",
              "      <td>3</td>\n",
              "      <td>3</td>\n",
              "      <td>3</td>\n",
              "    </tr>\n",
              "    <tr>\n",
              "      <th>2</th>\n",
              "      <td>(2, 1)</td>\n",
              "      <td>2</td>\n",
              "      <td>144.0</td>\n",
              "      <td>5</td>\n",
              "      <td>90</td>\n",
              "      <td>3</td>\n",
              "      <td>0</td>\n",
              "      <td>3</td>\n",
              "      <td>3</td>\n",
              "      <td>3</td>\n",
              "      <td>3</td>\n",
              "    </tr>\n",
              "    <tr>\n",
              "      <th>3</th>\n",
              "      <td>(0, 1)</td>\n",
              "      <td>3</td>\n",
              "      <td>130.0</td>\n",
              "      <td>2</td>\n",
              "      <td>27</td>\n",
              "      <td>18</td>\n",
              "      <td>0</td>\n",
              "      <td>3</td>\n",
              "      <td>3</td>\n",
              "      <td>3</td>\n",
              "      <td>3</td>\n",
              "    </tr>\n",
              "    <tr>\n",
              "      <th>4</th>\n",
              "      <td>(1, 1)</td>\n",
              "      <td>1</td>\n",
              "      <td>406.0</td>\n",
              "      <td>11</td>\n",
              "      <td>136</td>\n",
              "      <td>111</td>\n",
              "      <td>0</td>\n",
              "      <td>2</td>\n",
              "      <td>1</td>\n",
              "      <td>0</td>\n",
              "      <td>2</td>\n",
              "    </tr>\n",
              "  </tbody>\n",
              "</table>\n",
              "</div>"
            ],
            "text/plain": [
              "  labels_som  AdmissionID  ...  PatientLanguage_cat  AgeRange_cat\n",
              "0     (1, 2)            7  ...                    0             4\n",
              "1     (1, 1)            1  ...                    3             3\n",
              "2     (2, 1)            2  ...                    3             3\n",
              "3     (0, 1)            3  ...                    3             3\n",
              "4     (1, 1)            1  ...                    0             2\n",
              "\n",
              "[5 rows x 11 columns]"
            ]
          },
          "metadata": {
            "tags": []
          },
          "execution_count": 91
        }
      ]
    },
    {
      "cell_type": "code",
      "metadata": {
        "id": "TUJrnWNqYJkl",
        "colab": {
          "base_uri": "https://localhost:8080/",
          "height": 296
        },
        "outputId": "b3d1f814-d2a0-44c0-83eb-f5ea9f3fad83"
      },
      "source": [
        "labels_list = pd.factorize(input_df['labels_som'].tolist())[0]\n",
        "plt.scatter(input_df.iloc[:, 2], input_df.iloc[:, 3], c=labels_list, cmap=\"plasma\")\n",
        "plt.xlabel(\"Feature 1\")\n",
        "plt.ylabel(\"Feature 2\")"
      ],
      "execution_count": 93,
      "outputs": [
        {
          "output_type": "execute_result",
          "data": {
            "text/plain": [
              "Text(0, 0.5, 'Feature 2')"
            ]
          },
          "metadata": {
            "tags": []
          },
          "execution_count": 93
        },
        {
          "output_type": "display_data",
          "data": {
            "image/png": "[encoded data removed]",
            "text/plain": [
              "<Figure size 432x288 with 1 Axes>"
            ]
          },
          "metadata": {
            "tags": [],
            "needs_background": "light"
          }
        }
      ]
    },
    {
      "cell_type": "markdown",
      "metadata": {
        "id": "SmNDlWm0YJkl"
      },
      "source": [
        "The SOM clusters are better defined compared to DBSCAN and this might be the driving factor for the model to perform well compared to DBSCAN."
      ]
    }
  ]
}