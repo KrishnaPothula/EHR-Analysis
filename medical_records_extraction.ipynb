{
  "nbformat": 4,
  "nbformat_minor": 0,
  "metadata": {
    "kernelspec": {
      "display_name": "Python 3",
      "language": "python",
      "name": "python3"
    },
    "colab": {
      "name": "medical_records_extraction.ipynb",
      "provenance": [],
      "collapsed_sections": [
        "aCJcK6rz2Pye"
      ],
      "toc_visible": true
    }
  },
  "cells": [
    {
      "cell_type": "markdown",
      "metadata": {
        "id": "Y5bxPD-p2PyT"
      },
      "source": [
        "## Problem Statement:"
      ]
    },
    {
      "cell_type": "markdown",
      "metadata": {
        "id": "deqU0_XN2PyZ"
      },
      "source": [
        "Medical decisioning depends on medical history of a patient. Doctors typically use past patient records from multiple visits collected through lab tests, procedures and patient diagnoses records to determine the right treatment. The medical history and patient demographics can be used to identify and analyse patterns that groups patients into cohorts.\n",
        "\n",
        "The cohorts formed vary in terms of diseases, test results and patient data. Electronic Health Records are a systematic way to collect huge amounts of digital health information from multiple sources. Accessing this data and using it to create the cohorts presents initial analysis and proper medical path to be followed for any patient dependingon the results from similar patients belonging to the same cohort.\n",
        "\n",
        "The problem is clearly identified as an unsupervised machine learning problem and I will use relevant algorithms to distinguish various cohorts based on their differences. Furthermore, this analysis can be used for drug analysis, identifying disease progression and much more.\n"
      ]
    },
    {
      "cell_type": "code",
      "metadata": {
        "colab": {
          "base_uri": "https://localhost:8080/"
        },
        "id": "DND5L4RHY2y5",
        "outputId": "4e9eb929-70d2-45c1-fddf-7b869068fff1"
      },
      "source": [
        "!unzip SOMperf.zip"
      ],
      "execution_count": null,
      "outputs": [
        {
          "output_type": "stream",
          "text": [
            "Archive:  SOMperf.zip\n",
            "f747ffff9b3b291a2f9b6bff184755b0f9c89c70\n",
            "   creating: SOMperf-master/\n",
            " extracting: SOMperf-master/.gitattributes  \n",
            "  inflating: SOMperf-master/.gitignore  \n",
            "  inflating: SOMperf-master/LICENSE  \n",
            "  inflating: SOMperf-master/README.md  \n",
            "  inflating: SOMperf-master/requirements.txt  \n",
            "  inflating: SOMperf-master/setup.py  \n",
            "   creating: SOMperf-master/somperf/\n",
            "  inflating: SOMperf-master/somperf/__init__.py  \n",
            "  inflating: SOMperf-master/somperf/__version__.py  \n",
            "   creating: SOMperf-master/somperf/metrics/\n",
            "  inflating: SOMperf-master/somperf/metrics/__init__.py  \n",
            "  inflating: SOMperf-master/somperf/metrics/external.py  \n",
            "  inflating: SOMperf-master/somperf/metrics/internal.py  \n",
            "   creating: SOMperf-master/somperf/utils/\n",
            "  inflating: SOMperf-master/somperf/utils/__init__.py  \n",
            "  inflating: SOMperf-master/somperf/utils/neighborhood.py  \n",
            "  inflating: SOMperf-master/somperf/utils/topology.py  \n",
            "   creating: SOMperf-master/tests/\n",
            "  inflating: SOMperf-master/tests/SOMperf-Tests.ipynb  \n",
            "   creating: SOMperf-master/tests/rc/\n",
            "  inflating: SOMperf-master/tests/rc/som-classes-csi-1.svg  \n",
            "  inflating: SOMperf-master/tests/rc/som-classes-csi-2.svg  \n",
            "  inflating: SOMperf-master/tests/rc/som-classes-csi-3.svg  \n",
            "  inflating: SOMperf-master/tests/rc/som-classes-superclusters.svg  \n",
            "  inflating: SOMperf-master/tests/rc/som-classes.svg  \n"
          ],
          "name": "stdout"
        }
      ]
    },
    {
      "cell_type": "code",
      "metadata": {
        "colab": {
          "base_uri": "https://localhost:8080/"
        },
        "id": "pkjBpw6tZSKg",
        "outputId": "ef540cc3-3520-4e7f-a373-60120dd2f365"
      },
      "source": [
        "!python SOMperf/setup.py install"
      ],
      "execution_count": null,
      "outputs": [
        {
          "output_type": "stream",
          "text": [
            "running install\n",
            "running bdist_egg\n",
            "running egg_info\n",
            "creating SOMperf.egg-info\n",
            "writing SOMperf.egg-info/PKG-INFO\n",
            "writing dependency_links to SOMperf.egg-info/dependency_links.txt\n",
            "writing requirements to SOMperf.egg-info/requires.txt\n",
            "writing top-level names to SOMperf.egg-info/top_level.txt\n",
            "writing manifest file 'SOMperf.egg-info/SOURCES.txt'\n",
            "reading manifest file 'SOMperf.egg-info/SOURCES.txt'\n",
            "writing manifest file 'SOMperf.egg-info/SOURCES.txt'\n",
            "installing library code to build/bdist.linux-x86_64/egg\n",
            "running install_lib\n",
            "warning: install_lib: 'build/lib' does not exist -- no Python modules to install\n",
            "\n",
            "creating build\n",
            "creating build/bdist.linux-x86_64\n",
            "creating build/bdist.linux-x86_64/egg\n",
            "creating build/bdist.linux-x86_64/egg/EGG-INFO\n",
            "copying SOMperf.egg-info/PKG-INFO -> build/bdist.linux-x86_64/egg/EGG-INFO\n",
            "copying SOMperf.egg-info/SOURCES.txt -> build/bdist.linux-x86_64/egg/EGG-INFO\n",
            "copying SOMperf.egg-info/dependency_links.txt -> build/bdist.linux-x86_64/egg/EGG-INFO\n",
            "copying SOMperf.egg-info/requires.txt -> build/bdist.linux-x86_64/egg/EGG-INFO\n",
            "copying SOMperf.egg-info/top_level.txt -> build/bdist.linux-x86_64/egg/EGG-INFO\n",
            "zip_safe flag not set; analyzing archive contents...\n",
            "creating dist\n",
            "creating 'dist/SOMperf-0.2b0-py3.7.egg' and adding 'build/bdist.linux-x86_64/egg' to it\n",
            "removing 'build/bdist.linux-x86_64/egg' (and everything under it)\n",
            "Processing SOMperf-0.2b0-py3.7.egg\n",
            "Copying SOMperf-0.2b0-py3.7.egg to /usr/local/lib/python3.7/dist-packages\n",
            "Adding SOMperf 0.2b0 to easy-install.pth file\n",
            "\n",
            "Installed /usr/local/lib/python3.7/dist-packages/SOMperf-0.2b0-py3.7.egg\n",
            "Processing dependencies for SOMperf==0.2b0\n",
            "Searching for MiniSom==2.2.9\n",
            "Best match: MiniSom 2.2.9\n",
            "Adding MiniSom 2.2.9 to easy-install.pth file\n",
            "\n",
            "Using /usr/local/lib/python3.7/dist-packages\n",
            "Finished processing dependencies for SOMperf==0.2b0\n"
          ],
          "name": "stdout"
        }
      ]
    },
    {
      "cell_type": "code",
      "metadata": {
        "colab": {
          "base_uri": "https://localhost:8080/"
        },
        "id": "M1Bbu38n2nKO",
        "outputId": "333b2980-ad85-42f2-b1a6-3272e1496b1a"
      },
      "source": [
        "pip install minisom"
      ],
      "execution_count": null,
      "outputs": [
        {
          "output_type": "stream",
          "text": [
            "Collecting minisom\n",
            "  Downloading https://files.pythonhosted.org/packages/88/c9/7ef2caebca23a1f1803a057c3df1aef219e230acc4fa824c0944432b6b7a/MiniSom-2.2.9.tar.gz\n",
            "Building wheels for collected packages: minisom\n",
            "  Building wheel for minisom (setup.py) ... \u001b[?25l\u001b[?25hdone\n",
            "  Created wheel for minisom: filename=MiniSom-2.2.9-cp37-none-any.whl size=8603 sha256=af2d4b65cad2ecb543e5059a7a2f66741ef2b1707a9f22c00292032c84d98c41\n",
            "  Stored in directory: /root/.cache/pip/wheels/de/a0/08/5234d6b02b29c561f62b6c985e2eb7d480fb0b92359a8c74e4\n",
            "Successfully built minisom\n",
            "Installing collected packages: minisom\n",
            "Successfully installed minisom-2.2.9\n"
          ],
          "name": "stdout"
        }
      ]
    },
    {
      "cell_type": "markdown",
      "metadata": {
        "id": "pGsQsx4U2Pya"
      },
      "source": [
        "## Import Libraries"
      ]
    },
    {
      "cell_type": "code",
      "metadata": {
        "colab": {
          "base_uri": "https://localhost:8080/",
          "height": 363
        },
        "id": "GpXWXWDb2Pya",
        "outputId": "cf675253-16b8-494a-d1f1-f73c3b325809"
      },
      "source": [
        "# in-built libraries\n",
        "import pandas as pd\n",
        "import numpy as np\n",
        "from matplotlib import pyplot as plt\n",
        "from datetime import datetime\n",
        "import matplotlib.dates as mdates\n",
        "from datetime import date\n",
        "import math\n",
        "from sklearn import metrics\n",
        "from sklearn.cluster import DBSCAN\n",
        "from sklearn.decomposition import PCA\n",
        "# external libraries\n",
        "# pip install -r requirements.txt\n",
        "from minisom import MiniSom\n",
        "# downloaded from https://github.com/FlorentF9/SOMperf.git\n",
        "from SOMperf.somperf.metrics import *\n",
        "from SOMperf.somperf.utils.topology import rectangular_topology_dist"
      ],
      "execution_count": 1,
      "outputs": [
        {
          "output_type": "error",
          "ename": "ModuleNotFoundError",
          "evalue": "ignored",
          "traceback": [
            "\u001b[0;31m---------------------------------------------------------------------------\u001b[0m",
            "\u001b[0;31mModuleNotFoundError\u001b[0m                       Traceback (most recent call last)",
            "\u001b[0;32m<ipython-input-1-2a9d32b11166>\u001b[0m in \u001b[0;36m<module>\u001b[0;34m()\u001b[0m\n\u001b[1;32m     12\u001b[0m \u001b[0;31m# external libraries\u001b[0m\u001b[0;34m\u001b[0m\u001b[0;34m\u001b[0m\u001b[0;34m\u001b[0m\u001b[0m\n\u001b[1;32m     13\u001b[0m \u001b[0;31m# pip install -r requirements.txt\u001b[0m\u001b[0;34m\u001b[0m\u001b[0;34m\u001b[0m\u001b[0;34m\u001b[0m\u001b[0m\n\u001b[0;32m---> 14\u001b[0;31m \u001b[0;32mfrom\u001b[0m \u001b[0mminisom\u001b[0m \u001b[0;32mimport\u001b[0m \u001b[0mMiniSom\u001b[0m\u001b[0;34m\u001b[0m\u001b[0;34m\u001b[0m\u001b[0m\n\u001b[0m\u001b[1;32m     15\u001b[0m \u001b[0;31m# downloaded from https://github.com/FlorentF9/SOMperf.git\u001b[0m\u001b[0;34m\u001b[0m\u001b[0;34m\u001b[0m\u001b[0;34m\u001b[0m\u001b[0m\n\u001b[1;32m     16\u001b[0m \u001b[0;32mfrom\u001b[0m \u001b[0mSOMperf\u001b[0m\u001b[0;34m.\u001b[0m\u001b[0msomperf\u001b[0m\u001b[0;34m.\u001b[0m\u001b[0mmetrics\u001b[0m \u001b[0;32mimport\u001b[0m \u001b[0;34m*\u001b[0m\u001b[0;34m\u001b[0m\u001b[0;34m\u001b[0m\u001b[0m\n",
            "\u001b[0;31mModuleNotFoundError\u001b[0m: No module named 'minisom'",
            "",
            "\u001b[0;31m---------------------------------------------------------------------------\u001b[0;32m\nNOTE: If your import is failing due to a missing package, you can\nmanually install dependencies using either !pip or !apt.\n\nTo view examples of installing some common dependencies, click the\n\"Open Examples\" button below.\n\u001b[0;31m---------------------------------------------------------------------------\u001b[0m\n"
          ]
        }
      ]
    },
    {
      "cell_type": "markdown",
      "metadata": {
        "id": "ASCMwu5I2Pya"
      },
      "source": [
        "## Import Data"
      ]
    },
    {
      "cell_type": "code",
      "metadata": {
        "id": "gtOQiVJI2Pyb",
        "colab": {
          "base_uri": "https://localhost:8080/",
          "height": 467
        },
        "outputId": "70bf56c0-f5d3-488a-fd91-ff2c4c45101f"
      },
      "source": [
        "# There are 4 different text files each with data separated by tab space which we will import into individual datasets\n",
        "admissions_df = pd.read_csv(\"AdmissionsCorePopulatedTable.txt\", sep=\"\\t\")\n",
        "diagnoses_df = pd.read_csv(\"AdmissionsDiagnosesCorePopulatedTable.txt\", sep=\"\\t\")\n",
        "labs_df = pd.read_csv(\"LabsCorePopulatedTable.txt\", sep=\"\\t\")\n",
        "patient_df = pd.read_csv(\"PatientCorePopulatedTable.txt\", sep=\"\\t\")\n",
        "patient_df.head()"
      ],
      "execution_count": null,
      "outputs": [
        {
          "output_type": "execute_result",
          "data": {
            "text/html": [
              "<div>\n",
              "<style scoped>\n",
              "    .dataframe tbody tr th:only-of-type {\n",
              "        vertical-align: middle;\n",
              "    }\n",
              "\n",
              "    .dataframe tbody tr th {\n",
              "        vertical-align: top;\n",
              "    }\n",
              "\n",
              "    .dataframe thead th {\n",
              "        text-align: right;\n",
              "    }\n",
              "</style>\n",
              "<table border=\"1\" class=\"dataframe\">\n",
              "  <thead>\n",
              "    <tr style=\"text-align: right;\">\n",
              "      <th></th>\n",
              "      <th>PatientID</th>\n",
              "      <th>PatientGender</th>\n",
              "      <th>PatientDateOfBirth</th>\n",
              "      <th>PatientRace</th>\n",
              "      <th>PatientMaritalStatus</th>\n",
              "      <th>PatientLanguage</th>\n",
              "      <th>PatientPopulationPercentageBelowPoverty</th>\n",
              "    </tr>\n",
              "  </thead>\n",
              "  <tbody>\n",
              "    <tr>\n",
              "      <th>0</th>\n",
              "      <td>FB2ABB23-C9D0-4D09-8464-49BF0B982F0F</td>\n",
              "      <td>Male</td>\n",
              "      <td>1947-12-28 02:45:40.547</td>\n",
              "      <td>Unknown</td>\n",
              "      <td>Married</td>\n",
              "      <td>Icelandic</td>\n",
              "      <td>18.08</td>\n",
              "    </tr>\n",
              "    <tr>\n",
              "      <th>1</th>\n",
              "      <td>64182B95-EB72-4E2B-BE77-8050B71498CE</td>\n",
              "      <td>Male</td>\n",
              "      <td>1952-01-18 19:51:12.917</td>\n",
              "      <td>African American</td>\n",
              "      <td>Separated</td>\n",
              "      <td>English</td>\n",
              "      <td>13.03</td>\n",
              "    </tr>\n",
              "    <tr>\n",
              "      <th>2</th>\n",
              "      <td>DB22A4D9-7E4D-485C-916A-9CD1386507FB</td>\n",
              "      <td>Female</td>\n",
              "      <td>1970-07-25 13:04:20.717</td>\n",
              "      <td>Asian</td>\n",
              "      <td>Married</td>\n",
              "      <td>English</td>\n",
              "      <td>6.67</td>\n",
              "    </tr>\n",
              "    <tr>\n",
              "      <th>3</th>\n",
              "      <td>6E70D84D-C75F-477C-BC37-9177C3698C66</td>\n",
              "      <td>Male</td>\n",
              "      <td>1979-01-04 05:45:29.580</td>\n",
              "      <td>White</td>\n",
              "      <td>Married</td>\n",
              "      <td>English</td>\n",
              "      <td>16.09</td>\n",
              "    </tr>\n",
              "    <tr>\n",
              "      <th>4</th>\n",
              "      <td>C8556CC0-32FC-4CA5-A8CD-9CCF38816167</td>\n",
              "      <td>Female</td>\n",
              "      <td>1921-04-11 11:39:49.197</td>\n",
              "      <td>White</td>\n",
              "      <td>Married</td>\n",
              "      <td>English</td>\n",
              "      <td>18.20</td>\n",
              "    </tr>\n",
              "  </tbody>\n",
              "</table>\n",
              "</div>"
            ],
            "text/plain": [
              "                              PatientID  ... PatientPopulationPercentageBelowPoverty\n",
              "0  FB2ABB23-C9D0-4D09-8464-49BF0B982F0F  ...                                   18.08\n",
              "1  64182B95-EB72-4E2B-BE77-8050B71498CE  ...                                   13.03\n",
              "2  DB22A4D9-7E4D-485C-916A-9CD1386507FB  ...                                    6.67\n",
              "3  6E70D84D-C75F-477C-BC37-9177C3698C66  ...                                   16.09\n",
              "4  C8556CC0-32FC-4CA5-A8CD-9CCF38816167  ...                                   18.20\n",
              "\n",
              "[5 rows x 7 columns]"
            ]
          },
          "metadata": {
            "tags": []
          },
          "execution_count": 12
        }
      ]
    },
    {
      "cell_type": "code",
      "metadata": {
        "id": "6a8OD6X42Pyc",
        "colab": {
          "base_uri": "https://localhost:8080/",
          "height": 279
        },
        "outputId": "f27a0241-bbed-4d76-9e07-c9b6e38f7779"
      },
      "source": [
        "admissions_df.head()"
      ],
      "execution_count": null,
      "outputs": [
        {
          "output_type": "execute_result",
          "data": {
            "text/html": [
              "<div>\n",
              "<style scoped>\n",
              "    .dataframe tbody tr th:only-of-type {\n",
              "        vertical-align: middle;\n",
              "    }\n",
              "\n",
              "    .dataframe tbody tr th {\n",
              "        vertical-align: top;\n",
              "    }\n",
              "\n",
              "    .dataframe thead th {\n",
              "        text-align: right;\n",
              "    }\n",
              "</style>\n",
              "<table border=\"1\" class=\"dataframe\">\n",
              "  <thead>\n",
              "    <tr style=\"text-align: right;\">\n",
              "      <th></th>\n",
              "      <th>PatientID</th>\n",
              "      <th>AdmissionID</th>\n",
              "      <th>AdmissionStartDate</th>\n",
              "      <th>AdmissionEndDate</th>\n",
              "    </tr>\n",
              "  </thead>\n",
              "  <tbody>\n",
              "    <tr>\n",
              "      <th>0</th>\n",
              "      <td>7A025E77-7832-4F53-B9A7-09A3F98AC17E</td>\n",
              "      <td>7</td>\n",
              "      <td>2011-10-12 14:55:02.027</td>\n",
              "      <td>2011-10-22 01:16:07.557</td>\n",
              "    </tr>\n",
              "    <tr>\n",
              "      <th>1</th>\n",
              "      <td>DCE5AEB8-6DB9-4106-8AE4-02CCC5C23741</td>\n",
              "      <td>1</td>\n",
              "      <td>1993-02-11 18:57:04.003</td>\n",
              "      <td>1993-02-24 17:22:29.713</td>\n",
              "    </tr>\n",
              "    <tr>\n",
              "      <th>2</th>\n",
              "      <td>DCE5AEB8-6DB9-4106-8AE4-02CCC5C23741</td>\n",
              "      <td>2</td>\n",
              "      <td>2002-11-28 19:06:31.117</td>\n",
              "      <td>2002-12-04 19:14:40.797</td>\n",
              "    </tr>\n",
              "    <tr>\n",
              "      <th>3</th>\n",
              "      <td>DCE5AEB8-6DB9-4106-8AE4-02CCC5C23741</td>\n",
              "      <td>3</td>\n",
              "      <td>2011-07-19 18:42:45.287</td>\n",
              "      <td>2011-07-25 04:57:42.053</td>\n",
              "    </tr>\n",
              "    <tr>\n",
              "      <th>4</th>\n",
              "      <td>886B5885-1EE2-49F3-98D5-A2F02EB8A9D4</td>\n",
              "      <td>1</td>\n",
              "      <td>1994-12-03 22:20:46.077</td>\n",
              "      <td>1994-12-20 20:24:56.010</td>\n",
              "    </tr>\n",
              "  </tbody>\n",
              "</table>\n",
              "</div>"
            ],
            "text/plain": [
              "                              PatientID  ...         AdmissionEndDate\n",
              "0  7A025E77-7832-4F53-B9A7-09A3F98AC17E  ...  2011-10-22 01:16:07.557\n",
              "1  DCE5AEB8-6DB9-4106-8AE4-02CCC5C23741  ...  1993-02-24 17:22:29.713\n",
              "2  DCE5AEB8-6DB9-4106-8AE4-02CCC5C23741  ...  2002-12-04 19:14:40.797\n",
              "3  DCE5AEB8-6DB9-4106-8AE4-02CCC5C23741  ...  2011-07-25 04:57:42.053\n",
              "4  886B5885-1EE2-49F3-98D5-A2F02EB8A9D4  ...  1994-12-20 20:24:56.010\n",
              "\n",
              "[5 rows x 4 columns]"
            ]
          },
          "metadata": {
            "tags": []
          },
          "execution_count": 13
        }
      ]
    },
    {
      "cell_type": "code",
      "metadata": {
        "id": "R9SWZzKU2Pyc",
        "colab": {
          "base_uri": "https://localhost:8080/",
          "height": 363
        },
        "outputId": "10ac40a1-90ad-4e77-9d13-ff64bc94a555"
      },
      "source": [
        "diagnoses_df.head()"
      ],
      "execution_count": null,
      "outputs": [
        {
          "output_type": "execute_result",
          "data": {
            "text/html": [
              "<div>\n",
              "<style scoped>\n",
              "    .dataframe tbody tr th:only-of-type {\n",
              "        vertical-align: middle;\n",
              "    }\n",
              "\n",
              "    .dataframe tbody tr th {\n",
              "        vertical-align: top;\n",
              "    }\n",
              "\n",
              "    .dataframe thead th {\n",
              "        text-align: right;\n",
              "    }\n",
              "</style>\n",
              "<table border=\"1\" class=\"dataframe\">\n",
              "  <thead>\n",
              "    <tr style=\"text-align: right;\">\n",
              "      <th></th>\n",
              "      <th>PatientID</th>\n",
              "      <th>AdmissionID</th>\n",
              "      <th>PrimaryDiagnosisCode</th>\n",
              "      <th>PrimaryDiagnosisDescription</th>\n",
              "    </tr>\n",
              "  </thead>\n",
              "  <tbody>\n",
              "    <tr>\n",
              "      <th>0</th>\n",
              "      <td>80AC01B2-BD55-4BE0-A59A-4024104CF4E9</td>\n",
              "      <td>2</td>\n",
              "      <td>M01.X</td>\n",
              "      <td>Direct infection of joint in infectious and pa...</td>\n",
              "    </tr>\n",
              "    <tr>\n",
              "      <th>1</th>\n",
              "      <td>80AC01B2-BD55-4BE0-A59A-4024104CF4E9</td>\n",
              "      <td>3</td>\n",
              "      <td>D65</td>\n",
              "      <td>Disseminated intravascular coagulation [defibr...</td>\n",
              "    </tr>\n",
              "    <tr>\n",
              "      <th>2</th>\n",
              "      <td>80AC01B2-BD55-4BE0-A59A-4024104CF4E9</td>\n",
              "      <td>4</td>\n",
              "      <td>C92.1</td>\n",
              "      <td>Chronic myeloid leukemia, BCR/ABL-positive</td>\n",
              "    </tr>\n",
              "    <tr>\n",
              "      <th>3</th>\n",
              "      <td>80AC01B2-BD55-4BE0-A59A-4024104CF4E9</td>\n",
              "      <td>5</td>\n",
              "      <td>M05.51</td>\n",
              "      <td>Rheumatoid polyneuropathy with rheumatoid arth...</td>\n",
              "    </tr>\n",
              "    <tr>\n",
              "      <th>4</th>\n",
              "      <td>6A57AC0C-57F3-4C19-98A1-51135EFBC4FF</td>\n",
              "      <td>1</td>\n",
              "      <td>C91.00</td>\n",
              "      <td>Acute lymphoblastic leukemia not having achiev...</td>\n",
              "    </tr>\n",
              "  </tbody>\n",
              "</table>\n",
              "</div>"
            ],
            "text/plain": [
              "                              PatientID  ...                        PrimaryDiagnosisDescription\n",
              "0  80AC01B2-BD55-4BE0-A59A-4024104CF4E9  ...  Direct infection of joint in infectious and pa...\n",
              "1  80AC01B2-BD55-4BE0-A59A-4024104CF4E9  ...  Disseminated intravascular coagulation [defibr...\n",
              "2  80AC01B2-BD55-4BE0-A59A-4024104CF4E9  ...         Chronic myeloid leukemia, BCR/ABL-positive\n",
              "3  80AC01B2-BD55-4BE0-A59A-4024104CF4E9  ...  Rheumatoid polyneuropathy with rheumatoid arth...\n",
              "4  6A57AC0C-57F3-4C19-98A1-51135EFBC4FF  ...  Acute lymphoblastic leukemia not having achiev...\n",
              "\n",
              "[5 rows x 4 columns]"
            ]
          },
          "metadata": {
            "tags": []
          },
          "execution_count": 14
        }
      ]
    },
    {
      "cell_type": "markdown",
      "metadata": {
        "id": "R6g71rhw2Pyc"
      },
      "source": [
        "## Data Cleaning"
      ]
    },
    {
      "cell_type": "code",
      "metadata": {
        "id": "24FSeMhI2Pyd"
      },
      "source": [
        "# Function to calculate age compared to todays date\n",
        "def calculate_age(birth_date):\n",
        "        today = date.today()\n",
        "        age = today.year - birth_date.year\n",
        "        full_year_passed = (today.month, today.day) < (birth_date.month, birth_date.day)\n",
        "        if not full_year_passed:\n",
        "            age -= 1\n",
        "        return age"
      ],
      "execution_count": null,
      "outputs": []
    },
    {
      "cell_type": "code",
      "metadata": {
        "id": "4r53qiH22Pyd"
      },
      "source": [
        "# Adding the age column to the dataset\n",
        "myFmt = mdates.DateFormatter('%d')\n",
        "patient_df[\"PatientDateOfBirth\"] = patient_df[\"PatientDateOfBirth\"].apply(lambda x: datetime.strptime(x, '%Y-%m-%d %H:%M:%S.%f'))\n",
        "patient_df[\"Age\"] = patient_df[\"PatientDateOfBirth\"].apply(calculate_age)"
      ],
      "execution_count": null,
      "outputs": []
    },
    {
      "cell_type": "markdown",
      "metadata": {
        "id": "kH4HCicq2Pyd"
      },
      "source": [
        "Converting AdmissionStartDate and AdmissionEndDate into datetime64 format to calculate the number of hours spent in admission"
      ]
    },
    {
      "cell_type": "code",
      "metadata": {
        "id": "r9AgJeXS2Pyd"
      },
      "source": [
        "admissions_df[\"AdmissionStartDate\"] = admissions_df[\"AdmissionStartDate\"].apply(lambda x: datetime.strptime(x, '%Y-%m-%d %H:%M:%S.%f'))\n",
        "admissions_df[\"AdmissionEndDate\"] = admissions_df[\"AdmissionEndDate\"].apply(lambda x: datetime.strptime(x, '%Y-%m-%d %H:%M:%S.%f'))"
      ],
      "execution_count": null,
      "outputs": []
    },
    {
      "cell_type": "code",
      "metadata": {
        "id": "cwdK_kQU2Pye",
        "colab": {
          "base_uri": "https://localhost:8080/"
        },
        "outputId": "03f19a34-c672-4b1b-e2f8-f7eaa80baa3f"
      },
      "source": [
        "admissions_df.dtypes"
      ],
      "execution_count": null,
      "outputs": [
        {
          "output_type": "execute_result",
          "data": {
            "text/plain": [
              "PatientID                     object\n",
              "AdmissionID                    int64\n",
              "AdmissionStartDate    datetime64[ns]\n",
              "AdmissionEndDate      datetime64[ns]\n",
              "dtype: object"
            ]
          },
          "metadata": {
            "tags": []
          },
          "execution_count": 18
        }
      ]
    },
    {
      "cell_type": "code",
      "metadata": {
        "id": "ITKv8SYP2Pye"
      },
      "source": [
        "admissions_df[\"num_hours\"] = (admissions_df.AdmissionEndDate-admissions_df.AdmissionStartDate).astype('timedelta64[h]')"
      ],
      "execution_count": null,
      "outputs": []
    },
    {
      "cell_type": "code",
      "metadata": {
        "id": "6dA6XLFP2Pye",
        "colab": {
          "base_uri": "https://localhost:8080/",
          "height": 279
        },
        "outputId": "f3c5704b-3965-455a-bdf8-528f09b10c11"
      },
      "source": [
        "admissions_df.head()"
      ],
      "execution_count": null,
      "outputs": [
        {
          "output_type": "execute_result",
          "data": {
            "text/html": [
              "<div>\n",
              "<style scoped>\n",
              "    .dataframe tbody tr th:only-of-type {\n",
              "        vertical-align: middle;\n",
              "    }\n",
              "\n",
              "    .dataframe tbody tr th {\n",
              "        vertical-align: top;\n",
              "    }\n",
              "\n",
              "    .dataframe thead th {\n",
              "        text-align: right;\n",
              "    }\n",
              "</style>\n",
              "<table border=\"1\" class=\"dataframe\">\n",
              "  <thead>\n",
              "    <tr style=\"text-align: right;\">\n",
              "      <th></th>\n",
              "      <th>PatientID</th>\n",
              "      <th>AdmissionID</th>\n",
              "      <th>AdmissionStartDate</th>\n",
              "      <th>AdmissionEndDate</th>\n",
              "      <th>num_hours</th>\n",
              "    </tr>\n",
              "  </thead>\n",
              "  <tbody>\n",
              "    <tr>\n",
              "      <th>0</th>\n",
              "      <td>7A025E77-7832-4F53-B9A7-09A3F98AC17E</td>\n",
              "      <td>7</td>\n",
              "      <td>2011-10-12 14:55:02.027</td>\n",
              "      <td>2011-10-22 01:16:07.557</td>\n",
              "      <td>226.0</td>\n",
              "    </tr>\n",
              "    <tr>\n",
              "      <th>1</th>\n",
              "      <td>DCE5AEB8-6DB9-4106-8AE4-02CCC5C23741</td>\n",
              "      <td>1</td>\n",
              "      <td>1993-02-11 18:57:04.003</td>\n",
              "      <td>1993-02-24 17:22:29.713</td>\n",
              "      <td>310.0</td>\n",
              "    </tr>\n",
              "    <tr>\n",
              "      <th>2</th>\n",
              "      <td>DCE5AEB8-6DB9-4106-8AE4-02CCC5C23741</td>\n",
              "      <td>2</td>\n",
              "      <td>2002-11-28 19:06:31.117</td>\n",
              "      <td>2002-12-04 19:14:40.797</td>\n",
              "      <td>144.0</td>\n",
              "    </tr>\n",
              "    <tr>\n",
              "      <th>3</th>\n",
              "      <td>DCE5AEB8-6DB9-4106-8AE4-02CCC5C23741</td>\n",
              "      <td>3</td>\n",
              "      <td>2011-07-19 18:42:45.287</td>\n",
              "      <td>2011-07-25 04:57:42.053</td>\n",
              "      <td>130.0</td>\n",
              "    </tr>\n",
              "    <tr>\n",
              "      <th>4</th>\n",
              "      <td>886B5885-1EE2-49F3-98D5-A2F02EB8A9D4</td>\n",
              "      <td>1</td>\n",
              "      <td>1994-12-03 22:20:46.077</td>\n",
              "      <td>1994-12-20 20:24:56.010</td>\n",
              "      <td>406.0</td>\n",
              "    </tr>\n",
              "  </tbody>\n",
              "</table>\n",
              "</div>"
            ],
            "text/plain": [
              "                              PatientID  ...  num_hours\n",
              "0  7A025E77-7832-4F53-B9A7-09A3F98AC17E  ...      226.0\n",
              "1  DCE5AEB8-6DB9-4106-8AE4-02CCC5C23741  ...      310.0\n",
              "2  DCE5AEB8-6DB9-4106-8AE4-02CCC5C23741  ...      144.0\n",
              "3  DCE5AEB8-6DB9-4106-8AE4-02CCC5C23741  ...      130.0\n",
              "4  886B5885-1EE2-49F3-98D5-A2F02EB8A9D4  ...      406.0\n",
              "\n",
              "[5 rows x 5 columns]"
            ]
          },
          "metadata": {
            "tags": []
          },
          "execution_count": 20
        }
      ]
    },
    {
      "cell_type": "markdown",
      "metadata": {
        "id": "hP9s4KWW2Pye"
      },
      "source": [
        "## Visualization and Analysis"
      ]
    },
    {
      "cell_type": "markdown",
      "metadata": {
        "id": "aCJcK6rz2Pye"
      },
      "source": [
        "### Patient Data Distribution"
      ]
    },
    {
      "cell_type": "code",
      "metadata": {
        "id": "p2iRst4R2Pyf",
        "colab": {
          "base_uri": "https://localhost:8080/",
          "height": 266
        },
        "outputId": "41a2ebfb-19b9-4b4e-c912-dd5b6ffda4be"
      },
      "source": [
        "f, ((ax1, ax2), (ax3, ax4)) = plt.subplots(2, 2, figsize=(15,5))\n",
        "patient_grouped_df = patient_df.groupby('PatientGender')['PatientID'].nunique().reset_index()\n",
        "ax1.bar(patient_grouped_df[\"PatientGender\"],patient_grouped_df[\"PatientID\"])\n",
        "patient_grouped_df = patient_df.groupby('PatientRace')['PatientID'].nunique().reset_index()\n",
        "ax2.bar(patient_grouped_df[\"PatientRace\"],patient_grouped_df[\"PatientID\"])\n",
        "patient_grouped_df = patient_df.groupby('PatientMaritalStatus')['PatientID'].nunique().reset_index()\n",
        "ax3.bar(patient_grouped_df[\"PatientMaritalStatus\"],patient_grouped_df[\"PatientID\"])\n",
        "patient_grouped_df = patient_df.groupby('PatientLanguage')['PatientID'].nunique().reset_index()\n",
        "ax4.bar(patient_grouped_df[\"PatientLanguage\"],patient_grouped_df[\"PatientID\"])"
      ],
      "execution_count": null,
      "outputs": [
        {
          "output_type": "execute_result",
          "data": {
            "text/plain": [
              "<BarContainer object of 4 artists>"
            ]
          },
          "metadata": {
            "tags": []
          },
          "execution_count": 22
        },
        {
          "output_type": "display_data",
          "data": {
            "image/png": "[encoded data removed]",
            "text/plain": [
              "<Figure size 1080x360 with 4 Axes>"
            ]
          },
          "metadata": {
            "tags": [],
            "needs_background": "light"
          }
        }
      ]
    },
    {
      "cell_type": "markdown",
      "metadata": {
        "id": "SnRa3Ovg2Pyf"
      },
      "source": [
        "The graphs show distribution of categories across the patients. The goal is to understand why some groups are favoured compared to others"
      ]
    },
    {
      "cell_type": "markdown",
      "metadata": {
        "id": "Hzu7ZF8O2Pyf"
      },
      "source": [
        "Creating age groups - Grouping creates categories of ages for better clustering"
      ]
    },
    {
      "cell_type": "code",
      "metadata": {
        "id": "pyGpkEu12Pyf",
        "colab": {
          "base_uri": "https://localhost:8080/",
          "height": 268
        },
        "outputId": "2d16a716-5086-4207-86af-2d4a7dd6115f"
      },
      "source": [
        "bins = [0, 30, 40, 50, 60, 70, 80, 90, 100, 120]\n",
        "labels = ['<30', '30-39', '40-49', '50-59', '60-69', '70-79', '80-89', '90-99', '100>']\n",
        "patient_df['AgeRange'] = pd.cut(patient_df.Age, bins, labels = labels,include_lowest = True)\n",
        "\n",
        "plt.figure(figsize=(15,5))\n",
        "patient_grouped_df = patient_df.groupby('AgeRange')['PatientID'].nunique().reset_index()\n",
        "plt.bar(patient_grouped_df[\"AgeRange\"],patient_grouped_df[\"PatientID\"])"
      ],
      "execution_count": null,
      "outputs": [
        {
          "output_type": "execute_result",
          "data": {
            "text/plain": [
              "<BarContainer object of 9 artists>"
            ]
          },
          "metadata": {
            "tags": []
          },
          "execution_count": 23
        },
        {
          "output_type": "display_data",
          "data": {
            "image/png": "[encoded data removed]",
            "text/plain": [
              "<Figure size 1080x360 with 1 Axes>"
            ]
          },
          "metadata": {
            "tags": [],
            "needs_background": "light"
          }
        }
      ]
    },
    {
      "cell_type": "markdown",
      "metadata": {
        "id": "gqnNN1m12Pyg"
      },
      "source": [
        "### Admission Data Distribution"
      ]
    },
    {
      "cell_type": "code",
      "metadata": {
        "id": "7QcU9p6n2Pyg",
        "colab": {
          "base_uri": "https://localhost:8080/",
          "height": 342
        },
        "outputId": "ec29d26e-9f86-4fdb-d78e-58ab14ba1ef4"
      },
      "source": [
        "f, ((ax1, ax2)) = plt.subplots(1, 2, figsize=(15,5))\n",
        "admission_grouped_df = admissions_df.groupby('AdmissionID')['PatientID'].nunique().reset_index()\n",
        "ax1.bar(admission_grouped_df[\"AdmissionID\"],admission_grouped_df[\"PatientID\"])\n",
        "admissions_df.boxplot(column=['num_hours'], by='AdmissionID', ax=ax2)"
      ],
      "execution_count": null,
      "outputs": [
        {
          "output_type": "stream",
          "text": [
            "/usr/local/lib/python3.7/dist-packages/numpy/core/_asarray.py:83: VisibleDeprecationWarning: Creating an ndarray from ragged nested sequences (which is a list-or-tuple of lists-or-tuples-or ndarrays with different lengths or shapes) is deprecated. If you meant to do this, you must specify 'dtype=object' when creating the ndarray\n",
            "  return array(a, dtype, copy=False, order=order)\n"
          ],
          "name": "stderr"
        },
        {
          "output_type": "execute_result",
          "data": {
            "text/plain": [
              "<matplotlib.axes._subplots.AxesSubplot at 0x7f1b200d83d0>"
            ]
          },
          "metadata": {
            "tags": []
          },
          "execution_count": 24
        },
        {
          "output_type": "display_data",
          "data": {
            "image/png": "[encoded data removed]",
            "text/plain": [
              "<Figure size 1080x360 with 2 Axes>"
            ]
          },
          "metadata": {
            "tags": [],
            "needs_background": "light"
          }
        }
      ]
    },
    {
      "cell_type": "markdown",
      "metadata": {
        "id": "djZtTLjj2Pyg"
      },
      "source": [
        "The bar chart shows the earlier visits to have more patients. The boxplot shows the visit number which takes up most of the time."
      ]
    },
    {
      "cell_type": "markdown",
      "metadata": {
        "id": "zS0-_a3F2Pyg"
      },
      "source": [
        "### Diagnosis Data Distribution"
      ]
    },
    {
      "cell_type": "code",
      "metadata": {
        "id": "n_g5T3X02Pyh",
        "colab": {
          "base_uri": "https://localhost:8080/",
          "height": 195
        },
        "outputId": "6563e893-21dc-42ef-869c-9a132e61b250"
      },
      "source": [
        "diagnoses_grouped_df = diagnoses_df.groupby('PrimaryDiagnosisCode')['PatientID'].nunique().reset_index()\n",
        "diagnoses_grouped_df.head()"
      ],
      "execution_count": null,
      "outputs": [
        {
          "output_type": "execute_result",
          "data": {
            "text/html": [
              "<div>\n",
              "<style scoped>\n",
              "    .dataframe tbody tr th:only-of-type {\n",
              "        vertical-align: middle;\n",
              "    }\n",
              "\n",
              "    .dataframe tbody tr th {\n",
              "        vertical-align: top;\n",
              "    }\n",
              "\n",
              "    .dataframe thead th {\n",
              "        text-align: right;\n",
              "    }\n",
              "</style>\n",
              "<table border=\"1\" class=\"dataframe\">\n",
              "  <thead>\n",
              "    <tr style=\"text-align: right;\">\n",
              "      <th></th>\n",
              "      <th>PrimaryDiagnosisCode</th>\n",
              "      <th>PatientID</th>\n",
              "    </tr>\n",
              "  </thead>\n",
              "  <tbody>\n",
              "    <tr>\n",
              "      <th>0</th>\n",
              "      <td>A42.0</td>\n",
              "      <td>1</td>\n",
              "    </tr>\n",
              "    <tr>\n",
              "      <th>1</th>\n",
              "      <td>A48.2</td>\n",
              "      <td>1</td>\n",
              "    </tr>\n",
              "    <tr>\n",
              "      <th>2</th>\n",
              "      <td>A52.0</td>\n",
              "      <td>1</td>\n",
              "    </tr>\n",
              "    <tr>\n",
              "      <th>3</th>\n",
              "      <td>A83.6</td>\n",
              "      <td>1</td>\n",
              "    </tr>\n",
              "    <tr>\n",
              "      <th>4</th>\n",
              "      <td>A98.3</td>\n",
              "      <td>1</td>\n",
              "    </tr>\n",
              "  </tbody>\n",
              "</table>\n",
              "</div>"
            ],
            "text/plain": [
              "  PrimaryDiagnosisCode  PatientID\n",
              "0                A42.0          1\n",
              "1                A48.2          1\n",
              "2                A52.0          1\n",
              "3                A83.6          1\n",
              "4                A98.3          1"
            ]
          },
          "metadata": {
            "tags": []
          },
          "execution_count": 25
        }
      ]
    },
    {
      "cell_type": "markdown",
      "metadata": {
        "id": "uOOwIimz2Pyh"
      },
      "source": [
        "Dividing the PrimaryDiagnosisCode into multiple columns to be able to create better clusters"
      ]
    },
    {
      "cell_type": "code",
      "metadata": {
        "id": "DzCfJfNA2Pyh",
        "colab": {
          "base_uri": "https://localhost:8080/",
          "height": 467
        },
        "outputId": "fd54e671-e70b-4232-9909-44b942d846d9"
      },
      "source": [
        "diagnoses_df[\"OverallDiagnosisCode\"] = diagnoses_df[\"PrimaryDiagnosisCode\"].str[0]\n",
        "\n",
        "diagnoses_df[\"DiagnosisCode1\"] = diagnoses_df[\"PrimaryDiagnosisCode\"].str.split(\".\")\n",
        "diagnoses_df[\"DiagnosisCode1\"] = diagnoses_df[\"DiagnosisCode1\"].apply(lambda x: x[0])\n",
        "\n",
        "diagnoses_df[\"DiagnosisCode2\"] = diagnoses_df[\"PrimaryDiagnosisCode\"].str.split(\".\")\n",
        "diagnoses_df[\"DiagnosisCode2\"] = diagnoses_df[\"DiagnosisCode2\"].apply(lambda x: \"\" if len(x) < 2 else x[1])\n",
        "\n",
        "diagnoses_df.head()"
      ],
      "execution_count": null,
      "outputs": [
        {
          "output_type": "execute_result",
          "data": {
            "text/html": [
              "<div>\n",
              "<style scoped>\n",
              "    .dataframe tbody tr th:only-of-type {\n",
              "        vertical-align: middle;\n",
              "    }\n",
              "\n",
              "    .dataframe tbody tr th {\n",
              "        vertical-align: top;\n",
              "    }\n",
              "\n",
              "    .dataframe thead th {\n",
              "        text-align: right;\n",
              "    }\n",
              "</style>\n",
              "<table border=\"1\" class=\"dataframe\">\n",
              "  <thead>\n",
              "    <tr style=\"text-align: right;\">\n",
              "      <th></th>\n",
              "      <th>PatientID</th>\n",
              "      <th>AdmissionID</th>\n",
              "      <th>PrimaryDiagnosisCode</th>\n",
              "      <th>PrimaryDiagnosisDescription</th>\n",
              "      <th>OverallDiagnosisCode</th>\n",
              "      <th>DiagnosisCode1</th>\n",
              "      <th>DiagnosisCode2</th>\n",
              "    </tr>\n",
              "  </thead>\n",
              "  <tbody>\n",
              "    <tr>\n",
              "      <th>0</th>\n",
              "      <td>80AC01B2-BD55-4BE0-A59A-4024104CF4E9</td>\n",
              "      <td>2</td>\n",
              "      <td>M01.X</td>\n",
              "      <td>Direct infection of joint in infectious and pa...</td>\n",
              "      <td>M</td>\n",
              "      <td>M01</td>\n",
              "      <td>X</td>\n",
              "    </tr>\n",
              "    <tr>\n",
              "      <th>1</th>\n",
              "      <td>80AC01B2-BD55-4BE0-A59A-4024104CF4E9</td>\n",
              "      <td>3</td>\n",
              "      <td>D65</td>\n",
              "      <td>Disseminated intravascular coagulation [defibr...</td>\n",
              "      <td>D</td>\n",
              "      <td>D65</td>\n",
              "      <td></td>\n",
              "    </tr>\n",
              "    <tr>\n",
              "      <th>2</th>\n",
              "      <td>80AC01B2-BD55-4BE0-A59A-4024104CF4E9</td>\n",
              "      <td>4</td>\n",
              "      <td>C92.1</td>\n",
              "      <td>Chronic myeloid leukemia, BCR/ABL-positive</td>\n",
              "      <td>C</td>\n",
              "      <td>C92</td>\n",
              "      <td>1</td>\n",
              "    </tr>\n",
              "    <tr>\n",
              "      <th>3</th>\n",
              "      <td>80AC01B2-BD55-4BE0-A59A-4024104CF4E9</td>\n",
              "      <td>5</td>\n",
              "      <td>M05.51</td>\n",
              "      <td>Rheumatoid polyneuropathy with rheumatoid arth...</td>\n",
              "      <td>M</td>\n",
              "      <td>M05</td>\n",
              "      <td>51</td>\n",
              "    </tr>\n",
              "    <tr>\n",
              "      <th>4</th>\n",
              "      <td>6A57AC0C-57F3-4C19-98A1-51135EFBC4FF</td>\n",
              "      <td>1</td>\n",
              "      <td>C91.00</td>\n",
              "      <td>Acute lymphoblastic leukemia not having achiev...</td>\n",
              "      <td>C</td>\n",
              "      <td>C91</td>\n",
              "      <td>00</td>\n",
              "    </tr>\n",
              "  </tbody>\n",
              "</table>\n",
              "</div>"
            ],
            "text/plain": [
              "                              PatientID  ...  DiagnosisCode2\n",
              "0  80AC01B2-BD55-4BE0-A59A-4024104CF4E9  ...               X\n",
              "1  80AC01B2-BD55-4BE0-A59A-4024104CF4E9  ...                \n",
              "2  80AC01B2-BD55-4BE0-A59A-4024104CF4E9  ...               1\n",
              "3  80AC01B2-BD55-4BE0-A59A-4024104CF4E9  ...              51\n",
              "4  6A57AC0C-57F3-4C19-98A1-51135EFBC4FF  ...              00\n",
              "\n",
              "[5 rows x 7 columns]"
            ]
          },
          "metadata": {
            "tags": []
          },
          "execution_count": 26
        }
      ]
    },
    {
      "cell_type": "markdown",
      "metadata": {
        "id": "l0FWo_q42Pyh"
      },
      "source": [
        "Understanding the common OverallDiagnosisCode among different patients"
      ]
    },
    {
      "cell_type": "code",
      "metadata": {
        "id": "vNQ3pEuc2Pyh",
        "colab": {
          "base_uri": "https://localhost:8080/",
          "height": 295
        },
        "outputId": "6db0b45c-f2ef-4155-c6b7-e950684a1e59"
      },
      "source": [
        "diagnoses_grouped_df = diagnoses_df.groupby('OverallDiagnosisCode')['PatientID'].nunique().reset_index()\n",
        "diagnoses_grouped_df.plot.bar(x=\"OverallDiagnosisCode\" , y=\"PatientID\")"
      ],
      "execution_count": null,
      "outputs": [
        {
          "output_type": "execute_result",
          "data": {
            "text/plain": [
              "<matplotlib.axes._subplots.AxesSubplot at 0x7f1b1ff339d0>"
            ]
          },
          "metadata": {
            "tags": []
          },
          "execution_count": 27
        },
        {
          "output_type": "display_data",
          "data": {
            "image/png": "[encoded data removed]",
            "text/plain": [
              "<Figure size 432x288 with 1 Axes>"
            ]
          },
          "metadata": {
            "tags": [],
            "needs_background": "light"
          }
        }
      ]
    },
    {
      "cell_type": "code",
      "metadata": {
        "id": "Z5lF7Ksx2Pyi",
        "colab": {
          "base_uri": "https://localhost:8080/",
          "height": 1000
        },
        "outputId": "9c0bc47d-bd8c-4415-e583-2bdb3ad49540"
      },
      "source": [
        "diagnoses_df[diagnoses_df[\"OverallDiagnosisCode\"] == \"Z\"].head(15)"
      ],
      "execution_count": null,
      "outputs": [
        {
          "output_type": "execute_result",
          "data": {
            "text/html": [
              "<div>\n",
              "<style scoped>\n",
              "    .dataframe tbody tr th:only-of-type {\n",
              "        vertical-align: middle;\n",
              "    }\n",
              "\n",
              "    .dataframe tbody tr th {\n",
              "        vertical-align: top;\n",
              "    }\n",
              "\n",
              "    .dataframe thead th {\n",
              "        text-align: right;\n",
              "    }\n",
              "</style>\n",
              "<table border=\"1\" class=\"dataframe\">\n",
              "  <thead>\n",
              "    <tr style=\"text-align: right;\">\n",
              "      <th></th>\n",
              "      <th>PatientID</th>\n",
              "      <th>AdmissionID</th>\n",
              "      <th>PrimaryDiagnosisCode</th>\n",
              "      <th>PrimaryDiagnosisDescription</th>\n",
              "      <th>OverallDiagnosisCode</th>\n",
              "      <th>DiagnosisCode1</th>\n",
              "      <th>DiagnosisCode2</th>\n",
              "    </tr>\n",
              "  </thead>\n",
              "  <tbody>\n",
              "    <tr>\n",
              "      <th>38</th>\n",
              "      <td>9C75DF1F-9DA6-4C98-8F5B-E10BDC805ED0</td>\n",
              "      <td>1</td>\n",
              "      <td>Z13.810</td>\n",
              "      <td>Encounter for screening for upper gastrointest...</td>\n",
              "      <td>Z</td>\n",
              "      <td>Z13</td>\n",
              "      <td>810</td>\n",
              "    </tr>\n",
              "    <tr>\n",
              "      <th>40</th>\n",
              "      <td>A19A0B00-4C9A-4206-B1FE-17E6DA3CEB0B</td>\n",
              "      <td>1</td>\n",
              "      <td>Z13.83</td>\n",
              "      <td>Encounter for screening for respiratory disord...</td>\n",
              "      <td>Z</td>\n",
              "      <td>Z13</td>\n",
              "      <td>83</td>\n",
              "    </tr>\n",
              "    <tr>\n",
              "      <th>54</th>\n",
              "      <td>FA157FA5-F488-4884-BF87-E144630D595C</td>\n",
              "      <td>5</td>\n",
              "      <td>Z13.85</td>\n",
              "      <td>Encounter for screening for nervous system dis...</td>\n",
              "      <td>Z</td>\n",
              "      <td>Z13</td>\n",
              "      <td>85</td>\n",
              "    </tr>\n",
              "    <tr>\n",
              "      <th>64</th>\n",
              "      <td>DA6CECFF-DE13-4C4C-919F-64E1A2B76C9D</td>\n",
              "      <td>4</td>\n",
              "      <td>Z22.31</td>\n",
              "      <td>Carrier of bacterial disease due to meningococci</td>\n",
              "      <td>Z</td>\n",
              "      <td>Z22</td>\n",
              "      <td>31</td>\n",
              "    </tr>\n",
              "    <tr>\n",
              "      <th>88</th>\n",
              "      <td>25B786AF-0F99-478C-9CFA-0EA607E45834</td>\n",
              "      <td>6</td>\n",
              "      <td>Z22.31</td>\n",
              "      <td>Carrier of bacterial disease due to meningococci</td>\n",
              "      <td>Z</td>\n",
              "      <td>Z22</td>\n",
              "      <td>31</td>\n",
              "    </tr>\n",
              "    <tr>\n",
              "      <th>135</th>\n",
              "      <td>69B5D2A0-12FD-46EF-A5FF-B29C4BAFBE49</td>\n",
              "      <td>1</td>\n",
              "      <td>Z91.15</td>\n",
              "      <td>Patient's noncompliance with renal dialysis</td>\n",
              "      <td>Z</td>\n",
              "      <td>Z91</td>\n",
              "      <td>15</td>\n",
              "    </tr>\n",
              "    <tr>\n",
              "      <th>141</th>\n",
              "      <td>8D389A8C-A6D8-4447-9DDE-1A28AB4EC667</td>\n",
              "      <td>2</td>\n",
              "      <td>Z13.22</td>\n",
              "      <td>Encounter for screening for metabolic disorder</td>\n",
              "      <td>Z</td>\n",
              "      <td>Z13</td>\n",
              "      <td>22</td>\n",
              "    </tr>\n",
              "    <tr>\n",
              "      <th>157</th>\n",
              "      <td>49DADA25-F2C2-42BB-8210-D78E6C7B0D48</td>\n",
              "      <td>1</td>\n",
              "      <td>Z12</td>\n",
              "      <td>Encounter for screening for malignant neoplasms</td>\n",
              "      <td>Z</td>\n",
              "      <td>Z12</td>\n",
              "      <td></td>\n",
              "    </tr>\n",
              "    <tr>\n",
              "      <th>218</th>\n",
              "      <td>9E18822E-7D13-45C7-B50E-F95CFF92BC3E</td>\n",
              "      <td>1</td>\n",
              "      <td>Z13.0</td>\n",
              "      <td>Encounter for screening for diseases of the bl...</td>\n",
              "      <td>Z</td>\n",
              "      <td>Z13</td>\n",
              "      <td>0</td>\n",
              "    </tr>\n",
              "    <tr>\n",
              "      <th>229</th>\n",
              "      <td>98F593D2-8894-49BB-93B9-5A0E2CF85E2E</td>\n",
              "      <td>1</td>\n",
              "      <td>Z12.2</td>\n",
              "      <td>Encounter for screening for malignant neoplasm...</td>\n",
              "      <td>Z</td>\n",
              "      <td>Z12</td>\n",
              "      <td>2</td>\n",
              "    </tr>\n",
              "    <tr>\n",
              "      <th>272</th>\n",
              "      <td>6623F5D6-D581-4268-9F9B-21612FBBF7B5</td>\n",
              "      <td>3</td>\n",
              "      <td>Z12.71</td>\n",
              "      <td>Encounter for screening for malignant neoplasm...</td>\n",
              "      <td>Z</td>\n",
              "      <td>Z12</td>\n",
              "      <td>71</td>\n",
              "    </tr>\n",
              "    <tr>\n",
              "      <th>298</th>\n",
              "      <td>C8556CC0-32FC-4CA5-A8CD-9CCF38816167</td>\n",
              "      <td>1</td>\n",
              "      <td>Z12.13</td>\n",
              "      <td>Encounter for screening for malignant neoplasm...</td>\n",
              "      <td>Z</td>\n",
              "      <td>Z12</td>\n",
              "      <td>13</td>\n",
              "    </tr>\n",
              "    <tr>\n",
              "      <th>299</th>\n",
              "      <td>C8556CC0-32FC-4CA5-A8CD-9CCF38816167</td>\n",
              "      <td>2</td>\n",
              "      <td>Z95.810</td>\n",
              "      <td>Presence of automatic (implantable) cardiac de...</td>\n",
              "      <td>Z</td>\n",
              "      <td>Z95</td>\n",
              "      <td>810</td>\n",
              "    </tr>\n",
              "    <tr>\n",
              "      <th>332</th>\n",
              "      <td>3231F930-2978-4F50-8234-755449851E7B</td>\n",
              "      <td>2</td>\n",
              "      <td>Z49</td>\n",
              "      <td>Encounter for care involving renal dialysis</td>\n",
              "      <td>Z</td>\n",
              "      <td>Z49</td>\n",
              "      <td></td>\n",
              "    </tr>\n",
              "    <tr>\n",
              "      <th>364</th>\n",
              "      <td>4C201C71-CCED-40D1-9642-F9C8C485B854</td>\n",
              "      <td>6</td>\n",
              "      <td>Z22.31</td>\n",
              "      <td>Carrier of bacterial disease due to meningococci</td>\n",
              "      <td>Z</td>\n",
              "      <td>Z22</td>\n",
              "      <td>31</td>\n",
              "    </tr>\n",
              "  </tbody>\n",
              "</table>\n",
              "</div>"
            ],
            "text/plain": [
              "                                PatientID  ...  DiagnosisCode2\n",
              "38   9C75DF1F-9DA6-4C98-8F5B-E10BDC805ED0  ...             810\n",
              "40   A19A0B00-4C9A-4206-B1FE-17E6DA3CEB0B  ...              83\n",
              "54   FA157FA5-F488-4884-BF87-E144630D595C  ...              85\n",
              "64   DA6CECFF-DE13-4C4C-919F-64E1A2B76C9D  ...              31\n",
              "88   25B786AF-0F99-478C-9CFA-0EA607E45834  ...              31\n",
              "135  69B5D2A0-12FD-46EF-A5FF-B29C4BAFBE49  ...              15\n",
              "141  8D389A8C-A6D8-4447-9DDE-1A28AB4EC667  ...              22\n",
              "157  49DADA25-F2C2-42BB-8210-D78E6C7B0D48  ...                \n",
              "218  9E18822E-7D13-45C7-B50E-F95CFF92BC3E  ...               0\n",
              "229  98F593D2-8894-49BB-93B9-5A0E2CF85E2E  ...               2\n",
              "272  6623F5D6-D581-4268-9F9B-21612FBBF7B5  ...              71\n",
              "298  C8556CC0-32FC-4CA5-A8CD-9CCF38816167  ...              13\n",
              "299  C8556CC0-32FC-4CA5-A8CD-9CCF38816167  ...             810\n",
              "332  3231F930-2978-4F50-8234-755449851E7B  ...                \n",
              "364  4C201C71-CCED-40D1-9642-F9C8C485B854  ...              31\n",
              "\n",
              "[15 rows x 7 columns]"
            ]
          },
          "metadata": {
            "tags": []
          },
          "execution_count": 28
        }
      ]
    },
    {
      "cell_type": "markdown",
      "metadata": {
        "id": "vsePGNQA2Pyi"
      },
      "source": [
        "The splitting of PrimaryDiagnosis to different columns makes sense when looking at the data above.\n",
        "For example the rows 2, 3 & 7 show how the descriptions vary with the specific detail when you compare the codes"
      ]
    },
    {
      "cell_type": "markdown",
      "metadata": {
        "id": "HgXgDisE2Pyi"
      },
      "source": [
        "## Data Preparation"
      ]
    },
    {
      "cell_type": "markdown",
      "metadata": {
        "id": "1rLGDkps2Pyi"
      },
      "source": [
        "Combining the datasets into one dataframe"
      ]
    },
    {
      "cell_type": "code",
      "metadata": {
        "id": "b9OxGP9Z2Pyi",
        "colab": {
          "base_uri": "https://localhost:8080/",
          "height": 467
        },
        "outputId": "76816763-8b0f-4712-c85c-ad8eca94bc8b"
      },
      "source": [
        "admitted_diagnoses_df = pd.merge(admissions_df,diagnoses_df,on=['PatientID','AdmissionID'], how='left')\n",
        "admitted_diagnoses_df.drop(columns=[\"AdmissionStartDate\", \"AdmissionEndDate\", \"PrimaryDiagnosisCode\", \"PrimaryDiagnosisDescription\"], inplace=True)\n",
        "admit_patient_diag_df = pd.merge(admitted_diagnoses_df,patient_df,on=['PatientID'], how='left')\n",
        "admit_patient_diag_df.drop(columns=[\"PatientDateOfBirth\", \"PatientPopulationPercentageBelowPoverty\", \"Age\"], inplace=True)\n",
        "# admit_patient_lab_diag_df = pd.merge(admit_patient_diag_df, labs_df, on=['PatientID', 'AdmissionID'], how='left')\n",
        "# admit_patient_lab_diag_df.drop(columns=[\"PatientID\", \"LabUnits\", \"LabDateTime\"], inplace=True)\n",
        "admit_patient_diag_df.head()"
      ],
      "execution_count": null,
      "outputs": [
        {
          "output_type": "execute_result",
          "data": {
            "text/html": [
              "<div>\n",
              "<style scoped>\n",
              "    .dataframe tbody tr th:only-of-type {\n",
              "        vertical-align: middle;\n",
              "    }\n",
              "\n",
              "    .dataframe tbody tr th {\n",
              "        vertical-align: top;\n",
              "    }\n",
              "\n",
              "    .dataframe thead th {\n",
              "        text-align: right;\n",
              "    }\n",
              "</style>\n",
              "<table border=\"1\" class=\"dataframe\">\n",
              "  <thead>\n",
              "    <tr style=\"text-align: right;\">\n",
              "      <th></th>\n",
              "      <th>PatientID</th>\n",
              "      <th>AdmissionID</th>\n",
              "      <th>num_hours</th>\n",
              "      <th>OverallDiagnosisCode</th>\n",
              "      <th>DiagnosisCode1</th>\n",
              "      <th>DiagnosisCode2</th>\n",
              "      <th>PatientGender</th>\n",
              "      <th>PatientRace</th>\n",
              "      <th>PatientMaritalStatus</th>\n",
              "      <th>PatientLanguage</th>\n",
              "      <th>AgeRange</th>\n",
              "    </tr>\n",
              "  </thead>\n",
              "  <tbody>\n",
              "    <tr>\n",
              "      <th>0</th>\n",
              "      <td>7A025E77-7832-4F53-B9A7-09A3F98AC17E</td>\n",
              "      <td>7</td>\n",
              "      <td>226.0</td>\n",
              "      <td>F</td>\n",
              "      <td>F06</td>\n",
              "      <td>3</td>\n",
              "      <td>Female</td>\n",
              "      <td>Asian</td>\n",
              "      <td>Single</td>\n",
              "      <td>English</td>\n",
              "      <td>60-69</td>\n",
              "    </tr>\n",
              "    <tr>\n",
              "      <th>1</th>\n",
              "      <td>DCE5AEB8-6DB9-4106-8AE4-02CCC5C23741</td>\n",
              "      <td>1</td>\n",
              "      <td>310.0</td>\n",
              "      <td>K</td>\n",
              "      <td>K91</td>\n",
              "      <td></td>\n",
              "      <td>Female</td>\n",
              "      <td>White</td>\n",
              "      <td>Single</td>\n",
              "      <td>Unknown</td>\n",
              "      <td>50-59</td>\n",
              "    </tr>\n",
              "    <tr>\n",
              "      <th>2</th>\n",
              "      <td>DCE5AEB8-6DB9-4106-8AE4-02CCC5C23741</td>\n",
              "      <td>2</td>\n",
              "      <td>144.0</td>\n",
              "      <td>F</td>\n",
              "      <td>F40</td>\n",
              "      <td>01</td>\n",
              "      <td>Female</td>\n",
              "      <td>White</td>\n",
              "      <td>Single</td>\n",
              "      <td>Unknown</td>\n",
              "      <td>50-59</td>\n",
              "    </tr>\n",
              "    <tr>\n",
              "      <th>3</th>\n",
              "      <td>DCE5AEB8-6DB9-4106-8AE4-02CCC5C23741</td>\n",
              "      <td>3</td>\n",
              "      <td>130.0</td>\n",
              "      <td>C</td>\n",
              "      <td>C40</td>\n",
              "      <td>11</td>\n",
              "      <td>Female</td>\n",
              "      <td>White</td>\n",
              "      <td>Single</td>\n",
              "      <td>Unknown</td>\n",
              "      <td>50-59</td>\n",
              "    </tr>\n",
              "    <tr>\n",
              "      <th>4</th>\n",
              "      <td>886B5885-1EE2-49F3-98D5-A2F02EB8A9D4</td>\n",
              "      <td>1</td>\n",
              "      <td>406.0</td>\n",
              "      <td>M</td>\n",
              "      <td>M05</td>\n",
              "      <td>752</td>\n",
              "      <td>Female</td>\n",
              "      <td>Unknown</td>\n",
              "      <td>Married</td>\n",
              "      <td>English</td>\n",
              "      <td>40-49</td>\n",
              "    </tr>\n",
              "  </tbody>\n",
              "</table>\n",
              "</div>"
            ],
            "text/plain": [
              "                              PatientID  AdmissionID  ...  PatientLanguage AgeRange\n",
              "0  7A025E77-7832-4F53-B9A7-09A3F98AC17E            7  ...          English    60-69\n",
              "1  DCE5AEB8-6DB9-4106-8AE4-02CCC5C23741            1  ...          Unknown    50-59\n",
              "2  DCE5AEB8-6DB9-4106-8AE4-02CCC5C23741            2  ...          Unknown    50-59\n",
              "3  DCE5AEB8-6DB9-4106-8AE4-02CCC5C23741            3  ...          Unknown    50-59\n",
              "4  886B5885-1EE2-49F3-98D5-A2F02EB8A9D4            1  ...          English    40-49\n",
              "\n",
              "[5 rows x 11 columns]"
            ]
          },
          "metadata": {
            "tags": []
          },
          "execution_count": 29
        }
      ]
    },
    {
      "cell_type": "code",
      "metadata": {
        "id": "tjxkgEPb2Pyj",
        "colab": {
          "base_uri": "https://localhost:8080/"
        },
        "outputId": "a5147188-6e01-42c2-a839-e16a2c41a082"
      },
      "source": [
        "admit_patient_diag_df.shape"
      ],
      "execution_count": null,
      "outputs": [
        {
          "output_type": "execute_result",
          "data": {
            "text/plain": [
              "(372, 11)"
            ]
          },
          "metadata": {
            "tags": []
          },
          "execution_count": 30
        }
      ]
    },
    {
      "cell_type": "code",
      "metadata": {
        "id": "kB9727172Pyj",
        "colab": {
          "base_uri": "https://localhost:8080/"
        },
        "outputId": "7198a106-20e3-40b7-c887-2bbcb36149d9"
      },
      "source": [
        "admit_patient_diag_df.dtypes"
      ],
      "execution_count": null,
      "outputs": [
        {
          "output_type": "execute_result",
          "data": {
            "text/plain": [
              "PatientID                 object\n",
              "AdmissionID                int64\n",
              "num_hours                float64\n",
              "OverallDiagnosisCode      object\n",
              "DiagnosisCode1            object\n",
              "DiagnosisCode2            object\n",
              "PatientGender             object\n",
              "PatientRace               object\n",
              "PatientMaritalStatus      object\n",
              "PatientLanguage           object\n",
              "AgeRange                category\n",
              "dtype: object"
            ]
          },
          "metadata": {
            "tags": []
          },
          "execution_count": 31
        }
      ]
    },
    {
      "cell_type": "markdown",
      "metadata": {
        "id": "UPn-6Ljo2Pyj"
      },
      "source": [
        "Converting the string values into categories and later into integers with integer encoding "
      ]
    },
    {
      "cell_type": "code",
      "metadata": {
        "id": "S4GFfy152Pyj"
      },
      "source": [
        "admit_patient_diag_df[\"OverallDiagnosisCode\"] = admit_patient_diag_df[\"OverallDiagnosisCode\"].astype('category')\n",
        "admit_patient_diag_df[\"DiagnosisCode1\"] = admit_patient_diag_df[\"DiagnosisCode1\"].astype('category')\n",
        "admit_patient_diag_df[\"DiagnosisCode2\"] = admit_patient_diag_df[\"DiagnosisCode2\"].astype('category')\n",
        "admit_patient_diag_df[\"PatientGender\"] = admit_patient_diag_df[\"PatientGender\"].astype('category')\n",
        "admit_patient_diag_df[\"PatientRace\"] = admit_patient_diag_df[\"PatientRace\"].astype('category')\n",
        "admit_patient_diag_df[\"PatientMaritalStatus\"] = admit_patient_diag_df[\"PatientMaritalStatus\"].astype('category')\n",
        "admit_patient_diag_df[\"PatientLanguage\"] = admit_patient_diag_df[\"PatientLanguage\"].astype('category')"
      ],
      "execution_count": null,
      "outputs": []
    },
    {
      "cell_type": "code",
      "metadata": {
        "id": "d5vjY1tC2Pyj"
      },
      "source": [
        "admit_patient_diag_df[\"OverallDiagnosisCode_cat\"] = admit_patient_diag_df[\"OverallDiagnosisCode\"].cat.codes\n",
        "admit_patient_diag_df[\"DiagnosisCode1_cat\"] = admit_patient_diag_df[\"DiagnosisCode1\"].cat.codes\n",
        "admit_patient_diag_df[\"DiagnosisCode2_cat\"] = admit_patient_diag_df[\"DiagnosisCode2\"].cat.codes\n",
        "admit_patient_diag_df[\"PatientGender_cat\"] = admit_patient_diag_df[\"PatientGender\"].cat.codes\n",
        "admit_patient_diag_df[\"PatientRace_cat\"] = admit_patient_diag_df[\"PatientRace\"].cat.codes\n",
        "admit_patient_diag_df[\"PatientMaritalStatus_cat\"] = admit_patient_diag_df[\"PatientMaritalStatus\"].cat.codes\n",
        "admit_patient_diag_df[\"PatientLanguage_cat\"] = admit_patient_diag_df[\"PatientLanguage\"].cat.codes\n",
        "admit_patient_diag_df[\"AgeRange_cat\"] = admit_patient_diag_df[\"AgeRange\"].cat.codes"
      ],
      "execution_count": null,
      "outputs": []
    },
    {
      "cell_type": "markdown",
      "metadata": {
        "id": "ZEykn5jo2Pyk"
      },
      "source": [
        "## Modeling"
      ]
    },
    {
      "cell_type": "markdown",
      "metadata": {
        "id": "JP1lVPk42Pyk"
      },
      "source": [
        "### Data Preprocessing"
      ]
    },
    {
      "cell_type": "code",
      "metadata": {
        "id": "mNlFbOHV2Pyk"
      },
      "source": [
        "input_df = admit_patient_diag_df[['AdmissionID', 'num_hours', 'OverallDiagnosisCode_cat', 'DiagnosisCode1_cat',\n",
        "                                      'DiagnosisCode2_cat', 'PatientGender_cat', 'PatientRace_cat',\n",
        "                                      'PatientMaritalStatus_cat', 'PatientLanguage_cat', 'AgeRange_cat']]"
      ],
      "execution_count": null,
      "outputs": []
    },
    {
      "cell_type": "code",
      "metadata": {
        "id": "9mtRIk0c2Pyk",
        "colab": {
          "base_uri": "https://localhost:8080/"
        },
        "outputId": "6b89624b-7817-4e04-a74c-a50a189f841f"
      },
      "source": [
        "input_df.shape"
      ],
      "execution_count": null,
      "outputs": [
        {
          "output_type": "execute_result",
          "data": {
            "text/plain": [
              "(372, 10)"
            ]
          },
          "metadata": {
            "tags": []
          },
          "execution_count": 35
        }
      ]
    },
    {
      "cell_type": "code",
      "metadata": {
        "id": "P55NTqCN2Pyk",
        "colab": {
          "base_uri": "https://localhost:8080/"
        },
        "outputId": "2f3bd2f5-bd0f-4cdf-f8d1-c77d0005dd2d"
      },
      "source": [
        "input_df.columns"
      ],
      "execution_count": null,
      "outputs": [
        {
          "output_type": "execute_result",
          "data": {
            "text/plain": [
              "Index(['AdmissionID', 'num_hours', 'OverallDiagnosisCode_cat',\n",
              "       'DiagnosisCode1_cat', 'DiagnosisCode2_cat', 'PatientGender_cat',\n",
              "       'PatientRace_cat', 'PatientMaritalStatus_cat', 'PatientLanguage_cat',\n",
              "       'AgeRange_cat'],\n",
              "      dtype='object')"
            ]
          },
          "metadata": {
            "tags": []
          },
          "execution_count": 36
        }
      ]
    },
    {
      "cell_type": "code",
      "metadata": {
        "id": "7LAanVKP2Pyl"
      },
      "source": [
        "# Converting dataframe to numpy array required for the model.\n",
        "input_numpy_arr_data = input_df.values"
      ],
      "execution_count": null,
      "outputs": []
    },
    {
      "cell_type": "markdown",
      "metadata": {
        "id": "IiXeuEqm2Pyl"
      },
      "source": [
        "### Initializing and training the model"
      ]
    },
    {
      "cell_type": "code",
      "metadata": {
        "id": "GRC_O2we2Pyl"
      },
      "source": [
        "# Using 6X6 neurons to learn from the data and create clusters\n",
        "som = MiniSom(6, 6, input_len = input_df.shape[1], sigma=0.5, learning_rate=0.5, random_seed=999)\n",
        "som.train_random(input_numpy_arr_data, 100)"
      ],
      "execution_count": null,
      "outputs": []
    },
    {
      "cell_type": "markdown",
      "metadata": {
        "id": "Tgcipz3O2Pyl"
      },
      "source": [
        "adding seed to the model to ensure the winner does not change between each run."
      ]
    },
    {
      "cell_type": "markdown",
      "metadata": {
        "id": "qHL9Q8-K2Pyl"
      },
      "source": [
        "### Clustering a random data record"
      ]
    },
    {
      "cell_type": "code",
      "metadata": {
        "id": "fZsTYDa32Pyl",
        "colab": {
          "base_uri": "https://localhost:8080/"
        },
        "outputId": "6513ec80-9269-4721-8d0a-7aa1464ce2c1"
      },
      "source": [
        "# Finding which neuron is the winner(closest) to the test data\n",
        "som.winner(input_numpy_arr_data[150])"
      ],
      "execution_count": null,
      "outputs": [
        {
          "output_type": "execute_result",
          "data": {
            "text/plain": [
              "(1, 1)"
            ]
          },
          "metadata": {
            "tags": []
          },
          "execution_count": 41
        }
      ]
    },
    {
      "cell_type": "markdown",
      "metadata": {
        "id": "KcH1S6mg2Pym"
      },
      "source": [
        "### How good is SOM performing"
      ]
    },
    {
      "cell_type": "code",
      "metadata": {
        "id": "uBlufMYV2Pym",
        "colab": {
          "base_uri": "https://localhost:8080/"
        },
        "outputId": "f5b58c3a-dc86-4ae0-8937-9e0a9185cdc1"
      },
      "source": [
        "weights = som.get_weights().reshape(6*6, -1)\n",
        "\n",
        "# compute a few metrics\n",
        "print('Topographic product = ', topographic_product(rectangular_topology_dist((6,6)), weights))\n",
        "print('Neighborhood preservation = ', neighborhood_preservation(1, weights, input_numpy_arr_data))\n",
        "print('Trustworthiness = ', trustworthiness(1, weights, input_numpy_arr_data))"
      ],
      "execution_count": null,
      "outputs": [
        {
          "output_type": "stream",
          "text": [
            "Topographic product =  0.10703060612558928\n",
            "Neighborhood preservation =  -0.5464109270560884\n",
            "Trustworthiness =  0.8189957135919338\n"
          ],
          "name": "stdout"
        }
      ]
    },
    {
      "cell_type": "markdown",
      "metadata": {
        "id": "S7VOf-Xe2Pym"
      },
      "source": [
        "Manhattan distance generally works only if the points are arranged in the form of a grid and the problem which we are working on gives more priority to the distance between the points only along with the grids, but not the geometric distance.This gives us 81% trustworthiness."
      ]
    },
    {
      "cell_type": "markdown",
      "metadata": {
        "id": "FgIkdzYh2Pym"
      },
      "source": [
        "### DBSCAN - Density-Based Spatial Clustering of Applications with Noise"
      ]
    },
    {
      "cell_type": "markdown",
      "metadata": {
        "id": "tVm4w6uu2Pym"
      },
      "source": [
        "Comparing our results with another model gives us a good idea on how good the data actually is. I am using the DBSCAN model that decides the number of clusters within a dataset."
      ]
    },
    {
      "cell_type": "code",
      "metadata": {
        "id": "aUZeafmq2Pym",
        "colab": {
          "base_uri": "https://localhost:8080/"
        },
        "outputId": "719fb440-237b-400d-ee27-8f91a63008c7"
      },
      "source": [
        "dbscan = DBSCAN(eps=36, min_samples=10)\n",
        "# Fitting\n",
        "dbscan.fit(input_df)\n",
        "\n",
        "clustering_labels = dbscan.fit_predict(input_df)\n",
        "np.unique(clustering_labels)"
      ],
      "execution_count": null,
      "outputs": [
        {
          "output_type": "execute_result",
          "data": {
            "text/plain": [
              "array([-1,  0,  1,  2,  3,  4])"
            ]
          },
          "metadata": {
            "tags": []
          },
          "execution_count": 44
        }
      ]
    },
    {
      "cell_type": "code",
      "metadata": {
        "id": "iAKKOfYc2Pym",
        "colab": {
          "base_uri": "https://localhost:8080/"
        },
        "outputId": "092b80be-64f7-430c-90e0-845e0035507e"
      },
      "source": [
        "metrics.silhouette_score(input_df, clustering_labels)"
      ],
      "execution_count": null,
      "outputs": [
        {
          "output_type": "execute_result",
          "data": {
            "text/plain": [
              "-0.019689491050924487"
            ]
          },
          "metadata": {
            "tags": []
          },
          "execution_count": 45
        }
      ]
    },
    {
      "cell_type": "markdown",
      "metadata": {
        "id": "oAvg8rvu2Pyn"
      },
      "source": [
        "*Using* DBSCAN has given a silhouette score of -0.019. Silhouette score close to 1 indicates that the clusters decided by DBSCAN were good enough, but anything close to zero or negative shows that the algorithm chose either less number of clusters or too many."
      ]
    },
    {
      "cell_type": "markdown",
      "metadata": {
        "id": "AxPp4n472Pyn"
      },
      "source": [
        "This proves that our model is better in terms of assigning data points to their relavent clusters."
      ]
    },
    {
      "cell_type": "code",
      "metadata": {
        "id": "XKLej21Q2Pyn"
      },
      "source": [
        ""
      ],
      "execution_count": null,
      "outputs": []
    }
  ]
}