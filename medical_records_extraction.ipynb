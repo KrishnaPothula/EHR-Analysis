{
 "cells": [
  {
   "cell_type": "markdown",
   "metadata": {},
   "source": [
    "## Problem Statement:"
   ]
  },
  {
   "cell_type": "markdown",
   "metadata": {},
   "source": [
    "Medical decisioning depends on medical history of a patient. Doctors typically use past patient records from multiple visits collected through lab tests, procedures and patient diagnoses records to determine the right treatment. The medical history and patient demographics can be used to identify and analyse patterns that groups patients into cohorts.\n",
    "\n",
    "The cohorts formed vary in terms of diseases, test results and patient data. Electronic Health Records are a systematic way to collect huge amounts of digital health information from multiple sources. Accessing this data and using it to create the cohorts presents initial analysis and proper medical path to be followed for any patient dependingon the results from similar patients belonging to the same cohort.\n",
    "\n",
    "The problem is clearly identified as an unsupervised machine learning problem and I will use relevant algorithms to distinguish various cohorts based on their differences. Furthermore, this analysis can be used for drug analysis, identifying disease progression and much more.\n"
   ]
  },
  {
   "cell_type": "markdown",
   "metadata": {},
   "source": [
    "## Import Libraries"
   ]
  },
  {
   "cell_type": "code",
   "execution_count": 114,
   "metadata": {},
   "outputs": [],
   "source": [
    "# in-built libraries\n",
    "import pandas as pd\n",
    "import numpy as np\n",
    "from matplotlib import pyplot as plt\n",
    "from datetime import datetime\n",
    "import matplotlib.dates as mdates\n",
    "from datetime import date\n",
    "import math\n",
    "from sklearn import metrics\n",
    "from sklearn.cluster import DBSCAN\n",
    "from sklearn.decomposition import PCA\n",
    "# external libraries\n",
    "# pip install -r requirements.txt\n",
    "from minisom import MiniSom\n",
    "# downloaded from https://github.com/FlorentF9/SOMperf.git\n",
    "from SOMperf.somperf.metrics import *\n",
    "from SOMperf.somperf.utils.topology import rectangular_topology_dist"
   ]
  },
  {
   "cell_type": "markdown",
   "metadata": {},
   "source": [
    "## Import Data"
   ]
  },
  {
   "cell_type": "code",
   "execution_count": 62,
   "metadata": {},
   "outputs": [
    {
     "data": {
      "text/html": [
       "<div>\n",
       "<style scoped>\n",
       "    .dataframe tbody tr th:only-of-type {\n",
       "        vertical-align: middle;\n",
       "    }\n",
       "\n",
       "    .dataframe tbody tr th {\n",
       "        vertical-align: top;\n",
       "    }\n",
       "\n",
       "    .dataframe thead th {\n",
       "        text-align: right;\n",
       "    }\n",
       "</style>\n",
       "<table border=\"1\" class=\"dataframe\">\n",
       "  <thead>\n",
       "    <tr style=\"text-align: right;\">\n",
       "      <th></th>\n",
       "      <th>PatientID</th>\n",
       "      <th>PatientGender</th>\n",
       "      <th>PatientDateOfBirth</th>\n",
       "      <th>PatientRace</th>\n",
       "      <th>PatientMaritalStatus</th>\n",
       "      <th>PatientLanguage</th>\n",
       "      <th>PatientPopulationPercentageBelowPoverty</th>\n",
       "    </tr>\n",
       "  </thead>\n",
       "  <tbody>\n",
       "    <tr>\n",
       "      <th>0</th>\n",
       "      <td>FB2ABB23-C9D0-4D09-8464-49BF0B982F0F</td>\n",
       "      <td>Male</td>\n",
       "      <td>1947-12-28 02:45:40.547</td>\n",
       "      <td>Unknown</td>\n",
       "      <td>Married</td>\n",
       "      <td>Icelandic</td>\n",
       "      <td>18.08</td>\n",
       "    </tr>\n",
       "    <tr>\n",
       "      <th>1</th>\n",
       "      <td>64182B95-EB72-4E2B-BE77-8050B71498CE</td>\n",
       "      <td>Male</td>\n",
       "      <td>1952-01-18 19:51:12.917</td>\n",
       "      <td>African American</td>\n",
       "      <td>Separated</td>\n",
       "      <td>English</td>\n",
       "      <td>13.03</td>\n",
       "    </tr>\n",
       "    <tr>\n",
       "      <th>2</th>\n",
       "      <td>DB22A4D9-7E4D-485C-916A-9CD1386507FB</td>\n",
       "      <td>Female</td>\n",
       "      <td>1970-07-25 13:04:20.717</td>\n",
       "      <td>Asian</td>\n",
       "      <td>Married</td>\n",
       "      <td>English</td>\n",
       "      <td>6.67</td>\n",
       "    </tr>\n",
       "    <tr>\n",
       "      <th>3</th>\n",
       "      <td>6E70D84D-C75F-477C-BC37-9177C3698C66</td>\n",
       "      <td>Male</td>\n",
       "      <td>1979-01-04 05:45:29.580</td>\n",
       "      <td>White</td>\n",
       "      <td>Married</td>\n",
       "      <td>English</td>\n",
       "      <td>16.09</td>\n",
       "    </tr>\n",
       "    <tr>\n",
       "      <th>4</th>\n",
       "      <td>C8556CC0-32FC-4CA5-A8CD-9CCF38816167</td>\n",
       "      <td>Female</td>\n",
       "      <td>1921-04-11 11:39:49.197</td>\n",
       "      <td>White</td>\n",
       "      <td>Married</td>\n",
       "      <td>English</td>\n",
       "      <td>18.20</td>\n",
       "    </tr>\n",
       "  </tbody>\n",
       "</table>\n",
       "</div>"
      ],
      "text/plain": [
       "                              PatientID PatientGender  \\\n",
       "0  FB2ABB23-C9D0-4D09-8464-49BF0B982F0F          Male   \n",
       "1  64182B95-EB72-4E2B-BE77-8050B71498CE          Male   \n",
       "2  DB22A4D9-7E4D-485C-916A-9CD1386507FB        Female   \n",
       "3  6E70D84D-C75F-477C-BC37-9177C3698C66          Male   \n",
       "4  C8556CC0-32FC-4CA5-A8CD-9CCF38816167        Female   \n",
       "\n",
       "        PatientDateOfBirth       PatientRace PatientMaritalStatus  \\\n",
       "0  1947-12-28 02:45:40.547           Unknown              Married   \n",
       "1  1952-01-18 19:51:12.917  African American            Separated   \n",
       "2  1970-07-25 13:04:20.717             Asian              Married   \n",
       "3  1979-01-04 05:45:29.580             White              Married   \n",
       "4  1921-04-11 11:39:49.197             White              Married   \n",
       "\n",
       "  PatientLanguage  PatientPopulationPercentageBelowPoverty  \n",
       "0       Icelandic                                    18.08  \n",
       "1         English                                    13.03  \n",
       "2         English                                     6.67  \n",
       "3         English                                    16.09  \n",
       "4         English                                    18.20  "
      ]
     },
     "execution_count": 62,
     "metadata": {},
     "output_type": "execute_result"
    }
   ],
   "source": [
    "# There are 4 different text files each with data separated by tab space which we will import into individual datasets\n",
    "admissions_df = pd.read_csv(\"AdmissionsCorePopulatedTable.txt\", sep=\"\\t\")\n",
    "diagnoses_df = pd.read_csv(\"AdmissionsDiagnosesCorePopulatedTable.txt\", sep=\"\\t\")\n",
    "labs_df = pd.read_csv(\"LabsCorePopulatedTable.txt\", sep=\"\\t\")\n",
    "patient_df = pd.read_csv(\"PatientCorePopulatedTable.txt\", sep=\"\\t\")\n",
    "patient_df.head()"
   ]
  },
  {
   "cell_type": "code",
   "execution_count": 63,
   "metadata": {},
   "outputs": [
    {
     "data": {
      "text/html": [
       "<div>\n",
       "<style scoped>\n",
       "    .dataframe tbody tr th:only-of-type {\n",
       "        vertical-align: middle;\n",
       "    }\n",
       "\n",
       "    .dataframe tbody tr th {\n",
       "        vertical-align: top;\n",
       "    }\n",
       "\n",
       "    .dataframe thead th {\n",
       "        text-align: right;\n",
       "    }\n",
       "</style>\n",
       "<table border=\"1\" class=\"dataframe\">\n",
       "  <thead>\n",
       "    <tr style=\"text-align: right;\">\n",
       "      <th></th>\n",
       "      <th>PatientID</th>\n",
       "      <th>AdmissionID</th>\n",
       "      <th>AdmissionStartDate</th>\n",
       "      <th>AdmissionEndDate</th>\n",
       "    </tr>\n",
       "  </thead>\n",
       "  <tbody>\n",
       "    <tr>\n",
       "      <th>0</th>\n",
       "      <td>7A025E77-7832-4F53-B9A7-09A3F98AC17E</td>\n",
       "      <td>7</td>\n",
       "      <td>2011-10-12 14:55:02.027</td>\n",
       "      <td>2011-10-22 01:16:07.557</td>\n",
       "    </tr>\n",
       "    <tr>\n",
       "      <th>1</th>\n",
       "      <td>DCE5AEB8-6DB9-4106-8AE4-02CCC5C23741</td>\n",
       "      <td>1</td>\n",
       "      <td>1993-02-11 18:57:04.003</td>\n",
       "      <td>1993-02-24 17:22:29.713</td>\n",
       "    </tr>\n",
       "    <tr>\n",
       "      <th>2</th>\n",
       "      <td>DCE5AEB8-6DB9-4106-8AE4-02CCC5C23741</td>\n",
       "      <td>2</td>\n",
       "      <td>2002-11-28 19:06:31.117</td>\n",
       "      <td>2002-12-04 19:14:40.797</td>\n",
       "    </tr>\n",
       "    <tr>\n",
       "      <th>3</th>\n",
       "      <td>DCE5AEB8-6DB9-4106-8AE4-02CCC5C23741</td>\n",
       "      <td>3</td>\n",
       "      <td>2011-07-19 18:42:45.287</td>\n",
       "      <td>2011-07-25 04:57:42.053</td>\n",
       "    </tr>\n",
       "    <tr>\n",
       "      <th>4</th>\n",
       "      <td>886B5885-1EE2-49F3-98D5-A2F02EB8A9D4</td>\n",
       "      <td>1</td>\n",
       "      <td>1994-12-03 22:20:46.077</td>\n",
       "      <td>1994-12-20 20:24:56.010</td>\n",
       "    </tr>\n",
       "  </tbody>\n",
       "</table>\n",
       "</div>"
      ],
      "text/plain": [
       "                              PatientID  AdmissionID       AdmissionStartDate  \\\n",
       "0  7A025E77-7832-4F53-B9A7-09A3F98AC17E            7  2011-10-12 14:55:02.027   \n",
       "1  DCE5AEB8-6DB9-4106-8AE4-02CCC5C23741            1  1993-02-11 18:57:04.003   \n",
       "2  DCE5AEB8-6DB9-4106-8AE4-02CCC5C23741            2  2002-11-28 19:06:31.117   \n",
       "3  DCE5AEB8-6DB9-4106-8AE4-02CCC5C23741            3  2011-07-19 18:42:45.287   \n",
       "4  886B5885-1EE2-49F3-98D5-A2F02EB8A9D4            1  1994-12-03 22:20:46.077   \n",
       "\n",
       "          AdmissionEndDate  \n",
       "0  2011-10-22 01:16:07.557  \n",
       "1  1993-02-24 17:22:29.713  \n",
       "2  2002-12-04 19:14:40.797  \n",
       "3  2011-07-25 04:57:42.053  \n",
       "4  1994-12-20 20:24:56.010  "
      ]
     },
     "execution_count": 63,
     "metadata": {},
     "output_type": "execute_result"
    }
   ],
   "source": [
    "admissions_df.head()"
   ]
  },
  {
   "cell_type": "code",
   "execution_count": 64,
   "metadata": {},
   "outputs": [
    {
     "data": {
      "text/html": [
       "<div>\n",
       "<style scoped>\n",
       "    .dataframe tbody tr th:only-of-type {\n",
       "        vertical-align: middle;\n",
       "    }\n",
       "\n",
       "    .dataframe tbody tr th {\n",
       "        vertical-align: top;\n",
       "    }\n",
       "\n",
       "    .dataframe thead th {\n",
       "        text-align: right;\n",
       "    }\n",
       "</style>\n",
       "<table border=\"1\" class=\"dataframe\">\n",
       "  <thead>\n",
       "    <tr style=\"text-align: right;\">\n",
       "      <th></th>\n",
       "      <th>PatientID</th>\n",
       "      <th>AdmissionID</th>\n",
       "      <th>PrimaryDiagnosisCode</th>\n",
       "      <th>PrimaryDiagnosisDescription</th>\n",
       "    </tr>\n",
       "  </thead>\n",
       "  <tbody>\n",
       "    <tr>\n",
       "      <th>0</th>\n",
       "      <td>80AC01B2-BD55-4BE0-A59A-4024104CF4E9</td>\n",
       "      <td>2</td>\n",
       "      <td>M01.X</td>\n",
       "      <td>Direct infection of joint in infectious and pa...</td>\n",
       "    </tr>\n",
       "    <tr>\n",
       "      <th>1</th>\n",
       "      <td>80AC01B2-BD55-4BE0-A59A-4024104CF4E9</td>\n",
       "      <td>3</td>\n",
       "      <td>D65</td>\n",
       "      <td>Disseminated intravascular coagulation [defibr...</td>\n",
       "    </tr>\n",
       "    <tr>\n",
       "      <th>2</th>\n",
       "      <td>80AC01B2-BD55-4BE0-A59A-4024104CF4E9</td>\n",
       "      <td>4</td>\n",
       "      <td>C92.1</td>\n",
       "      <td>Chronic myeloid leukemia, BCR/ABL-positive</td>\n",
       "    </tr>\n",
       "    <tr>\n",
       "      <th>3</th>\n",
       "      <td>80AC01B2-BD55-4BE0-A59A-4024104CF4E9</td>\n",
       "      <td>5</td>\n",
       "      <td>M05.51</td>\n",
       "      <td>Rheumatoid polyneuropathy with rheumatoid arth...</td>\n",
       "    </tr>\n",
       "    <tr>\n",
       "      <th>4</th>\n",
       "      <td>6A57AC0C-57F3-4C19-98A1-51135EFBC4FF</td>\n",
       "      <td>1</td>\n",
       "      <td>C91.00</td>\n",
       "      <td>Acute lymphoblastic leukemia not having achiev...</td>\n",
       "    </tr>\n",
       "  </tbody>\n",
       "</table>\n",
       "</div>"
      ],
      "text/plain": [
       "                              PatientID  AdmissionID PrimaryDiagnosisCode  \\\n",
       "0  80AC01B2-BD55-4BE0-A59A-4024104CF4E9            2                M01.X   \n",
       "1  80AC01B2-BD55-4BE0-A59A-4024104CF4E9            3                  D65   \n",
       "2  80AC01B2-BD55-4BE0-A59A-4024104CF4E9            4                C92.1   \n",
       "3  80AC01B2-BD55-4BE0-A59A-4024104CF4E9            5               M05.51   \n",
       "4  6A57AC0C-57F3-4C19-98A1-51135EFBC4FF            1               C91.00   \n",
       "\n",
       "                         PrimaryDiagnosisDescription  \n",
       "0  Direct infection of joint in infectious and pa...  \n",
       "1  Disseminated intravascular coagulation [defibr...  \n",
       "2         Chronic myeloid leukemia, BCR/ABL-positive  \n",
       "3  Rheumatoid polyneuropathy with rheumatoid arth...  \n",
       "4  Acute lymphoblastic leukemia not having achiev...  "
      ]
     },
     "execution_count": 64,
     "metadata": {},
     "output_type": "execute_result"
    }
   ],
   "source": [
    "diagnoses_df.head()"
   ]
  },
  {
   "cell_type": "markdown",
   "metadata": {},
   "source": [
    "## Data Cleaning"
   ]
  },
  {
   "cell_type": "code",
   "execution_count": 65,
   "metadata": {},
   "outputs": [],
   "source": [
    "# Function to calculate age compared to todays date\n",
    "def calculate_age(birth_date):\n",
    "        today = date.today()\n",
    "        age = today.year - birth_date.year\n",
    "        full_year_passed = (today.month, today.day) < (birth_date.month, birth_date.day)\n",
    "        if not full_year_passed:\n",
    "            age -= 1\n",
    "        return age"
   ]
  },
  {
   "cell_type": "code",
   "execution_count": 66,
   "metadata": {},
   "outputs": [],
   "source": [
    "# Adding the age column to the dataset\n",
    "myFmt = mdates.DateFormatter('%d')\n",
    "patient_df[\"PatientDateOfBirth\"] = patient_df[\"PatientDateOfBirth\"].apply(lambda x: datetime.strptime(x, '%Y-%m-%d %H:%M:%S.%f'))\n",
    "patient_df[\"Age\"] = patient_df[\"PatientDateOfBirth\"].apply(calculate_age)"
   ]
  },
  {
   "cell_type": "markdown",
   "metadata": {},
   "source": [
    "Converting AdmissionStartDate and AdmissionEndDate into datetime64 format to calculate the number of hours spent in admission"
   ]
  },
  {
   "cell_type": "code",
   "execution_count": 67,
   "metadata": {},
   "outputs": [],
   "source": [
    "admissions_df[\"AdmissionStartDate\"] = admissions_df[\"AdmissionStartDate\"].apply(lambda x: datetime.strptime(x, '%Y-%m-%d %H:%M:%S.%f'))\n",
    "admissions_df[\"AdmissionEndDate\"] = admissions_df[\"AdmissionEndDate\"].apply(lambda x: datetime.strptime(x, '%Y-%m-%d %H:%M:%S.%f'))"
   ]
  },
  {
   "cell_type": "code",
   "execution_count": 68,
   "metadata": {},
   "outputs": [
    {
     "data": {
      "text/plain": [
       "PatientID                     object\n",
       "AdmissionID                    int64\n",
       "AdmissionStartDate    datetime64[ns]\n",
       "AdmissionEndDate      datetime64[ns]\n",
       "dtype: object"
      ]
     },
     "execution_count": 68,
     "metadata": {},
     "output_type": "execute_result"
    }
   ],
   "source": [
    "admissions_df.dtypes"
   ]
  },
  {
   "cell_type": "code",
   "execution_count": 69,
   "metadata": {},
   "outputs": [],
   "source": [
    "admissions_df[\"num_hours\"] = (admissions_df.AdmissionEndDate-admissions_df.AdmissionStartDate).astype('timedelta64[h]')"
   ]
  },
  {
   "cell_type": "code",
   "execution_count": 70,
   "metadata": {},
   "outputs": [
    {
     "data": {
      "text/html": [
       "<div>\n",
       "<style scoped>\n",
       "    .dataframe tbody tr th:only-of-type {\n",
       "        vertical-align: middle;\n",
       "    }\n",
       "\n",
       "    .dataframe tbody tr th {\n",
       "        vertical-align: top;\n",
       "    }\n",
       "\n",
       "    .dataframe thead th {\n",
       "        text-align: right;\n",
       "    }\n",
       "</style>\n",
       "<table border=\"1\" class=\"dataframe\">\n",
       "  <thead>\n",
       "    <tr style=\"text-align: right;\">\n",
       "      <th></th>\n",
       "      <th>PatientID</th>\n",
       "      <th>AdmissionID</th>\n",
       "      <th>AdmissionStartDate</th>\n",
       "      <th>AdmissionEndDate</th>\n",
       "      <th>num_hours</th>\n",
       "    </tr>\n",
       "  </thead>\n",
       "  <tbody>\n",
       "    <tr>\n",
       "      <th>0</th>\n",
       "      <td>7A025E77-7832-4F53-B9A7-09A3F98AC17E</td>\n",
       "      <td>7</td>\n",
       "      <td>2011-10-12 14:55:02.027</td>\n",
       "      <td>2011-10-22 01:16:07.557</td>\n",
       "      <td>226.0</td>\n",
       "    </tr>\n",
       "    <tr>\n",
       "      <th>1</th>\n",
       "      <td>DCE5AEB8-6DB9-4106-8AE4-02CCC5C23741</td>\n",
       "      <td>1</td>\n",
       "      <td>1993-02-11 18:57:04.003</td>\n",
       "      <td>1993-02-24 17:22:29.713</td>\n",
       "      <td>310.0</td>\n",
       "    </tr>\n",
       "    <tr>\n",
       "      <th>2</th>\n",
       "      <td>DCE5AEB8-6DB9-4106-8AE4-02CCC5C23741</td>\n",
       "      <td>2</td>\n",
       "      <td>2002-11-28 19:06:31.117</td>\n",
       "      <td>2002-12-04 19:14:40.797</td>\n",
       "      <td>144.0</td>\n",
       "    </tr>\n",
       "    <tr>\n",
       "      <th>3</th>\n",
       "      <td>DCE5AEB8-6DB9-4106-8AE4-02CCC5C23741</td>\n",
       "      <td>3</td>\n",
       "      <td>2011-07-19 18:42:45.287</td>\n",
       "      <td>2011-07-25 04:57:42.053</td>\n",
       "      <td>130.0</td>\n",
       "    </tr>\n",
       "    <tr>\n",
       "      <th>4</th>\n",
       "      <td>886B5885-1EE2-49F3-98D5-A2F02EB8A9D4</td>\n",
       "      <td>1</td>\n",
       "      <td>1994-12-03 22:20:46.077</td>\n",
       "      <td>1994-12-20 20:24:56.010</td>\n",
       "      <td>406.0</td>\n",
       "    </tr>\n",
       "  </tbody>\n",
       "</table>\n",
       "</div>"
      ],
      "text/plain": [
       "                              PatientID  AdmissionID      AdmissionStartDate  \\\n",
       "0  7A025E77-7832-4F53-B9A7-09A3F98AC17E            7 2011-10-12 14:55:02.027   \n",
       "1  DCE5AEB8-6DB9-4106-8AE4-02CCC5C23741            1 1993-02-11 18:57:04.003   \n",
       "2  DCE5AEB8-6DB9-4106-8AE4-02CCC5C23741            2 2002-11-28 19:06:31.117   \n",
       "3  DCE5AEB8-6DB9-4106-8AE4-02CCC5C23741            3 2011-07-19 18:42:45.287   \n",
       "4  886B5885-1EE2-49F3-98D5-A2F02EB8A9D4            1 1994-12-03 22:20:46.077   \n",
       "\n",
       "         AdmissionEndDate  num_hours  \n",
       "0 2011-10-22 01:16:07.557      226.0  \n",
       "1 1993-02-24 17:22:29.713      310.0  \n",
       "2 2002-12-04 19:14:40.797      144.0  \n",
       "3 2011-07-25 04:57:42.053      130.0  \n",
       "4 1994-12-20 20:24:56.010      406.0  "
      ]
     },
     "execution_count": 70,
     "metadata": {},
     "output_type": "execute_result"
    }
   ],
   "source": [
    "admissions_df.head()"
   ]
  },
  {
   "cell_type": "markdown",
   "metadata": {},
   "source": [
    "## Visualization and Analysis"
   ]
  },
  {
   "cell_type": "markdown",
   "metadata": {},
   "source": [
    "### Patient Data Distribution"
   ]
  },
  {
   "cell_type": "code",
   "execution_count": 71,
   "metadata": {},
   "outputs": [
    {
     "data": {
      "text/plain": [
       "<BarContainer object of 4 artists>"
      ]
     },
     "execution_count": 71,
     "metadata": {},
     "output_type": "execute_result"
    },
    {
     "data": {
      "image/png": "[encoded data removed]",
      "text/plain": [
       "<Figure size 1080x360 with 4 Axes>"
      ]
     },
     "metadata": {
      "needs_background": "light"
     },
     "output_type": "display_data"
    }
   ],
   "source": [
    "f, ((ax1, ax2), (ax3, ax4)) = plt.subplots(2, 2, figsize=(15,5))\n",
    "patient_grouped_df = patient_df.groupby('PatientGender')['PatientID'].nunique().reset_index()\n",
    "ax1.bar(patient_grouped_df[\"PatientGender\"],patient_grouped_df[\"PatientID\"])\n",
    "patient_grouped_df = patient_df.groupby('PatientRace')['PatientID'].nunique().reset_index()\n",
    "ax2.bar(patient_grouped_df[\"PatientRace\"],patient_grouped_df[\"PatientID\"])\n",
    "patient_grouped_df = patient_df.groupby('PatientMaritalStatus')['PatientID'].nunique().reset_index()\n",
    "ax3.bar(patient_grouped_df[\"PatientMaritalStatus\"],patient_grouped_df[\"PatientID\"])\n",
    "patient_grouped_df = patient_df.groupby('PatientLanguage')['PatientID'].nunique().reset_index()\n",
    "ax4.bar(patient_grouped_df[\"PatientLanguage\"],patient_grouped_df[\"PatientID\"])"
   ]
  },
  {
   "cell_type": "markdown",
   "metadata": {},
   "source": [
    "The graphs show distribution of categories across the patients. The goal is to understand why some groups are favoured compared to others"
   ]
  },
  {
   "cell_type": "markdown",
   "metadata": {},
   "source": [
    "Creating age groups - Grouping creates categories of ages for better clustering"
   ]
  },
  {
   "cell_type": "code",
   "execution_count": 72,
   "metadata": {},
   "outputs": [
    {
     "data": {
      "text/plain": [
       "<BarContainer object of 9 artists>"
      ]
     },
     "execution_count": 72,
     "metadata": {},
     "output_type": "execute_result"
    },
    {
     "data": {
      "image/png": "[encoded data removed]",
      "text/plain": [
       "<Figure size 1080x360 with 1 Axes>"
      ]
     },
     "metadata": {
      "needs_background": "light"
     },
     "output_type": "display_data"
    }
   ],
   "source": [
    "bins = [0, 30, 40, 50, 60, 70, 80, 90, 100, 120]\n",
    "labels = ['<30', '30-39', '40-49', '50-59', '60-69', '70-79', '80-89', '90-99', '100>']\n",
    "patient_df['AgeRange'] = pd.cut(patient_df.Age, bins, labels = labels,include_lowest = True)\n",
    "\n",
    "plt.figure(figsize=(15,5))\n",
    "patient_grouped_df = patient_df.groupby('AgeRange')['PatientID'].nunique().reset_index()\n",
    "plt.bar(patient_grouped_df[\"AgeRange\"],patient_grouped_df[\"PatientID\"])"
   ]
  },
  {
   "cell_type": "markdown",
   "metadata": {},
   "source": [
    "### Admission Data Distribution"
   ]
  },
  {
   "cell_type": "code",
   "execution_count": 73,
   "metadata": {},
   "outputs": [
    {
     "data": {
      "text/plain": [
       "<AxesSubplot:title={'center':'num_hours'}, xlabel='AdmissionID'>"
      ]
     },
     "execution_count": 73,
     "metadata": {},
     "output_type": "execute_result"
    },
    {
     "data": {
      "image/png": "[encoded data removed]",
      "text/plain": [
       "<Figure size 1080x360 with 2 Axes>"
      ]
     },
     "metadata": {
      "needs_background": "light"
     },
     "output_type": "display_data"
    }
   ],
   "source": [
    "f, ((ax1, ax2)) = plt.subplots(1, 2, figsize=(15,5))\n",
    "admission_grouped_df = admissions_df.groupby('AdmissionID')['PatientID'].nunique().reset_index()\n",
    "ax1.bar(admission_grouped_df[\"AdmissionID\"],admission_grouped_df[\"PatientID\"])\n",
    "admissions_df.boxplot(column=['num_hours'], by='AdmissionID', ax=ax2)"
   ]
  },
  {
   "cell_type": "markdown",
   "metadata": {},
   "source": [
    "The bar chart shows the earlier visits to have more patients. The boxplot shows the visit number which takes up most of the time."
   ]
  },
  {
   "cell_type": "markdown",
   "metadata": {},
   "source": [
    "### Diagnosis Data Distribution"
   ]
  },
  {
   "cell_type": "code",
   "execution_count": 74,
   "metadata": {},
   "outputs": [
    {
     "data": {
      "text/html": [
       "<div>\n",
       "<style scoped>\n",
       "    .dataframe tbody tr th:only-of-type {\n",
       "        vertical-align: middle;\n",
       "    }\n",
       "\n",
       "    .dataframe tbody tr th {\n",
       "        vertical-align: top;\n",
       "    }\n",
       "\n",
       "    .dataframe thead th {\n",
       "        text-align: right;\n",
       "    }\n",
       "</style>\n",
       "<table border=\"1\" class=\"dataframe\">\n",
       "  <thead>\n",
       "    <tr style=\"text-align: right;\">\n",
       "      <th></th>\n",
       "      <th>PrimaryDiagnosisCode</th>\n",
       "      <th>PatientID</th>\n",
       "    </tr>\n",
       "  </thead>\n",
       "  <tbody>\n",
       "    <tr>\n",
       "      <th>0</th>\n",
       "      <td>A42.0</td>\n",
       "      <td>1</td>\n",
       "    </tr>\n",
       "    <tr>\n",
       "      <th>1</th>\n",
       "      <td>A48.2</td>\n",
       "      <td>1</td>\n",
       "    </tr>\n",
       "    <tr>\n",
       "      <th>2</th>\n",
       "      <td>A52.0</td>\n",
       "      <td>1</td>\n",
       "    </tr>\n",
       "    <tr>\n",
       "      <th>3</th>\n",
       "      <td>A83.6</td>\n",
       "      <td>1</td>\n",
       "    </tr>\n",
       "    <tr>\n",
       "      <th>4</th>\n",
       "      <td>A98.3</td>\n",
       "      <td>1</td>\n",
       "    </tr>\n",
       "  </tbody>\n",
       "</table>\n",
       "</div>"
      ],
      "text/plain": [
       "  PrimaryDiagnosisCode  PatientID\n",
       "0                A42.0          1\n",
       "1                A48.2          1\n",
       "2                A52.0          1\n",
       "3                A83.6          1\n",
       "4                A98.3          1"
      ]
     },
     "execution_count": 74,
     "metadata": {},
     "output_type": "execute_result"
    }
   ],
   "source": [
    "diagnoses_grouped_df = diagnoses_df.groupby('PrimaryDiagnosisCode')['PatientID'].nunique().reset_index()\n",
    "diagnoses_grouped_df.head()"
   ]
  },
  {
   "cell_type": "markdown",
   "metadata": {},
   "source": [
    "Dividing the PrimaryDiagnosisCode into multiple columns to be able to create better clusters"
   ]
  },
  {
   "cell_type": "code",
   "execution_count": 75,
   "metadata": {},
   "outputs": [
    {
     "data": {
      "text/html": [
       "<div>\n",
       "<style scoped>\n",
       "    .dataframe tbody tr th:only-of-type {\n",
       "        vertical-align: middle;\n",
       "    }\n",
       "\n",
       "    .dataframe tbody tr th {\n",
       "        vertical-align: top;\n",
       "    }\n",
       "\n",
       "    .dataframe thead th {\n",
       "        text-align: right;\n",
       "    }\n",
       "</style>\n",
       "<table border=\"1\" class=\"dataframe\">\n",
       "  <thead>\n",
       "    <tr style=\"text-align: right;\">\n",
       "      <th></th>\n",
       "      <th>PatientID</th>\n",
       "      <th>AdmissionID</th>\n",
       "      <th>PrimaryDiagnosisCode</th>\n",
       "      <th>PrimaryDiagnosisDescription</th>\n",
       "      <th>OverallDiagnosisCode</th>\n",
       "      <th>DiagnosisCode1</th>\n",
       "      <th>DiagnosisCode2</th>\n",
       "    </tr>\n",
       "  </thead>\n",
       "  <tbody>\n",
       "    <tr>\n",
       "      <th>0</th>\n",
       "      <td>80AC01B2-BD55-4BE0-A59A-4024104CF4E9</td>\n",
       "      <td>2</td>\n",
       "      <td>M01.X</td>\n",
       "      <td>Direct infection of joint in infectious and pa...</td>\n",
       "      <td>M</td>\n",
       "      <td>M01</td>\n",
       "      <td>X</td>\n",
       "    </tr>\n",
       "    <tr>\n",
       "      <th>1</th>\n",
       "      <td>80AC01B2-BD55-4BE0-A59A-4024104CF4E9</td>\n",
       "      <td>3</td>\n",
       "      <td>D65</td>\n",
       "      <td>Disseminated intravascular coagulation [defibr...</td>\n",
       "      <td>D</td>\n",
       "      <td>D65</td>\n",
       "      <td></td>\n",
       "    </tr>\n",
       "    <tr>\n",
       "      <th>2</th>\n",
       "      <td>80AC01B2-BD55-4BE0-A59A-4024104CF4E9</td>\n",
       "      <td>4</td>\n",
       "      <td>C92.1</td>\n",
       "      <td>Chronic myeloid leukemia, BCR/ABL-positive</td>\n",
       "      <td>C</td>\n",
       "      <td>C92</td>\n",
       "      <td>1</td>\n",
       "    </tr>\n",
       "    <tr>\n",
       "      <th>3</th>\n",
       "      <td>80AC01B2-BD55-4BE0-A59A-4024104CF4E9</td>\n",
       "      <td>5</td>\n",
       "      <td>M05.51</td>\n",
       "      <td>Rheumatoid polyneuropathy with rheumatoid arth...</td>\n",
       "      <td>M</td>\n",
       "      <td>M05</td>\n",
       "      <td>51</td>\n",
       "    </tr>\n",
       "    <tr>\n",
       "      <th>4</th>\n",
       "      <td>6A57AC0C-57F3-4C19-98A1-51135EFBC4FF</td>\n",
       "      <td>1</td>\n",
       "      <td>C91.00</td>\n",
       "      <td>Acute lymphoblastic leukemia not having achiev...</td>\n",
       "      <td>C</td>\n",
       "      <td>C91</td>\n",
       "      <td>00</td>\n",
       "    </tr>\n",
       "  </tbody>\n",
       "</table>\n",
       "</div>"
      ],
      "text/plain": [
       "                              PatientID  AdmissionID PrimaryDiagnosisCode  \\\n",
       "0  80AC01B2-BD55-4BE0-A59A-4024104CF4E9            2                M01.X   \n",
       "1  80AC01B2-BD55-4BE0-A59A-4024104CF4E9            3                  D65   \n",
       "2  80AC01B2-BD55-4BE0-A59A-4024104CF4E9            4                C92.1   \n",
       "3  80AC01B2-BD55-4BE0-A59A-4024104CF4E9            5               M05.51   \n",
       "4  6A57AC0C-57F3-4C19-98A1-51135EFBC4FF            1               C91.00   \n",
       "\n",
       "                         PrimaryDiagnosisDescription OverallDiagnosisCode  \\\n",
       "0  Direct infection of joint in infectious and pa...                    M   \n",
       "1  Disseminated intravascular coagulation [defibr...                    D   \n",
       "2         Chronic myeloid leukemia, BCR/ABL-positive                    C   \n",
       "3  Rheumatoid polyneuropathy with rheumatoid arth...                    M   \n",
       "4  Acute lymphoblastic leukemia not having achiev...                    C   \n",
       "\n",
       "  DiagnosisCode1 DiagnosisCode2  \n",
       "0            M01              X  \n",
       "1            D65                 \n",
       "2            C92              1  \n",
       "3            M05             51  \n",
       "4            C91             00  "
      ]
     },
     "execution_count": 75,
     "metadata": {},
     "output_type": "execute_result"
    }
   ],
   "source": [
    "diagnoses_df[\"OverallDiagnosisCode\"] = diagnoses_df[\"PrimaryDiagnosisCode\"].str[0]\n",
    "\n",
    "diagnoses_df[\"DiagnosisCode1\"] = diagnoses_df[\"PrimaryDiagnosisCode\"].str.split(\".\")\n",
    "diagnoses_df[\"DiagnosisCode1\"] = diagnoses_df[\"DiagnosisCode1\"].apply(lambda x: x[0])\n",
    "\n",
    "diagnoses_df[\"DiagnosisCode2\"] = diagnoses_df[\"PrimaryDiagnosisCode\"].str.split(\".\")\n",
    "diagnoses_df[\"DiagnosisCode2\"] = diagnoses_df[\"DiagnosisCode2\"].apply(lambda x: \"\" if len(x) < 2 else x[1])\n",
    "\n",
    "diagnoses_df.head()"
   ]
  },
  {
   "cell_type": "markdown",
   "metadata": {},
   "source": [
    "Understanding the common OverallDiagnosisCode among different patients"
   ]
  },
  {
   "cell_type": "code",
   "execution_count": 76,
   "metadata": {},
   "outputs": [
    {
     "data": {
      "text/plain": [
       "<AxesSubplot:xlabel='OverallDiagnosisCode'>"
      ]
     },
     "execution_count": 76,
     "metadata": {},
     "output_type": "execute_result"
    },
    {
     "data": {
      "image/png": "[encoded data removed]",
      "text/plain": [
       "<Figure size 432x288 with 1 Axes>"
      ]
     },
     "metadata": {
      "needs_background": "light"
     },
     "output_type": "display_data"
    }
   ],
   "source": [
    "diagnoses_grouped_df = diagnoses_df.groupby('OverallDiagnosisCode')['PatientID'].nunique().reset_index()\n",
    "diagnoses_grouped_df.plot.bar(x=\"OverallDiagnosisCode\" , y=\"PatientID\")"
   ]
  },
  {
   "cell_type": "code",
   "execution_count": 77,
   "metadata": {},
   "outputs": [
    {
     "data": {
      "text/html": [
       "<div>\n",
       "<style scoped>\n",
       "    .dataframe tbody tr th:only-of-type {\n",
       "        vertical-align: middle;\n",
       "    }\n",
       "\n",
       "    .dataframe tbody tr th {\n",
       "        vertical-align: top;\n",
       "    }\n",
       "\n",
       "    .dataframe thead th {\n",
       "        text-align: right;\n",
       "    }\n",
       "</style>\n",
       "<table border=\"1\" class=\"dataframe\">\n",
       "  <thead>\n",
       "    <tr style=\"text-align: right;\">\n",
       "      <th></th>\n",
       "      <th>PatientID</th>\n",
       "      <th>AdmissionID</th>\n",
       "      <th>PrimaryDiagnosisCode</th>\n",
       "      <th>PrimaryDiagnosisDescription</th>\n",
       "      <th>OverallDiagnosisCode</th>\n",
       "      <th>DiagnosisCode1</th>\n",
       "      <th>DiagnosisCode2</th>\n",
       "    </tr>\n",
       "  </thead>\n",
       "  <tbody>\n",
       "    <tr>\n",
       "      <th>38</th>\n",
       "      <td>9C75DF1F-9DA6-4C98-8F5B-E10BDC805ED0</td>\n",
       "      <td>1</td>\n",
       "      <td>Z13.810</td>\n",
       "      <td>Encounter for screening for upper gastrointest...</td>\n",
       "      <td>Z</td>\n",
       "      <td>Z13</td>\n",
       "      <td>810</td>\n",
       "    </tr>\n",
       "    <tr>\n",
       "      <th>40</th>\n",
       "      <td>A19A0B00-4C9A-4206-B1FE-17E6DA3CEB0B</td>\n",
       "      <td>1</td>\n",
       "      <td>Z13.83</td>\n",
       "      <td>Encounter for screening for respiratory disord...</td>\n",
       "      <td>Z</td>\n",
       "      <td>Z13</td>\n",
       "      <td>83</td>\n",
       "    </tr>\n",
       "    <tr>\n",
       "      <th>54</th>\n",
       "      <td>FA157FA5-F488-4884-BF87-E144630D595C</td>\n",
       "      <td>5</td>\n",
       "      <td>Z13.85</td>\n",
       "      <td>Encounter for screening for nervous system dis...</td>\n",
       "      <td>Z</td>\n",
       "      <td>Z13</td>\n",
       "      <td>85</td>\n",
       "    </tr>\n",
       "    <tr>\n",
       "      <th>64</th>\n",
       "      <td>DA6CECFF-DE13-4C4C-919F-64E1A2B76C9D</td>\n",
       "      <td>4</td>\n",
       "      <td>Z22.31</td>\n",
       "      <td>Carrier of bacterial disease due to meningococci</td>\n",
       "      <td>Z</td>\n",
       "      <td>Z22</td>\n",
       "      <td>31</td>\n",
       "    </tr>\n",
       "    <tr>\n",
       "      <th>88</th>\n",
       "      <td>25B786AF-0F99-478C-9CFA-0EA607E45834</td>\n",
       "      <td>6</td>\n",
       "      <td>Z22.31</td>\n",
       "      <td>Carrier of bacterial disease due to meningococci</td>\n",
       "      <td>Z</td>\n",
       "      <td>Z22</td>\n",
       "      <td>31</td>\n",
       "    </tr>\n",
       "    <tr>\n",
       "      <th>135</th>\n",
       "      <td>69B5D2A0-12FD-46EF-A5FF-B29C4BAFBE49</td>\n",
       "      <td>1</td>\n",
       "      <td>Z91.15</td>\n",
       "      <td>Patient's noncompliance with renal dialysis</td>\n",
       "      <td>Z</td>\n",
       "      <td>Z91</td>\n",
       "      <td>15</td>\n",
       "    </tr>\n",
       "    <tr>\n",
       "      <th>141</th>\n",
       "      <td>8D389A8C-A6D8-4447-9DDE-1A28AB4EC667</td>\n",
       "      <td>2</td>\n",
       "      <td>Z13.22</td>\n",
       "      <td>Encounter for screening for metabolic disorder</td>\n",
       "      <td>Z</td>\n",
       "      <td>Z13</td>\n",
       "      <td>22</td>\n",
       "    </tr>\n",
       "    <tr>\n",
       "      <th>157</th>\n",
       "      <td>49DADA25-F2C2-42BB-8210-D78E6C7B0D48</td>\n",
       "      <td>1</td>\n",
       "      <td>Z12</td>\n",
       "      <td>Encounter for screening for malignant neoplasms</td>\n",
       "      <td>Z</td>\n",
       "      <td>Z12</td>\n",
       "      <td></td>\n",
       "    </tr>\n",
       "    <tr>\n",
       "      <th>218</th>\n",
       "      <td>9E18822E-7D13-45C7-B50E-F95CFF92BC3E</td>\n",
       "      <td>1</td>\n",
       "      <td>Z13.0</td>\n",
       "      <td>Encounter for screening for diseases of the bl...</td>\n",
       "      <td>Z</td>\n",
       "      <td>Z13</td>\n",
       "      <td>0</td>\n",
       "    </tr>\n",
       "    <tr>\n",
       "      <th>229</th>\n",
       "      <td>98F593D2-8894-49BB-93B9-5A0E2CF85E2E</td>\n",
       "      <td>1</td>\n",
       "      <td>Z12.2</td>\n",
       "      <td>Encounter for screening for malignant neoplasm...</td>\n",
       "      <td>Z</td>\n",
       "      <td>Z12</td>\n",
       "      <td>2</td>\n",
       "    </tr>\n",
       "    <tr>\n",
       "      <th>272</th>\n",
       "      <td>6623F5D6-D581-4268-9F9B-21612FBBF7B5</td>\n",
       "      <td>3</td>\n",
       "      <td>Z12.71</td>\n",
       "      <td>Encounter for screening for malignant neoplasm...</td>\n",
       "      <td>Z</td>\n",
       "      <td>Z12</td>\n",
       "      <td>71</td>\n",
       "    </tr>\n",
       "    <tr>\n",
       "      <th>298</th>\n",
       "      <td>C8556CC0-32FC-4CA5-A8CD-9CCF38816167</td>\n",
       "      <td>1</td>\n",
       "      <td>Z12.13</td>\n",
       "      <td>Encounter for screening for malignant neoplasm...</td>\n",
       "      <td>Z</td>\n",
       "      <td>Z12</td>\n",
       "      <td>13</td>\n",
       "    </tr>\n",
       "    <tr>\n",
       "      <th>299</th>\n",
       "      <td>C8556CC0-32FC-4CA5-A8CD-9CCF38816167</td>\n",
       "      <td>2</td>\n",
       "      <td>Z95.810</td>\n",
       "      <td>Presence of automatic (implantable) cardiac de...</td>\n",
       "      <td>Z</td>\n",
       "      <td>Z95</td>\n",
       "      <td>810</td>\n",
       "    </tr>\n",
       "    <tr>\n",
       "      <th>332</th>\n",
       "      <td>3231F930-2978-4F50-8234-755449851E7B</td>\n",
       "      <td>2</td>\n",
       "      <td>Z49</td>\n",
       "      <td>Encounter for care involving renal dialysis</td>\n",
       "      <td>Z</td>\n",
       "      <td>Z49</td>\n",
       "      <td></td>\n",
       "    </tr>\n",
       "    <tr>\n",
       "      <th>364</th>\n",
       "      <td>4C201C71-CCED-40D1-9642-F9C8C485B854</td>\n",
       "      <td>6</td>\n",
       "      <td>Z22.31</td>\n",
       "      <td>Carrier of bacterial disease due to meningococci</td>\n",
       "      <td>Z</td>\n",
       "      <td>Z22</td>\n",
       "      <td>31</td>\n",
       "    </tr>\n",
       "  </tbody>\n",
       "</table>\n",
       "</div>"
      ],
      "text/plain": [
       "                                PatientID  AdmissionID PrimaryDiagnosisCode  \\\n",
       "38   9C75DF1F-9DA6-4C98-8F5B-E10BDC805ED0            1              Z13.810   \n",
       "40   A19A0B00-4C9A-4206-B1FE-17E6DA3CEB0B            1               Z13.83   \n",
       "54   FA157FA5-F488-4884-BF87-E144630D595C            5               Z13.85   \n",
       "64   DA6CECFF-DE13-4C4C-919F-64E1A2B76C9D            4               Z22.31   \n",
       "88   25B786AF-0F99-478C-9CFA-0EA607E45834            6               Z22.31   \n",
       "135  69B5D2A0-12FD-46EF-A5FF-B29C4BAFBE49            1               Z91.15   \n",
       "141  8D389A8C-A6D8-4447-9DDE-1A28AB4EC667            2               Z13.22   \n",
       "157  49DADA25-F2C2-42BB-8210-D78E6C7B0D48            1                  Z12   \n",
       "218  9E18822E-7D13-45C7-B50E-F95CFF92BC3E            1                Z13.0   \n",
       "229  98F593D2-8894-49BB-93B9-5A0E2CF85E2E            1                Z12.2   \n",
       "272  6623F5D6-D581-4268-9F9B-21612FBBF7B5            3               Z12.71   \n",
       "298  C8556CC0-32FC-4CA5-A8CD-9CCF38816167            1               Z12.13   \n",
       "299  C8556CC0-32FC-4CA5-A8CD-9CCF38816167            2              Z95.810   \n",
       "332  3231F930-2978-4F50-8234-755449851E7B            2                  Z49   \n",
       "364  4C201C71-CCED-40D1-9642-F9C8C485B854            6               Z22.31   \n",
       "\n",
       "                           PrimaryDiagnosisDescription OverallDiagnosisCode  \\\n",
       "38   Encounter for screening for upper gastrointest...                    Z   \n",
       "40   Encounter for screening for respiratory disord...                    Z   \n",
       "54   Encounter for screening for nervous system dis...                    Z   \n",
       "64    Carrier of bacterial disease due to meningococci                    Z   \n",
       "88    Carrier of bacterial disease due to meningococci                    Z   \n",
       "135        Patient's noncompliance with renal dialysis                    Z   \n",
       "141     Encounter for screening for metabolic disorder                    Z   \n",
       "157    Encounter for screening for malignant neoplasms                    Z   \n",
       "218  Encounter for screening for diseases of the bl...                    Z   \n",
       "229  Encounter for screening for malignant neoplasm...                    Z   \n",
       "272  Encounter for screening for malignant neoplasm...                    Z   \n",
       "298  Encounter for screening for malignant neoplasm...                    Z   \n",
       "299  Presence of automatic (implantable) cardiac de...                    Z   \n",
       "332        Encounter for care involving renal dialysis                    Z   \n",
       "364   Carrier of bacterial disease due to meningococci                    Z   \n",
       "\n",
       "    DiagnosisCode1 DiagnosisCode2  \n",
       "38             Z13            810  \n",
       "40             Z13             83  \n",
       "54             Z13             85  \n",
       "64             Z22             31  \n",
       "88             Z22             31  \n",
       "135            Z91             15  \n",
       "141            Z13             22  \n",
       "157            Z12                 \n",
       "218            Z13              0  \n",
       "229            Z12              2  \n",
       "272            Z12             71  \n",
       "298            Z12             13  \n",
       "299            Z95            810  \n",
       "332            Z49                 \n",
       "364            Z22             31  "
      ]
     },
     "execution_count": 77,
     "metadata": {},
     "output_type": "execute_result"
    }
   ],
   "source": [
    "diagnoses_df[diagnoses_df[\"OverallDiagnosisCode\"] == \"Z\"].head(15)"
   ]
  },
  {
   "cell_type": "markdown",
   "metadata": {},
   "source": [
    "The splitting of PrimaryDiagnosis to different columns makes sense when looking at the data above.\n",
    "For example the rows 2, 3 & 7 show how the descriptions vary with the specific detail when you compare the codes"
   ]
  },
  {
   "cell_type": "markdown",
   "metadata": {},
   "source": [
    "## Data Preparation"
   ]
  },
  {
   "cell_type": "markdown",
   "metadata": {},
   "source": [
    "Combining the datasets into one dataframe"
   ]
  },
  {
   "cell_type": "code",
   "execution_count": 85,
   "metadata": {},
   "outputs": [
    {
     "data": {
      "text/html": [
       "<div>\n",
       "<style scoped>\n",
       "    .dataframe tbody tr th:only-of-type {\n",
       "        vertical-align: middle;\n",
       "    }\n",
       "\n",
       "    .dataframe tbody tr th {\n",
       "        vertical-align: top;\n",
       "    }\n",
       "\n",
       "    .dataframe thead th {\n",
       "        text-align: right;\n",
       "    }\n",
       "</style>\n",
       "<table border=\"1\" class=\"dataframe\">\n",
       "  <thead>\n",
       "    <tr style=\"text-align: right;\">\n",
       "      <th></th>\n",
       "      <th>PatientID</th>\n",
       "      <th>AdmissionID</th>\n",
       "      <th>num_hours</th>\n",
       "      <th>OverallDiagnosisCode</th>\n",
       "      <th>DiagnosisCode1</th>\n",
       "      <th>DiagnosisCode2</th>\n",
       "      <th>PatientGender</th>\n",
       "      <th>PatientRace</th>\n",
       "      <th>PatientMaritalStatus</th>\n",
       "      <th>PatientLanguage</th>\n",
       "      <th>AgeRange</th>\n",
       "    </tr>\n",
       "  </thead>\n",
       "  <tbody>\n",
       "    <tr>\n",
       "      <th>0</th>\n",
       "      <td>7A025E77-7832-4F53-B9A7-09A3F98AC17E</td>\n",
       "      <td>7</td>\n",
       "      <td>226.0</td>\n",
       "      <td>F</td>\n",
       "      <td>F06</td>\n",
       "      <td>3</td>\n",
       "      <td>Female</td>\n",
       "      <td>Asian</td>\n",
       "      <td>Single</td>\n",
       "      <td>English</td>\n",
       "      <td>60-69</td>\n",
       "    </tr>\n",
       "    <tr>\n",
       "      <th>1</th>\n",
       "      <td>DCE5AEB8-6DB9-4106-8AE4-02CCC5C23741</td>\n",
       "      <td>1</td>\n",
       "      <td>310.0</td>\n",
       "      <td>K</td>\n",
       "      <td>K91</td>\n",
       "      <td></td>\n",
       "      <td>Female</td>\n",
       "      <td>White</td>\n",
       "      <td>Single</td>\n",
       "      <td>Unknown</td>\n",
       "      <td>50-59</td>\n",
       "    </tr>\n",
       "    <tr>\n",
       "      <th>2</th>\n",
       "      <td>DCE5AEB8-6DB9-4106-8AE4-02CCC5C23741</td>\n",
       "      <td>2</td>\n",
       "      <td>144.0</td>\n",
       "      <td>F</td>\n",
       "      <td>F40</td>\n",
       "      <td>01</td>\n",
       "      <td>Female</td>\n",
       "      <td>White</td>\n",
       "      <td>Single</td>\n",
       "      <td>Unknown</td>\n",
       "      <td>50-59</td>\n",
       "    </tr>\n",
       "    <tr>\n",
       "      <th>3</th>\n",
       "      <td>DCE5AEB8-6DB9-4106-8AE4-02CCC5C23741</td>\n",
       "      <td>3</td>\n",
       "      <td>130.0</td>\n",
       "      <td>C</td>\n",
       "      <td>C40</td>\n",
       "      <td>11</td>\n",
       "      <td>Female</td>\n",
       "      <td>White</td>\n",
       "      <td>Single</td>\n",
       "      <td>Unknown</td>\n",
       "      <td>50-59</td>\n",
       "    </tr>\n",
       "    <tr>\n",
       "      <th>4</th>\n",
       "      <td>886B5885-1EE2-49F3-98D5-A2F02EB8A9D4</td>\n",
       "      <td>1</td>\n",
       "      <td>406.0</td>\n",
       "      <td>M</td>\n",
       "      <td>M05</td>\n",
       "      <td>752</td>\n",
       "      <td>Female</td>\n",
       "      <td>Unknown</td>\n",
       "      <td>Married</td>\n",
       "      <td>English</td>\n",
       "      <td>40-49</td>\n",
       "    </tr>\n",
       "  </tbody>\n",
       "</table>\n",
       "</div>"
      ],
      "text/plain": [
       "                              PatientID  AdmissionID  num_hours  \\\n",
       "0  7A025E77-7832-4F53-B9A7-09A3F98AC17E            7      226.0   \n",
       "1  DCE5AEB8-6DB9-4106-8AE4-02CCC5C23741            1      310.0   \n",
       "2  DCE5AEB8-6DB9-4106-8AE4-02CCC5C23741            2      144.0   \n",
       "3  DCE5AEB8-6DB9-4106-8AE4-02CCC5C23741            3      130.0   \n",
       "4  886B5885-1EE2-49F3-98D5-A2F02EB8A9D4            1      406.0   \n",
       "\n",
       "  OverallDiagnosisCode DiagnosisCode1 DiagnosisCode2 PatientGender  \\\n",
       "0                    F            F06              3        Female   \n",
       "1                    K            K91                       Female   \n",
       "2                    F            F40             01        Female   \n",
       "3                    C            C40             11        Female   \n",
       "4                    M            M05            752        Female   \n",
       "\n",
       "  PatientRace PatientMaritalStatus PatientLanguage AgeRange  \n",
       "0       Asian               Single         English    60-69  \n",
       "1       White               Single         Unknown    50-59  \n",
       "2       White               Single         Unknown    50-59  \n",
       "3       White               Single         Unknown    50-59  \n",
       "4     Unknown              Married         English    40-49  "
      ]
     },
     "execution_count": 85,
     "metadata": {},
     "output_type": "execute_result"
    }
   ],
   "source": [
    "admitted_diagnoses_df = pd.merge(admissions_df,diagnoses_df,on=['PatientID','AdmissionID'], how='left')\n",
    "admitted_diagnoses_df.drop(columns=[\"AdmissionStartDate\", \"AdmissionEndDate\", \"PrimaryDiagnosisCode\", \"PrimaryDiagnosisDescription\"], inplace=True)\n",
    "admit_patient_diag_df = pd.merge(admitted_diagnoses_df,patient_df,on=['PatientID'], how='left')\n",
    "admit_patient_diag_df.drop(columns=[\"PatientDateOfBirth\", \"PatientPopulationPercentageBelowPoverty\", \"Age\"], inplace=True)\n",
    "# admit_patient_lab_diag_df = pd.merge(admit_patient_diag_df, labs_df, on=['PatientID', 'AdmissionID'], how='left')\n",
    "# admit_patient_lab_diag_df.drop(columns=[\"PatientID\", \"LabUnits\", \"LabDateTime\"], inplace=True)\n",
    "admit_patient_diag_df.head()"
   ]
  },
  {
   "cell_type": "code",
   "execution_count": 86,
   "metadata": {},
   "outputs": [
    {
     "data": {
      "text/plain": [
       "(372, 11)"
      ]
     },
     "execution_count": 86,
     "metadata": {},
     "output_type": "execute_result"
    }
   ],
   "source": [
    "admit_patient_diag_df.shape"
   ]
  },
  {
   "cell_type": "code",
   "execution_count": 87,
   "metadata": {},
   "outputs": [
    {
     "data": {
      "text/plain": [
       "PatientID                 object\n",
       "AdmissionID                int64\n",
       "num_hours                float64\n",
       "OverallDiagnosisCode      object\n",
       "DiagnosisCode1            object\n",
       "DiagnosisCode2            object\n",
       "PatientGender             object\n",
       "PatientRace               object\n",
       "PatientMaritalStatus      object\n",
       "PatientLanguage           object\n",
       "AgeRange                category\n",
       "dtype: object"
      ]
     },
     "execution_count": 87,
     "metadata": {},
     "output_type": "execute_result"
    }
   ],
   "source": [
    "admit_patient_diag_df.dtypes"
   ]
  },
  {
   "cell_type": "markdown",
   "metadata": {},
   "source": [
    "Converting the string values into categories and later into integers with integer encoding "
   ]
  },
  {
   "cell_type": "code",
   "execution_count": 88,
   "metadata": {},
   "outputs": [
    {
     "ename": "KeyError",
     "evalue": "'LabName'",
     "output_type": "error",
     "traceback": [
      "\u001b[1;31m---------------------------------------------------------------------------\u001b[0m",
      "\u001b[1;31mKeyError\u001b[0m                                  Traceback (most recent call last)",
      "\u001b[1;32mc:\\users\\fortune\\appdata\\local\\programs\\python\\python37\\lib\\site-packages\\pandas\\core\\indexes\\base.py\u001b[0m in \u001b[0;36mget_loc\u001b[1;34m(self, key, method, tolerance)\u001b[0m\n\u001b[0;32m   3079\u001b[0m             \u001b[1;32mtry\u001b[0m\u001b[1;33m:\u001b[0m\u001b[1;33m\u001b[0m\u001b[1;33m\u001b[0m\u001b[0m\n\u001b[1;32m-> 3080\u001b[1;33m                 \u001b[1;32mreturn\u001b[0m \u001b[0mself\u001b[0m\u001b[1;33m.\u001b[0m\u001b[0m_engine\u001b[0m\u001b[1;33m.\u001b[0m\u001b[0mget_loc\u001b[0m\u001b[1;33m(\u001b[0m\u001b[0mcasted_key\u001b[0m\u001b[1;33m)\u001b[0m\u001b[1;33m\u001b[0m\u001b[1;33m\u001b[0m\u001b[0m\n\u001b[0m\u001b[0;32m   3081\u001b[0m             \u001b[1;32mexcept\u001b[0m \u001b[0mKeyError\u001b[0m \u001b[1;32mas\u001b[0m \u001b[0merr\u001b[0m\u001b[1;33m:\u001b[0m\u001b[1;33m\u001b[0m\u001b[1;33m\u001b[0m\u001b[0m\n",
      "\u001b[1;32mpandas\\_libs\\index.pyx\u001b[0m in \u001b[0;36mpandas._libs.index.IndexEngine.get_loc\u001b[1;34m()\u001b[0m\n",
      "\u001b[1;32mpandas\\_libs\\index.pyx\u001b[0m in \u001b[0;36mpandas._libs.index.IndexEngine.get_loc\u001b[1;34m()\u001b[0m\n",
      "\u001b[1;32mpandas\\_libs\\hashtable_class_helper.pxi\u001b[0m in \u001b[0;36mpandas._libs.hashtable.PyObjectHashTable.get_item\u001b[1;34m()\u001b[0m\n",
      "\u001b[1;32mpandas\\_libs\\hashtable_class_helper.pxi\u001b[0m in \u001b[0;36mpandas._libs.hashtable.PyObjectHashTable.get_item\u001b[1;34m()\u001b[0m\n",
      "\u001b[1;31mKeyError\u001b[0m: 'LabName'",
      "\nThe above exception was the direct cause of the following exception:\n",
      "\u001b[1;31mKeyError\u001b[0m                                  Traceback (most recent call last)",
      "\u001b[1;32m<ipython-input-88-02a7b80fc658>\u001b[0m in \u001b[0;36m<module>\u001b[1;34m\u001b[0m\n\u001b[0;32m      6\u001b[0m \u001b[0madmit_patient_diag_df\u001b[0m\u001b[1;33m[\u001b[0m\u001b[1;34m\"PatientMaritalStatus\"\u001b[0m\u001b[1;33m]\u001b[0m \u001b[1;33m=\u001b[0m \u001b[0madmit_patient_diag_df\u001b[0m\u001b[1;33m[\u001b[0m\u001b[1;34m\"PatientMaritalStatus\"\u001b[0m\u001b[1;33m]\u001b[0m\u001b[1;33m.\u001b[0m\u001b[0mastype\u001b[0m\u001b[1;33m(\u001b[0m\u001b[1;34m'category'\u001b[0m\u001b[1;33m)\u001b[0m\u001b[1;33m\u001b[0m\u001b[1;33m\u001b[0m\u001b[0m\n\u001b[0;32m      7\u001b[0m \u001b[0madmit_patient_diag_df\u001b[0m\u001b[1;33m[\u001b[0m\u001b[1;34m\"PatientLanguage\"\u001b[0m\u001b[1;33m]\u001b[0m \u001b[1;33m=\u001b[0m \u001b[0madmit_patient_diag_df\u001b[0m\u001b[1;33m[\u001b[0m\u001b[1;34m\"PatientLanguage\"\u001b[0m\u001b[1;33m]\u001b[0m\u001b[1;33m.\u001b[0m\u001b[0mastype\u001b[0m\u001b[1;33m(\u001b[0m\u001b[1;34m'category'\u001b[0m\u001b[1;33m)\u001b[0m\u001b[1;33m\u001b[0m\u001b[1;33m\u001b[0m\u001b[0m\n\u001b[1;32m----> 8\u001b[1;33m \u001b[0madmit_patient_diag_df\u001b[0m\u001b[1;33m[\u001b[0m\u001b[1;34m\"LabName\"\u001b[0m\u001b[1;33m]\u001b[0m \u001b[1;33m=\u001b[0m \u001b[0madmit_patient_diag_df\u001b[0m\u001b[1;33m[\u001b[0m\u001b[1;34m\"LabName\"\u001b[0m\u001b[1;33m]\u001b[0m\u001b[1;33m.\u001b[0m\u001b[0mastype\u001b[0m\u001b[1;33m(\u001b[0m\u001b[1;34m'category'\u001b[0m\u001b[1;33m)\u001b[0m\u001b[1;33m\u001b[0m\u001b[1;33m\u001b[0m\u001b[0m\n\u001b[0m",
      "\u001b[1;32mc:\\users\\fortune\\appdata\\local\\programs\\python\\python37\\lib\\site-packages\\pandas\\core\\frame.py\u001b[0m in \u001b[0;36m__getitem__\u001b[1;34m(self, key)\u001b[0m\n\u001b[0;32m   3022\u001b[0m             \u001b[1;32mif\u001b[0m \u001b[0mself\u001b[0m\u001b[1;33m.\u001b[0m\u001b[0mcolumns\u001b[0m\u001b[1;33m.\u001b[0m\u001b[0mnlevels\u001b[0m \u001b[1;33m>\u001b[0m \u001b[1;36m1\u001b[0m\u001b[1;33m:\u001b[0m\u001b[1;33m\u001b[0m\u001b[1;33m\u001b[0m\u001b[0m\n\u001b[0;32m   3023\u001b[0m                 \u001b[1;32mreturn\u001b[0m \u001b[0mself\u001b[0m\u001b[1;33m.\u001b[0m\u001b[0m_getitem_multilevel\u001b[0m\u001b[1;33m(\u001b[0m\u001b[0mkey\u001b[0m\u001b[1;33m)\u001b[0m\u001b[1;33m\u001b[0m\u001b[1;33m\u001b[0m\u001b[0m\n\u001b[1;32m-> 3024\u001b[1;33m             \u001b[0mindexer\u001b[0m \u001b[1;33m=\u001b[0m \u001b[0mself\u001b[0m\u001b[1;33m.\u001b[0m\u001b[0mcolumns\u001b[0m\u001b[1;33m.\u001b[0m\u001b[0mget_loc\u001b[0m\u001b[1;33m(\u001b[0m\u001b[0mkey\u001b[0m\u001b[1;33m)\u001b[0m\u001b[1;33m\u001b[0m\u001b[1;33m\u001b[0m\u001b[0m\n\u001b[0m\u001b[0;32m   3025\u001b[0m             \u001b[1;32mif\u001b[0m \u001b[0mis_integer\u001b[0m\u001b[1;33m(\u001b[0m\u001b[0mindexer\u001b[0m\u001b[1;33m)\u001b[0m\u001b[1;33m:\u001b[0m\u001b[1;33m\u001b[0m\u001b[1;33m\u001b[0m\u001b[0m\n\u001b[0;32m   3026\u001b[0m                 \u001b[0mindexer\u001b[0m \u001b[1;33m=\u001b[0m \u001b[1;33m[\u001b[0m\u001b[0mindexer\u001b[0m\u001b[1;33m]\u001b[0m\u001b[1;33m\u001b[0m\u001b[1;33m\u001b[0m\u001b[0m\n",
      "\u001b[1;32mc:\\users\\fortune\\appdata\\local\\programs\\python\\python37\\lib\\site-packages\\pandas\\core\\indexes\\base.py\u001b[0m in \u001b[0;36mget_loc\u001b[1;34m(self, key, method, tolerance)\u001b[0m\n\u001b[0;32m   3080\u001b[0m                 \u001b[1;32mreturn\u001b[0m \u001b[0mself\u001b[0m\u001b[1;33m.\u001b[0m\u001b[0m_engine\u001b[0m\u001b[1;33m.\u001b[0m\u001b[0mget_loc\u001b[0m\u001b[1;33m(\u001b[0m\u001b[0mcasted_key\u001b[0m\u001b[1;33m)\u001b[0m\u001b[1;33m\u001b[0m\u001b[1;33m\u001b[0m\u001b[0m\n\u001b[0;32m   3081\u001b[0m             \u001b[1;32mexcept\u001b[0m \u001b[0mKeyError\u001b[0m \u001b[1;32mas\u001b[0m \u001b[0merr\u001b[0m\u001b[1;33m:\u001b[0m\u001b[1;33m\u001b[0m\u001b[1;33m\u001b[0m\u001b[0m\n\u001b[1;32m-> 3082\u001b[1;33m                 \u001b[1;32mraise\u001b[0m \u001b[0mKeyError\u001b[0m\u001b[1;33m(\u001b[0m\u001b[0mkey\u001b[0m\u001b[1;33m)\u001b[0m \u001b[1;32mfrom\u001b[0m \u001b[0merr\u001b[0m\u001b[1;33m\u001b[0m\u001b[1;33m\u001b[0m\u001b[0m\n\u001b[0m\u001b[0;32m   3083\u001b[0m \u001b[1;33m\u001b[0m\u001b[0m\n\u001b[0;32m   3084\u001b[0m         \u001b[1;32mif\u001b[0m \u001b[0mtolerance\u001b[0m \u001b[1;32mis\u001b[0m \u001b[1;32mnot\u001b[0m \u001b[1;32mNone\u001b[0m\u001b[1;33m:\u001b[0m\u001b[1;33m\u001b[0m\u001b[1;33m\u001b[0m\u001b[0m\n",
      "\u001b[1;31mKeyError\u001b[0m: 'LabName'"
     ]
    }
   ],
   "source": [
    "admit_patient_diag_df[\"OverallDiagnosisCode\"] = admit_patient_diag_df[\"OverallDiagnosisCode\"].astype('category')\n",
    "admit_patient_diag_df[\"DiagnosisCode1\"] = admit_patient_diag_df[\"DiagnosisCode1\"].astype('category')\n",
    "admit_patient_diag_df[\"DiagnosisCode2\"] = admit_patient_diag_df[\"DiagnosisCode2\"].astype('category')\n",
    "admit_patient_diag_df[\"PatientGender\"] = admit_patient_diag_df[\"PatientGender\"].astype('category')\n",
    "admit_patient_diag_df[\"PatientRace\"] = admit_patient_diag_df[\"PatientRace\"].astype('category')\n",
    "admit_patient_diag_df[\"PatientMaritalStatus\"] = admit_patient_diag_df[\"PatientMaritalStatus\"].astype('category')\n",
    "admit_patient_diag_df[\"PatientLanguage\"] = admit_patient_diag_df[\"PatientLanguage\"].astype('category')"
   ]
  },
  {
   "cell_type": "code",
   "execution_count": 90,
   "metadata": {},
   "outputs": [],
   "source": [
    "admit_patient_diag_df[\"OverallDiagnosisCode_cat\"] = admit_patient_diag_df[\"OverallDiagnosisCode\"].cat.codes\n",
    "admit_patient_diag_df[\"DiagnosisCode1_cat\"] = admit_patient_diag_df[\"DiagnosisCode1\"].cat.codes\n",
    "admit_patient_diag_df[\"DiagnosisCode2_cat\"] = admit_patient_diag_df[\"DiagnosisCode2\"].cat.codes\n",
    "admit_patient_diag_df[\"PatientGender_cat\"] = admit_patient_diag_df[\"PatientGender\"].cat.codes\n",
    "admit_patient_diag_df[\"PatientRace_cat\"] = admit_patient_diag_df[\"PatientRace\"].cat.codes\n",
    "admit_patient_diag_df[\"PatientMaritalStatus_cat\"] = admit_patient_diag_df[\"PatientMaritalStatus\"].cat.codes\n",
    "admit_patient_diag_df[\"PatientLanguage_cat\"] = admit_patient_diag_df[\"PatientLanguage\"].cat.codes\n",
    "admit_patient_diag_df[\"AgeRange_cat\"] = admit_patient_diag_df[\"AgeRange\"].cat.codes"
   ]
  },
  {
   "cell_type": "markdown",
   "metadata": {},
   "source": [
    "## Modeling"
   ]
  },
  {
   "cell_type": "markdown",
   "metadata": {},
   "source": [
    "### Data Preprocessing"
   ]
  },
  {
   "cell_type": "code",
   "execution_count": 91,
   "metadata": {},
   "outputs": [],
   "source": [
    "input_df = admit_patient_diag_df[['AdmissionID', 'num_hours', 'OverallDiagnosisCode_cat', 'DiagnosisCode1_cat',\n",
    "                                      'DiagnosisCode2_cat', 'PatientGender_cat', 'PatientRace_cat',\n",
    "                                      'PatientMaritalStatus_cat', 'PatientLanguage_cat', 'AgeRange_cat']]"
   ]
  },
  {
   "cell_type": "code",
   "execution_count": 92,
   "metadata": {},
   "outputs": [
    {
     "data": {
      "text/plain": [
       "(372, 10)"
      ]
     },
     "execution_count": 92,
     "metadata": {},
     "output_type": "execute_result"
    }
   ],
   "source": [
    "input_df.shape"
   ]
  },
  {
   "cell_type": "code",
   "execution_count": 93,
   "metadata": {},
   "outputs": [
    {
     "data": {
      "text/plain": [
       "Index(['AdmissionID', 'num_hours', 'OverallDiagnosisCode_cat',\n",
       "       'DiagnosisCode1_cat', 'DiagnosisCode2_cat', 'PatientGender_cat',\n",
       "       'PatientRace_cat', 'PatientMaritalStatus_cat', 'PatientLanguage_cat',\n",
       "       'AgeRange_cat'],\n",
       "      dtype='object')"
      ]
     },
     "execution_count": 93,
     "metadata": {},
     "output_type": "execute_result"
    }
   ],
   "source": [
    "input_df.columns"
   ]
  },
  {
   "cell_type": "code",
   "execution_count": 94,
   "metadata": {},
   "outputs": [],
   "source": [
    "# Converting dataframe to numpy array required for the model.\n",
    "input_numpy_arr_data = input_df.values"
   ]
  },
  {
   "cell_type": "markdown",
   "metadata": {},
   "source": [
    "### Initializing and training the model"
   ]
  },
  {
   "cell_type": "code",
   "execution_count": 95,
   "metadata": {},
   "outputs": [],
   "source": [
    "# Using 6X6 neurons to learn from the data and create clusters\n",
    "som = MiniSom(6, 6, input_len = input_df.shape[1], sigma=0.5, learning_rate=0.5, random_seed=999)\n",
    "som.train_random(input_numpy_arr_data, 100)"
   ]
  },
  {
   "cell_type": "markdown",
   "metadata": {},
   "source": [
    "adding seed to the model to ensure the winner does not change between each run."
   ]
  },
  {
   "cell_type": "markdown",
   "metadata": {},
   "source": [
    "### Clustering a random data record"
   ]
  },
  {
   "cell_type": "code",
   "execution_count": 96,
   "metadata": {},
   "outputs": [
    {
     "data": {
      "text/plain": [
       "(1, 2)"
      ]
     },
     "execution_count": 96,
     "metadata": {},
     "output_type": "execute_result"
    }
   ],
   "source": [
    "# Finding which neuron is the winner(closest) to the test data\n",
    "som.winner(input_numpy_arr_data[0])"
   ]
  },
  {
   "cell_type": "markdown",
   "metadata": {},
   "source": [
    "### How good is SOM performing"
   ]
  },
  {
   "cell_type": "code",
   "execution_count": 97,
   "metadata": {},
   "outputs": [
    {
     "name": "stdout",
     "output_type": "stream",
     "text": [
      "Topographic product =  0.10703060612558923\n",
      "Neighborhood preservation =  -0.5464109270560884\n",
      "Trustworthiness =  0.8189957135919338\n"
     ]
    }
   ],
   "source": [
    "weights = som.get_weights().reshape(6*6, -1)\n",
    "\n",
    "# compute a few metrics\n",
    "print('Topographic product = ', topographic_product(rectangular_topology_dist((6,6)), weights))\n",
    "print('Neighborhood preservation = ', neighborhood_preservation(1, weights, input_numpy_arr_data))\n",
    "print('Trustworthiness = ', trustworthiness(1, weights, input_numpy_arr_data))"
   ]
  },
  {
   "cell_type": "markdown",
   "metadata": {},
   "source": [
    "Manhattan distance generally works only if the points are arranged in the form of a grid and the problem which we are working on gives more priority to the distance between the points only along with the grids, but not the geometric distance.This gives us 81% trustworthiness."
   ]
  },
  {
   "cell_type": "markdown",
   "metadata": {},
   "source": [
    "### DBSCAN - Density-Based Spatial Clustering of Applications with Noise"
   ]
  },
  {
   "cell_type": "markdown",
   "metadata": {},
   "source": [
    "Comparing our results with another model gives us a good idea on how good the data actually is. I am using the DBSCAN model that decides the number of clusters within a dataset."
   ]
  },
  {
   "cell_type": "code",
   "execution_count": 119,
   "metadata": {},
   "outputs": [
    {
     "data": {
      "text/plain": [
       "array([-1,  0,  1,  2,  3,  4], dtype=int64)"
      ]
     },
     "execution_count": 119,
     "metadata": {},
     "output_type": "execute_result"
    }
   ],
   "source": [
    "dbscan = DBSCAN(eps=36, min_samples=10)\n",
    "# Fitting\n",
    "dbscan.fit(input_df)\n",
    "# Transoring Using PCA\n",
    "\n",
    "clustering_labels = dbscan.fit_predict(input_df)\n",
    "np.unique(clustering_labels)"
   ]
  },
  {
   "cell_type": "code",
   "execution_count": 120,
   "metadata": {},
   "outputs": [
    {
     "data": {
      "text/plain": [
       "-0.019689491050924487"
      ]
     },
     "execution_count": 120,
     "metadata": {},
     "output_type": "execute_result"
    }
   ],
   "source": [
    "metrics.silhouette_score(input_df, clustering_labels)"
   ]
  },
  {
   "cell_type": "markdown",
   "metadata": {},
   "source": [
    "Using DBSCAN has given a silhouette score of -0.019. Silhouette score close to 1 indicates that the clusters decided by DBSCAN were good enough, but anything close to zero or negative shows that the algorithm chose either less number of clusters or too many."
   ]
  },
  {
   "cell_type": "markdown",
   "metadata": {},
   "source": [
    "This proves that our model is better in terms of assigning data points to their relavent clusters."
   ]
  },
  {
   "cell_type": "code",
   "execution_count": null,
   "metadata": {},
   "outputs": [],
   "source": []
  }
 ],
 "metadata": {
  "kernelspec": {
   "display_name": "Python 3",
   "language": "python",
   "name": "python3"
  }
 },
 "nbformat": 4,
 "nbformat_minor": 2
}
