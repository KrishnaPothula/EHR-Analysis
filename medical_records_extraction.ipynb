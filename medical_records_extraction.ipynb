{
 "cells": [
  {
   "cell_type": "markdown",
   "metadata": {},
   "source": [
    "## Problem Statement:"
   ]
  },
  {
   "cell_type": "markdown",
   "metadata": {},
   "source": [
    "Medical decisioning depends on medical history of a patient. Doctors typically use past patient records from multiple visits collected through lab tests, procedures and patient diagnoses records to determine the right treatment. The medical history and patient demographics can be used to identify and analyse patterns that groups patients into cohorts.\n",
    "\n",
    "The cohorts formed vary in terms of diseases, test results and patient data. Electronic Health Records are a systematic way to collect huge amounts of digital health information from multiple sources. Accessing this data and using it to create the cohorts presents initial analysis and proper medical path to be followed for any patient dependingon the results from similar patients belonging to the same cohort.\n",
    "\n",
    "The problem is clearly identified as an unsupervised machine learning problem and I will use relevant algorithms to distinguish various cohorts based on their differences. Furthermore, this analysis can be used for drug analysis, identifying disease progression and much more.\n"
   ]
  },
  {
   "cell_type": "markdown",
   "metadata": {},
   "source": [
    "## Import Libraries"
   ]
  },
  {
   "cell_type": "code",
   "execution_count": 3,
   "metadata": {},
   "outputs": [],
   "source": [
    "# in-built libraries\n",
    "import pandas as pd\n",
    "from matplotlib import pyplot as plt\n",
    "from datetime import datetime\n",
    "import matplotlib.dates as mdates\n",
    "from datetime import date\n",
    "import math\n",
    "# external libraries\n",
    "from minisom import MiniSom "
   ]
  },
  {
   "cell_type": "markdown",
   "metadata": {},
   "source": [
    "## Import Data"
   ]
  },
  {
   "cell_type": "code",
   "execution_count": 4,
   "metadata": {},
   "outputs": [
    {
     "data": {
      "text/html": [
       "<div>\n",
       "<style scoped>\n",
       "    .dataframe tbody tr th:only-of-type {\n",
       "        vertical-align: middle;\n",
       "    }\n",
       "\n",
       "    .dataframe tbody tr th {\n",
       "        vertical-align: top;\n",
       "    }\n",
       "\n",
       "    .dataframe thead th {\n",
       "        text-align: right;\n",
       "    }\n",
       "</style>\n",
       "<table border=\"1\" class=\"dataframe\">\n",
       "  <thead>\n",
       "    <tr style=\"text-align: right;\">\n",
       "      <th></th>\n",
       "      <th>PatientID</th>\n",
       "      <th>PatientGender</th>\n",
       "      <th>PatientDateOfBirth</th>\n",
       "      <th>PatientRace</th>\n",
       "      <th>PatientMaritalStatus</th>\n",
       "      <th>PatientLanguage</th>\n",
       "      <th>PatientPopulationPercentageBelowPoverty</th>\n",
       "    </tr>\n",
       "  </thead>\n",
       "  <tbody>\n",
       "    <tr>\n",
       "      <th>0</th>\n",
       "      <td>FB2ABB23-C9D0-4D09-8464-49BF0B982F0F</td>\n",
       "      <td>Male</td>\n",
       "      <td>1947-12-28 02:45:40.547</td>\n",
       "      <td>Unknown</td>\n",
       "      <td>Married</td>\n",
       "      <td>Icelandic</td>\n",
       "      <td>18.08</td>\n",
       "    </tr>\n",
       "    <tr>\n",
       "      <th>1</th>\n",
       "      <td>64182B95-EB72-4E2B-BE77-8050B71498CE</td>\n",
       "      <td>Male</td>\n",
       "      <td>1952-01-18 19:51:12.917</td>\n",
       "      <td>African American</td>\n",
       "      <td>Separated</td>\n",
       "      <td>English</td>\n",
       "      <td>13.03</td>\n",
       "    </tr>\n",
       "    <tr>\n",
       "      <th>2</th>\n",
       "      <td>DB22A4D9-7E4D-485C-916A-9CD1386507FB</td>\n",
       "      <td>Female</td>\n",
       "      <td>1970-07-25 13:04:20.717</td>\n",
       "      <td>Asian</td>\n",
       "      <td>Married</td>\n",
       "      <td>English</td>\n",
       "      <td>6.67</td>\n",
       "    </tr>\n",
       "    <tr>\n",
       "      <th>3</th>\n",
       "      <td>6E70D84D-C75F-477C-BC37-9177C3698C66</td>\n",
       "      <td>Male</td>\n",
       "      <td>1979-01-04 05:45:29.580</td>\n",
       "      <td>White</td>\n",
       "      <td>Married</td>\n",
       "      <td>English</td>\n",
       "      <td>16.09</td>\n",
       "    </tr>\n",
       "    <tr>\n",
       "      <th>4</th>\n",
       "      <td>C8556CC0-32FC-4CA5-A8CD-9CCF38816167</td>\n",
       "      <td>Female</td>\n",
       "      <td>1921-04-11 11:39:49.197</td>\n",
       "      <td>White</td>\n",
       "      <td>Married</td>\n",
       "      <td>English</td>\n",
       "      <td>18.20</td>\n",
       "    </tr>\n",
       "  </tbody>\n",
       "</table>\n",
       "</div>"
      ],
      "text/plain": [
       "                              PatientID PatientGender  \\\n",
       "0  FB2ABB23-C9D0-4D09-8464-49BF0B982F0F          Male   \n",
       "1  64182B95-EB72-4E2B-BE77-8050B71498CE          Male   \n",
       "2  DB22A4D9-7E4D-485C-916A-9CD1386507FB        Female   \n",
       "3  6E70D84D-C75F-477C-BC37-9177C3698C66          Male   \n",
       "4  C8556CC0-32FC-4CA5-A8CD-9CCF38816167        Female   \n",
       "\n",
       "        PatientDateOfBirth       PatientRace PatientMaritalStatus  \\\n",
       "0  1947-12-28 02:45:40.547           Unknown              Married   \n",
       "1  1952-01-18 19:51:12.917  African American            Separated   \n",
       "2  1970-07-25 13:04:20.717             Asian              Married   \n",
       "3  1979-01-04 05:45:29.580             White              Married   \n",
       "4  1921-04-11 11:39:49.197             White              Married   \n",
       "\n",
       "  PatientLanguage  PatientPopulationPercentageBelowPoverty  \n",
       "0       Icelandic                                    18.08  \n",
       "1         English                                    13.03  \n",
       "2         English                                     6.67  \n",
       "3         English                                    16.09  \n",
       "4         English                                    18.20  "
      ]
     },
     "execution_count": 4,
     "metadata": {},
     "output_type": "execute_result"
    }
   ],
   "source": [
    "# There are 4 different text files each with data separated by tab space which we will import into individual datasets\n",
    "admissions_df = pd.read_csv(\"AdmissionsCorePopulatedTable.txt\", sep=\"\\t\")\n",
    "diagnoses_df = pd.read_csv(\"AdmissionsDiagnosesCorePopulatedTable.txt\", sep=\"\\t\")\n",
    "labs_df = pd.read_csv(\"LabsCorePopulatedTable.txt\", sep=\"\\t\")\n",
    "patient_df = pd.read_csv(\"PatientCorePopulatedTable.txt\", sep=\"\\t\")\n",
    "patient_df.head()"
   ]
  },
  {
   "cell_type": "code",
   "execution_count": 5,
   "metadata": {},
   "outputs": [
    {
     "data": {
      "text/html": [
       "<div>\n",
       "<style scoped>\n",
       "    .dataframe tbody tr th:only-of-type {\n",
       "        vertical-align: middle;\n",
       "    }\n",
       "\n",
       "    .dataframe tbody tr th {\n",
       "        vertical-align: top;\n",
       "    }\n",
       "\n",
       "    .dataframe thead th {\n",
       "        text-align: right;\n",
       "    }\n",
       "</style>\n",
       "<table border=\"1\" class=\"dataframe\">\n",
       "  <thead>\n",
       "    <tr style=\"text-align: right;\">\n",
       "      <th></th>\n",
       "      <th>PatientID</th>\n",
       "      <th>AdmissionID</th>\n",
       "      <th>AdmissionStartDate</th>\n",
       "      <th>AdmissionEndDate</th>\n",
       "    </tr>\n",
       "  </thead>\n",
       "  <tbody>\n",
       "    <tr>\n",
       "      <th>0</th>\n",
       "      <td>7A025E77-7832-4F53-B9A7-09A3F98AC17E</td>\n",
       "      <td>7</td>\n",
       "      <td>2011-10-12 14:55:02.027</td>\n",
       "      <td>2011-10-22 01:16:07.557</td>\n",
       "    </tr>\n",
       "    <tr>\n",
       "      <th>1</th>\n",
       "      <td>DCE5AEB8-6DB9-4106-8AE4-02CCC5C23741</td>\n",
       "      <td>1</td>\n",
       "      <td>1993-02-11 18:57:04.003</td>\n",
       "      <td>1993-02-24 17:22:29.713</td>\n",
       "    </tr>\n",
       "    <tr>\n",
       "      <th>2</th>\n",
       "      <td>DCE5AEB8-6DB9-4106-8AE4-02CCC5C23741</td>\n",
       "      <td>2</td>\n",
       "      <td>2002-11-28 19:06:31.117</td>\n",
       "      <td>2002-12-04 19:14:40.797</td>\n",
       "    </tr>\n",
       "    <tr>\n",
       "      <th>3</th>\n",
       "      <td>DCE5AEB8-6DB9-4106-8AE4-02CCC5C23741</td>\n",
       "      <td>3</td>\n",
       "      <td>2011-07-19 18:42:45.287</td>\n",
       "      <td>2011-07-25 04:57:42.053</td>\n",
       "    </tr>\n",
       "    <tr>\n",
       "      <th>4</th>\n",
       "      <td>886B5885-1EE2-49F3-98D5-A2F02EB8A9D4</td>\n",
       "      <td>1</td>\n",
       "      <td>1994-12-03 22:20:46.077</td>\n",
       "      <td>1994-12-20 20:24:56.010</td>\n",
       "    </tr>\n",
       "  </tbody>\n",
       "</table>\n",
       "</div>"
      ],
      "text/plain": [
       "                              PatientID  AdmissionID       AdmissionStartDate  \\\n",
       "0  7A025E77-7832-4F53-B9A7-09A3F98AC17E            7  2011-10-12 14:55:02.027   \n",
       "1  DCE5AEB8-6DB9-4106-8AE4-02CCC5C23741            1  1993-02-11 18:57:04.003   \n",
       "2  DCE5AEB8-6DB9-4106-8AE4-02CCC5C23741            2  2002-11-28 19:06:31.117   \n",
       "3  DCE5AEB8-6DB9-4106-8AE4-02CCC5C23741            3  2011-07-19 18:42:45.287   \n",
       "4  886B5885-1EE2-49F3-98D5-A2F02EB8A9D4            1  1994-12-03 22:20:46.077   \n",
       "\n",
       "          AdmissionEndDate  \n",
       "0  2011-10-22 01:16:07.557  \n",
       "1  1993-02-24 17:22:29.713  \n",
       "2  2002-12-04 19:14:40.797  \n",
       "3  2011-07-25 04:57:42.053  \n",
       "4  1994-12-20 20:24:56.010  "
      ]
     },
     "execution_count": 5,
     "metadata": {},
     "output_type": "execute_result"
    }
   ],
   "source": [
    "admissions_df.head()"
   ]
  },
  {
   "cell_type": "code",
   "execution_count": 6,
   "metadata": {},
   "outputs": [
    {
     "data": {
      "text/html": [
       "<div>\n",
       "<style scoped>\n",
       "    .dataframe tbody tr th:only-of-type {\n",
       "        vertical-align: middle;\n",
       "    }\n",
       "\n",
       "    .dataframe tbody tr th {\n",
       "        vertical-align: top;\n",
       "    }\n",
       "\n",
       "    .dataframe thead th {\n",
       "        text-align: right;\n",
       "    }\n",
       "</style>\n",
       "<table border=\"1\" class=\"dataframe\">\n",
       "  <thead>\n",
       "    <tr style=\"text-align: right;\">\n",
       "      <th></th>\n",
       "      <th>PatientID</th>\n",
       "      <th>AdmissionID</th>\n",
       "      <th>PrimaryDiagnosisCode</th>\n",
       "      <th>PrimaryDiagnosisDescription</th>\n",
       "    </tr>\n",
       "  </thead>\n",
       "  <tbody>\n",
       "    <tr>\n",
       "      <th>0</th>\n",
       "      <td>80AC01B2-BD55-4BE0-A59A-4024104CF4E9</td>\n",
       "      <td>2</td>\n",
       "      <td>M01.X</td>\n",
       "      <td>Direct infection of joint in infectious and pa...</td>\n",
       "    </tr>\n",
       "    <tr>\n",
       "      <th>1</th>\n",
       "      <td>80AC01B2-BD55-4BE0-A59A-4024104CF4E9</td>\n",
       "      <td>3</td>\n",
       "      <td>D65</td>\n",
       "      <td>Disseminated intravascular coagulation [defibr...</td>\n",
       "    </tr>\n",
       "    <tr>\n",
       "      <th>2</th>\n",
       "      <td>80AC01B2-BD55-4BE0-A59A-4024104CF4E9</td>\n",
       "      <td>4</td>\n",
       "      <td>C92.1</td>\n",
       "      <td>Chronic myeloid leukemia, BCR/ABL-positive</td>\n",
       "    </tr>\n",
       "    <tr>\n",
       "      <th>3</th>\n",
       "      <td>80AC01B2-BD55-4BE0-A59A-4024104CF4E9</td>\n",
       "      <td>5</td>\n",
       "      <td>M05.51</td>\n",
       "      <td>Rheumatoid polyneuropathy with rheumatoid arth...</td>\n",
       "    </tr>\n",
       "    <tr>\n",
       "      <th>4</th>\n",
       "      <td>6A57AC0C-57F3-4C19-98A1-51135EFBC4FF</td>\n",
       "      <td>1</td>\n",
       "      <td>C91.00</td>\n",
       "      <td>Acute lymphoblastic leukemia not having achiev...</td>\n",
       "    </tr>\n",
       "  </tbody>\n",
       "</table>\n",
       "</div>"
      ],
      "text/plain": [
       "                              PatientID  AdmissionID PrimaryDiagnosisCode  \\\n",
       "0  80AC01B2-BD55-4BE0-A59A-4024104CF4E9            2                M01.X   \n",
       "1  80AC01B2-BD55-4BE0-A59A-4024104CF4E9            3                  D65   \n",
       "2  80AC01B2-BD55-4BE0-A59A-4024104CF4E9            4                C92.1   \n",
       "3  80AC01B2-BD55-4BE0-A59A-4024104CF4E9            5               M05.51   \n",
       "4  6A57AC0C-57F3-4C19-98A1-51135EFBC4FF            1               C91.00   \n",
       "\n",
       "                         PrimaryDiagnosisDescription  \n",
       "0  Direct infection of joint in infectious and pa...  \n",
       "1  Disseminated intravascular coagulation [defibr...  \n",
       "2         Chronic myeloid leukemia, BCR/ABL-positive  \n",
       "3  Rheumatoid polyneuropathy with rheumatoid arth...  \n",
       "4  Acute lymphoblastic leukemia not having achiev...  "
      ]
     },
     "execution_count": 6,
     "metadata": {},
     "output_type": "execute_result"
    }
   ],
   "source": [
    "diagnoses_df.head()"
   ]
  },
  {
   "cell_type": "markdown",
   "metadata": {},
   "source": [
    "## Data Cleaning"
   ]
  },
  {
   "cell_type": "code",
   "execution_count": 7,
   "metadata": {},
   "outputs": [],
   "source": [
    "# Function to calculate age compared to todays date\n",
    "def calculate_age(birth_date):\n",
    "        today = date.today()\n",
    "        age = today.year - birth_date.year\n",
    "        full_year_passed = (today.month, today.day) < (birth_date.month, birth_date.day)\n",
    "        if not full_year_passed:\n",
    "            age -= 1\n",
    "        return age"
   ]
  },
  {
   "cell_type": "code",
   "execution_count": 8,
   "metadata": {},
   "outputs": [],
   "source": [
    "# Adding the age column to the dataset\n",
    "myFmt = mdates.DateFormatter('%d')\n",
    "patient_df[\"PatientDateOfBirth\"] = patient_df[\"PatientDateOfBirth\"].apply(lambda x: datetime.strptime(x, '%Y-%m-%d %H:%M:%S.%f'))\n",
    "patient_df[\"Age\"] = patient_df[\"PatientDateOfBirth\"].apply(calculate_age)"
   ]
  },
  {
   "cell_type": "markdown",
   "metadata": {},
   "source": [
    "Converting AdmissionStartDate and AdmissionEndDate into datetime64 format to calculate the number of hours spent in admission"
   ]
  },
  {
   "cell_type": "code",
   "execution_count": 9,
   "metadata": {},
   "outputs": [],
   "source": [
    "admissions_df[\"AdmissionStartDate\"] = admissions_df[\"AdmissionStartDate\"].apply(lambda x: datetime.strptime(x, '%Y-%m-%d %H:%M:%S.%f'))\n",
    "admissions_df[\"AdmissionEndDate\"] = admissions_df[\"AdmissionEndDate\"].apply(lambda x: datetime.strptime(x, '%Y-%m-%d %H:%M:%S.%f'))"
   ]
  },
  {
   "cell_type": "code",
   "execution_count": 10,
   "metadata": {},
   "outputs": [
    {
     "data": {
      "text/plain": [
       "PatientID                     object\n",
       "AdmissionID                    int64\n",
       "AdmissionStartDate    datetime64[ns]\n",
       "AdmissionEndDate      datetime64[ns]\n",
       "dtype: object"
      ]
     },
     "execution_count": 10,
     "metadata": {},
     "output_type": "execute_result"
    }
   ],
   "source": [
    "admissions_df.dtypes"
   ]
  },
  {
   "cell_type": "code",
   "execution_count": 11,
   "metadata": {},
   "outputs": [],
   "source": [
    "admissions_df[\"num_hours\"] = (admissions_df.AdmissionEndDate-admissions_df.AdmissionStartDate).astype('timedelta64[h]')"
   ]
  },
  {
   "cell_type": "code",
   "execution_count": 12,
   "metadata": {},
   "outputs": [
    {
     "data": {
      "text/html": [
       "<div>\n",
       "<style scoped>\n",
       "    .dataframe tbody tr th:only-of-type {\n",
       "        vertical-align: middle;\n",
       "    }\n",
       "\n",
       "    .dataframe tbody tr th {\n",
       "        vertical-align: top;\n",
       "    }\n",
       "\n",
       "    .dataframe thead th {\n",
       "        text-align: right;\n",
       "    }\n",
       "</style>\n",
       "<table border=\"1\" class=\"dataframe\">\n",
       "  <thead>\n",
       "    <tr style=\"text-align: right;\">\n",
       "      <th></th>\n",
       "      <th>PatientID</th>\n",
       "      <th>AdmissionID</th>\n",
       "      <th>AdmissionStartDate</th>\n",
       "      <th>AdmissionEndDate</th>\n",
       "      <th>num_hours</th>\n",
       "    </tr>\n",
       "  </thead>\n",
       "  <tbody>\n",
       "    <tr>\n",
       "      <th>0</th>\n",
       "      <td>7A025E77-7832-4F53-B9A7-09A3F98AC17E</td>\n",
       "      <td>7</td>\n",
       "      <td>2011-10-12 14:55:02.027</td>\n",
       "      <td>2011-10-22 01:16:07.557</td>\n",
       "      <td>226.0</td>\n",
       "    </tr>\n",
       "    <tr>\n",
       "      <th>1</th>\n",
       "      <td>DCE5AEB8-6DB9-4106-8AE4-02CCC5C23741</td>\n",
       "      <td>1</td>\n",
       "      <td>1993-02-11 18:57:04.003</td>\n",
       "      <td>1993-02-24 17:22:29.713</td>\n",
       "      <td>310.0</td>\n",
       "    </tr>\n",
       "    <tr>\n",
       "      <th>2</th>\n",
       "      <td>DCE5AEB8-6DB9-4106-8AE4-02CCC5C23741</td>\n",
       "      <td>2</td>\n",
       "      <td>2002-11-28 19:06:31.117</td>\n",
       "      <td>2002-12-04 19:14:40.797</td>\n",
       "      <td>144.0</td>\n",
       "    </tr>\n",
       "    <tr>\n",
       "      <th>3</th>\n",
       "      <td>DCE5AEB8-6DB9-4106-8AE4-02CCC5C23741</td>\n",
       "      <td>3</td>\n",
       "      <td>2011-07-19 18:42:45.287</td>\n",
       "      <td>2011-07-25 04:57:42.053</td>\n",
       "      <td>130.0</td>\n",
       "    </tr>\n",
       "    <tr>\n",
       "      <th>4</th>\n",
       "      <td>886B5885-1EE2-49F3-98D5-A2F02EB8A9D4</td>\n",
       "      <td>1</td>\n",
       "      <td>1994-12-03 22:20:46.077</td>\n",
       "      <td>1994-12-20 20:24:56.010</td>\n",
       "      <td>406.0</td>\n",
       "    </tr>\n",
       "  </tbody>\n",
       "</table>\n",
       "</div>"
      ],
      "text/plain": [
       "                              PatientID  AdmissionID      AdmissionStartDate  \\\n",
       "0  7A025E77-7832-4F53-B9A7-09A3F98AC17E            7 2011-10-12 14:55:02.027   \n",
       "1  DCE5AEB8-6DB9-4106-8AE4-02CCC5C23741            1 1993-02-11 18:57:04.003   \n",
       "2  DCE5AEB8-6DB9-4106-8AE4-02CCC5C23741            2 2002-11-28 19:06:31.117   \n",
       "3  DCE5AEB8-6DB9-4106-8AE4-02CCC5C23741            3 2011-07-19 18:42:45.287   \n",
       "4  886B5885-1EE2-49F3-98D5-A2F02EB8A9D4            1 1994-12-03 22:20:46.077   \n",
       "\n",
       "         AdmissionEndDate  num_hours  \n",
       "0 2011-10-22 01:16:07.557      226.0  \n",
       "1 1993-02-24 17:22:29.713      310.0  \n",
       "2 2002-12-04 19:14:40.797      144.0  \n",
       "3 2011-07-25 04:57:42.053      130.0  \n",
       "4 1994-12-20 20:24:56.010      406.0  "
      ]
     },
     "execution_count": 12,
     "metadata": {},
     "output_type": "execute_result"
    }
   ],
   "source": [
    "admissions_df.head()"
   ]
  },
  {
   "cell_type": "markdown",
   "metadata": {},
   "source": [
    "## Visualization and Analysis"
   ]
  },
  {
   "cell_type": "markdown",
   "metadata": {},
   "source": [
    "### Patient Data Distribution"
   ]
  },
  {
   "cell_type": "code",
   "execution_count": 13,
   "metadata": {},
   "outputs": [
    {
     "data": {
      "text/plain": [
       "<BarContainer object of 4 artists>"
      ]
     },
     "execution_count": 13,
     "metadata": {},
     "output_type": "execute_result"
    },
    {
     "data": {
      "image/png": "[encoded data removed]",
      "text/plain": [
       "<Figure size 1080x360 with 4 Axes>"
      ]
     },
     "metadata": {
      "needs_background": "light"
     },
     "output_type": "display_data"
    }
   ],
   "source": [
    "f, ((ax1, ax2), (ax3, ax4)) = plt.subplots(2, 2, figsize=(15,5))\n",
    "patient_grouped_df = patient_df.groupby('PatientGender')['PatientID'].nunique().reset_index()\n",
    "ax1.bar(patient_grouped_df[\"PatientGender\"],patient_grouped_df[\"PatientID\"])\n",
    "patient_grouped_df = patient_df.groupby('PatientRace')['PatientID'].nunique().reset_index()\n",
    "ax2.bar(patient_grouped_df[\"PatientRace\"],patient_grouped_df[\"PatientID\"])\n",
    "patient_grouped_df = patient_df.groupby('PatientMaritalStatus')['PatientID'].nunique().reset_index()\n",
    "ax3.bar(patient_grouped_df[\"PatientMaritalStatus\"],patient_grouped_df[\"PatientID\"])\n",
    "patient_grouped_df = patient_df.groupby('PatientLanguage')['PatientID'].nunique().reset_index()\n",
    "ax4.bar(patient_grouped_df[\"PatientLanguage\"],patient_grouped_df[\"PatientID\"])"
   ]
  },
  {
   "cell_type": "markdown",
   "metadata": {},
   "source": [
    "The graphs show distribution of categories across the patients. The goal is to understand why some groups are favoured compared to others"
   ]
  },
  {
   "cell_type": "markdown",
   "metadata": {},
   "source": [
    "Creating age groups - Grouping creates categories of ages for better clustering"
   ]
  },
  {
   "cell_type": "code",
   "execution_count": 14,
   "metadata": {},
   "outputs": [
    {
     "data": {
      "text/plain": [
       "<BarContainer object of 9 artists>"
      ]
     },
     "execution_count": 14,
     "metadata": {},
     "output_type": "execute_result"
    },
    {
     "data": {
      "image/png": "[encoded data removed]",
      "text/plain": [
       "<Figure size 1080x360 with 1 Axes>"
      ]
     },
     "metadata": {
      "needs_background": "light"
     },
     "output_type": "display_data"
    }
   ],
   "source": [
    "bins = [0, 30, 40, 50, 60, 70, 80, 90, 100, 120]\n",
    "labels = ['<30', '30-39', '40-49', '50-59', '60-69', '70-79', '80-89', '90-99', '100>']\n",
    "patient_df['AgeRange'] = pd.cut(patient_df.Age, bins, labels = labels,include_lowest = True)\n",
    "\n",
    "plt.figure(figsize=(15,5))\n",
    "patient_grouped_df = patient_df.groupby('AgeRange')['PatientID'].nunique().reset_index()\n",
    "plt.bar(patient_grouped_df[\"AgeRange\"],patient_grouped_df[\"PatientID\"])"
   ]
  },
  {
   "cell_type": "markdown",
   "metadata": {},
   "source": [
    "### Admission Data Distribution"
   ]
  },
  {
   "cell_type": "code",
   "execution_count": 15,
   "metadata": {},
   "outputs": [
    {
     "data": {
      "text/plain": [
       "<matplotlib.axes._subplots.AxesSubplot at 0x20b1b6bdec8>"
      ]
     },
     "execution_count": 15,
     "metadata": {},
     "output_type": "execute_result"
    },
    {
     "data": {
      "image/png": "[encoded data removed]",
      "text/plain": [
       "<Figure size 1080x360 with 2 Axes>"
      ]
     },
     "metadata": {
      "needs_background": "light"
     },
     "output_type": "display_data"
    }
   ],
   "source": [
    "f, ((ax1, ax2)) = plt.subplots(1, 2, figsize=(15,5))\n",
    "admission_grouped_df = admissions_df.groupby('AdmissionID')['PatientID'].nunique().reset_index()\n",
    "ax1.bar(admission_grouped_df[\"AdmissionID\"],admission_grouped_df[\"PatientID\"])\n",
    "admissions_df.boxplot(column=['num_hours'], by='AdmissionID', ax=ax2)"
   ]
  },
  {
   "cell_type": "markdown",
   "metadata": {},
   "source": [
    "The bar chart shows the earlier visits to have more patients. The boxplot shows the visit number which takes up most of the time."
   ]
  },
  {
   "cell_type": "markdown",
   "metadata": {},
   "source": [
    "### Diagnosis Data Distribution"
   ]
  },
  {
   "cell_type": "code",
   "execution_count": 16,
   "metadata": {},
   "outputs": [
    {
     "data": {
      "text/html": [
       "<div>\n",
       "<style scoped>\n",
       "    .dataframe tbody tr th:only-of-type {\n",
       "        vertical-align: middle;\n",
       "    }\n",
       "\n",
       "    .dataframe tbody tr th {\n",
       "        vertical-align: top;\n",
       "    }\n",
       "\n",
       "    .dataframe thead th {\n",
       "        text-align: right;\n",
       "    }\n",
       "</style>\n",
       "<table border=\"1\" class=\"dataframe\">\n",
       "  <thead>\n",
       "    <tr style=\"text-align: right;\">\n",
       "      <th></th>\n",
       "      <th>PrimaryDiagnosisCode</th>\n",
       "      <th>PatientID</th>\n",
       "    </tr>\n",
       "  </thead>\n",
       "  <tbody>\n",
       "    <tr>\n",
       "      <th>0</th>\n",
       "      <td>A42.0</td>\n",
       "      <td>1</td>\n",
       "    </tr>\n",
       "    <tr>\n",
       "      <th>1</th>\n",
       "      <td>A48.2</td>\n",
       "      <td>1</td>\n",
       "    </tr>\n",
       "    <tr>\n",
       "      <th>2</th>\n",
       "      <td>A52.0</td>\n",
       "      <td>1</td>\n",
       "    </tr>\n",
       "    <tr>\n",
       "      <th>3</th>\n",
       "      <td>A83.6</td>\n",
       "      <td>1</td>\n",
       "    </tr>\n",
       "    <tr>\n",
       "      <th>4</th>\n",
       "      <td>A98.3</td>\n",
       "      <td>1</td>\n",
       "    </tr>\n",
       "  </tbody>\n",
       "</table>\n",
       "</div>"
      ],
      "text/plain": [
       "  PrimaryDiagnosisCode  PatientID\n",
       "0                A42.0          1\n",
       "1                A48.2          1\n",
       "2                A52.0          1\n",
       "3                A83.6          1\n",
       "4                A98.3          1"
      ]
     },
     "execution_count": 16,
     "metadata": {},
     "output_type": "execute_result"
    }
   ],
   "source": [
    "diagnoses_grouped_df = diagnoses_df.groupby('PrimaryDiagnosisCode')['PatientID'].nunique().reset_index()\n",
    "diagnoses_grouped_df.head()"
   ]
  },
  {
   "cell_type": "markdown",
   "metadata": {},
   "source": [
    "Dividing the PrimaryDiagnosisCode into multiple columns to be able to create better clusters"
   ]
  },
  {
   "cell_type": "code",
   "execution_count": 17,
   "metadata": {},
   "outputs": [
    {
     "data": {
      "text/html": [
       "<div>\n",
       "<style scoped>\n",
       "    .dataframe tbody tr th:only-of-type {\n",
       "        vertical-align: middle;\n",
       "    }\n",
       "\n",
       "    .dataframe tbody tr th {\n",
       "        vertical-align: top;\n",
       "    }\n",
       "\n",
       "    .dataframe thead th {\n",
       "        text-align: right;\n",
       "    }\n",
       "</style>\n",
       "<table border=\"1\" class=\"dataframe\">\n",
       "  <thead>\n",
       "    <tr style=\"text-align: right;\">\n",
       "      <th></th>\n",
       "      <th>PatientID</th>\n",
       "      <th>AdmissionID</th>\n",
       "      <th>PrimaryDiagnosisCode</th>\n",
       "      <th>PrimaryDiagnosisDescription</th>\n",
       "      <th>OverallDiagnosisCode</th>\n",
       "      <th>DiagnosisCode1</th>\n",
       "      <th>DiagnosisCode2</th>\n",
       "    </tr>\n",
       "  </thead>\n",
       "  <tbody>\n",
       "    <tr>\n",
       "      <th>0</th>\n",
       "      <td>80AC01B2-BD55-4BE0-A59A-4024104CF4E9</td>\n",
       "      <td>2</td>\n",
       "      <td>M01.X</td>\n",
       "      <td>Direct infection of joint in infectious and pa...</td>\n",
       "      <td>M</td>\n",
       "      <td>M01</td>\n",
       "      <td>X</td>\n",
       "    </tr>\n",
       "    <tr>\n",
       "      <th>1</th>\n",
       "      <td>80AC01B2-BD55-4BE0-A59A-4024104CF4E9</td>\n",
       "      <td>3</td>\n",
       "      <td>D65</td>\n",
       "      <td>Disseminated intravascular coagulation [defibr...</td>\n",
       "      <td>D</td>\n",
       "      <td>D65</td>\n",
       "      <td></td>\n",
       "    </tr>\n",
       "    <tr>\n",
       "      <th>2</th>\n",
       "      <td>80AC01B2-BD55-4BE0-A59A-4024104CF4E9</td>\n",
       "      <td>4</td>\n",
       "      <td>C92.1</td>\n",
       "      <td>Chronic myeloid leukemia, BCR/ABL-positive</td>\n",
       "      <td>C</td>\n",
       "      <td>C92</td>\n",
       "      <td>1</td>\n",
       "    </tr>\n",
       "    <tr>\n",
       "      <th>3</th>\n",
       "      <td>80AC01B2-BD55-4BE0-A59A-4024104CF4E9</td>\n",
       "      <td>5</td>\n",
       "      <td>M05.51</td>\n",
       "      <td>Rheumatoid polyneuropathy with rheumatoid arth...</td>\n",
       "      <td>M</td>\n",
       "      <td>M05</td>\n",
       "      <td>51</td>\n",
       "    </tr>\n",
       "    <tr>\n",
       "      <th>4</th>\n",
       "      <td>6A57AC0C-57F3-4C19-98A1-51135EFBC4FF</td>\n",
       "      <td>1</td>\n",
       "      <td>C91.00</td>\n",
       "      <td>Acute lymphoblastic leukemia not having achiev...</td>\n",
       "      <td>C</td>\n",
       "      <td>C91</td>\n",
       "      <td>00</td>\n",
       "    </tr>\n",
       "  </tbody>\n",
       "</table>\n",
       "</div>"
      ],
      "text/plain": [
       "                              PatientID  AdmissionID PrimaryDiagnosisCode  \\\n",
       "0  80AC01B2-BD55-4BE0-A59A-4024104CF4E9            2                M01.X   \n",
       "1  80AC01B2-BD55-4BE0-A59A-4024104CF4E9            3                  D65   \n",
       "2  80AC01B2-BD55-4BE0-A59A-4024104CF4E9            4                C92.1   \n",
       "3  80AC01B2-BD55-4BE0-A59A-4024104CF4E9            5               M05.51   \n",
       "4  6A57AC0C-57F3-4C19-98A1-51135EFBC4FF            1               C91.00   \n",
       "\n",
       "                         PrimaryDiagnosisDescription OverallDiagnosisCode  \\\n",
       "0  Direct infection of joint in infectious and pa...                    M   \n",
       "1  Disseminated intravascular coagulation [defibr...                    D   \n",
       "2         Chronic myeloid leukemia, BCR/ABL-positive                    C   \n",
       "3  Rheumatoid polyneuropathy with rheumatoid arth...                    M   \n",
       "4  Acute lymphoblastic leukemia not having achiev...                    C   \n",
       "\n",
       "  DiagnosisCode1 DiagnosisCode2  \n",
       "0            M01              X  \n",
       "1            D65                 \n",
       "2            C92              1  \n",
       "3            M05             51  \n",
       "4            C91             00  "
      ]
     },
     "execution_count": 17,
     "metadata": {},
     "output_type": "execute_result"
    }
   ],
   "source": [
    "diagnoses_df[\"OverallDiagnosisCode\"] = diagnoses_df[\"PrimaryDiagnosisCode\"].str[0]\n",
    "\n",
    "diagnoses_df[\"DiagnosisCode1\"] = diagnoses_df[\"PrimaryDiagnosisCode\"].str.split(\".\")\n",
    "diagnoses_df[\"DiagnosisCode1\"] = diagnoses_df[\"DiagnosisCode1\"].apply(lambda x: x[0])\n",
    "\n",
    "diagnoses_df[\"DiagnosisCode2\"] = diagnoses_df[\"PrimaryDiagnosisCode\"].str.split(\".\")\n",
    "diagnoses_df[\"DiagnosisCode2\"] = diagnoses_df[\"DiagnosisCode2\"].apply(lambda x: \"\" if len(x) < 2 else x[1])\n",
    "\n",
    "diagnoses_df.head()"
   ]
  },
  {
   "cell_type": "markdown",
   "metadata": {},
   "source": [
    "Understanding the common OverallDiagnosisCode among different patients"
   ]
  },
  {
   "cell_type": "code",
   "execution_count": 18,
   "metadata": {},
   "outputs": [
    {
     "data": {
      "text/plain": [
       "<matplotlib.axes._subplots.AxesSubplot at 0x20b1ba1ed88>"
      ]
     },
     "execution_count": 18,
     "metadata": {},
     "output_type": "execute_result"
    },
    {
     "data": {
      "image/png": "[encoded data removed]",
      "text/plain": [
       "<Figure size 432x288 with 1 Axes>"
      ]
     },
     "metadata": {
      "needs_background": "light"
     },
     "output_type": "display_data"
    }
   ],
   "source": [
    "diagnoses_grouped_df = diagnoses_df.groupby('OverallDiagnosisCode')['PatientID'].nunique().reset_index()\n",
    "diagnoses_grouped_df.plot.bar(x=\"OverallDiagnosisCode\" , y=\"PatientID\")"
   ]
  },
  {
   "cell_type": "code",
   "execution_count": 19,
   "metadata": {},
   "outputs": [
    {
     "data": {
      "text/html": [
       "<div>\n",
       "<style scoped>\n",
       "    .dataframe tbody tr th:only-of-type {\n",
       "        vertical-align: middle;\n",
       "    }\n",
       "\n",
       "    .dataframe tbody tr th {\n",
       "        vertical-align: top;\n",
       "    }\n",
       "\n",
       "    .dataframe thead th {\n",
       "        text-align: right;\n",
       "    }\n",
       "</style>\n",
       "<table border=\"1\" class=\"dataframe\">\n",
       "  <thead>\n",
       "    <tr style=\"text-align: right;\">\n",
       "      <th></th>\n",
       "      <th>PatientID</th>\n",
       "      <th>AdmissionID</th>\n",
       "      <th>PrimaryDiagnosisCode</th>\n",
       "      <th>PrimaryDiagnosisDescription</th>\n",
       "      <th>OverallDiagnosisCode</th>\n",
       "      <th>DiagnosisCode1</th>\n",
       "      <th>DiagnosisCode2</th>\n",
       "    </tr>\n",
       "  </thead>\n",
       "  <tbody>\n",
       "    <tr>\n",
       "      <th>38</th>\n",
       "      <td>9C75DF1F-9DA6-4C98-8F5B-E10BDC805ED0</td>\n",
       "      <td>1</td>\n",
       "      <td>Z13.810</td>\n",
       "      <td>Encounter for screening for upper gastrointest...</td>\n",
       "      <td>Z</td>\n",
       "      <td>Z13</td>\n",
       "      <td>810</td>\n",
       "    </tr>\n",
       "    <tr>\n",
       "      <th>40</th>\n",
       "      <td>A19A0B00-4C9A-4206-B1FE-17E6DA3CEB0B</td>\n",
       "      <td>1</td>\n",
       "      <td>Z13.83</td>\n",
       "      <td>Encounter for screening for respiratory disord...</td>\n",
       "      <td>Z</td>\n",
       "      <td>Z13</td>\n",
       "      <td>83</td>\n",
       "    </tr>\n",
       "    <tr>\n",
       "      <th>54</th>\n",
       "      <td>FA157FA5-F488-4884-BF87-E144630D595C</td>\n",
       "      <td>5</td>\n",
       "      <td>Z13.85</td>\n",
       "      <td>Encounter for screening for nervous system dis...</td>\n",
       "      <td>Z</td>\n",
       "      <td>Z13</td>\n",
       "      <td>85</td>\n",
       "    </tr>\n",
       "    <tr>\n",
       "      <th>64</th>\n",
       "      <td>DA6CECFF-DE13-4C4C-919F-64E1A2B76C9D</td>\n",
       "      <td>4</td>\n",
       "      <td>Z22.31</td>\n",
       "      <td>Carrier of bacterial disease due to meningococci</td>\n",
       "      <td>Z</td>\n",
       "      <td>Z22</td>\n",
       "      <td>31</td>\n",
       "    </tr>\n",
       "    <tr>\n",
       "      <th>88</th>\n",
       "      <td>25B786AF-0F99-478C-9CFA-0EA607E45834</td>\n",
       "      <td>6</td>\n",
       "      <td>Z22.31</td>\n",
       "      <td>Carrier of bacterial disease due to meningococci</td>\n",
       "      <td>Z</td>\n",
       "      <td>Z22</td>\n",
       "      <td>31</td>\n",
       "    </tr>\n",
       "    <tr>\n",
       "      <th>135</th>\n",
       "      <td>69B5D2A0-12FD-46EF-A5FF-B29C4BAFBE49</td>\n",
       "      <td>1</td>\n",
       "      <td>Z91.15</td>\n",
       "      <td>Patient's noncompliance with renal dialysis</td>\n",
       "      <td>Z</td>\n",
       "      <td>Z91</td>\n",
       "      <td>15</td>\n",
       "    </tr>\n",
       "    <tr>\n",
       "      <th>141</th>\n",
       "      <td>8D389A8C-A6D8-4447-9DDE-1A28AB4EC667</td>\n",
       "      <td>2</td>\n",
       "      <td>Z13.22</td>\n",
       "      <td>Encounter for screening for metabolic disorder</td>\n",
       "      <td>Z</td>\n",
       "      <td>Z13</td>\n",
       "      <td>22</td>\n",
       "    </tr>\n",
       "    <tr>\n",
       "      <th>157</th>\n",
       "      <td>49DADA25-F2C2-42BB-8210-D78E6C7B0D48</td>\n",
       "      <td>1</td>\n",
       "      <td>Z12</td>\n",
       "      <td>Encounter for screening for malignant neoplasms</td>\n",
       "      <td>Z</td>\n",
       "      <td>Z12</td>\n",
       "      <td></td>\n",
       "    </tr>\n",
       "    <tr>\n",
       "      <th>218</th>\n",
       "      <td>9E18822E-7D13-45C7-B50E-F95CFF92BC3E</td>\n",
       "      <td>1</td>\n",
       "      <td>Z13.0</td>\n",
       "      <td>Encounter for screening for diseases of the bl...</td>\n",
       "      <td>Z</td>\n",
       "      <td>Z13</td>\n",
       "      <td>0</td>\n",
       "    </tr>\n",
       "    <tr>\n",
       "      <th>229</th>\n",
       "      <td>98F593D2-8894-49BB-93B9-5A0E2CF85E2E</td>\n",
       "      <td>1</td>\n",
       "      <td>Z12.2</td>\n",
       "      <td>Encounter for screening for malignant neoplasm...</td>\n",
       "      <td>Z</td>\n",
       "      <td>Z12</td>\n",
       "      <td>2</td>\n",
       "    </tr>\n",
       "    <tr>\n",
       "      <th>272</th>\n",
       "      <td>6623F5D6-D581-4268-9F9B-21612FBBF7B5</td>\n",
       "      <td>3</td>\n",
       "      <td>Z12.71</td>\n",
       "      <td>Encounter for screening for malignant neoplasm...</td>\n",
       "      <td>Z</td>\n",
       "      <td>Z12</td>\n",
       "      <td>71</td>\n",
       "    </tr>\n",
       "    <tr>\n",
       "      <th>298</th>\n",
       "      <td>C8556CC0-32FC-4CA5-A8CD-9CCF38816167</td>\n",
       "      <td>1</td>\n",
       "      <td>Z12.13</td>\n",
       "      <td>Encounter for screening for malignant neoplasm...</td>\n",
       "      <td>Z</td>\n",
       "      <td>Z12</td>\n",
       "      <td>13</td>\n",
       "    </tr>\n",
       "    <tr>\n",
       "      <th>299</th>\n",
       "      <td>C8556CC0-32FC-4CA5-A8CD-9CCF38816167</td>\n",
       "      <td>2</td>\n",
       "      <td>Z95.810</td>\n",
       "      <td>Presence of automatic (implantable) cardiac de...</td>\n",
       "      <td>Z</td>\n",
       "      <td>Z95</td>\n",
       "      <td>810</td>\n",
       "    </tr>\n",
       "    <tr>\n",
       "      <th>332</th>\n",
       "      <td>3231F930-2978-4F50-8234-755449851E7B</td>\n",
       "      <td>2</td>\n",
       "      <td>Z49</td>\n",
       "      <td>Encounter for care involving renal dialysis</td>\n",
       "      <td>Z</td>\n",
       "      <td>Z49</td>\n",
       "      <td></td>\n",
       "    </tr>\n",
       "    <tr>\n",
       "      <th>364</th>\n",
       "      <td>4C201C71-CCED-40D1-9642-F9C8C485B854</td>\n",
       "      <td>6</td>\n",
       "      <td>Z22.31</td>\n",
       "      <td>Carrier of bacterial disease due to meningococci</td>\n",
       "      <td>Z</td>\n",
       "      <td>Z22</td>\n",
       "      <td>31</td>\n",
       "    </tr>\n",
       "  </tbody>\n",
       "</table>\n",
       "</div>"
      ],
      "text/plain": [
       "                                PatientID  AdmissionID PrimaryDiagnosisCode  \\\n",
       "38   9C75DF1F-9DA6-4C98-8F5B-E10BDC805ED0            1              Z13.810   \n",
       "40   A19A0B00-4C9A-4206-B1FE-17E6DA3CEB0B            1               Z13.83   \n",
       "54   FA157FA5-F488-4884-BF87-E144630D595C            5               Z13.85   \n",
       "64   DA6CECFF-DE13-4C4C-919F-64E1A2B76C9D            4               Z22.31   \n",
       "88   25B786AF-0F99-478C-9CFA-0EA607E45834            6               Z22.31   \n",
       "135  69B5D2A0-12FD-46EF-A5FF-B29C4BAFBE49            1               Z91.15   \n",
       "141  8D389A8C-A6D8-4447-9DDE-1A28AB4EC667            2               Z13.22   \n",
       "157  49DADA25-F2C2-42BB-8210-D78E6C7B0D48            1                  Z12   \n",
       "218  9E18822E-7D13-45C7-B50E-F95CFF92BC3E            1                Z13.0   \n",
       "229  98F593D2-8894-49BB-93B9-5A0E2CF85E2E            1                Z12.2   \n",
       "272  6623F5D6-D581-4268-9F9B-21612FBBF7B5            3               Z12.71   \n",
       "298  C8556CC0-32FC-4CA5-A8CD-9CCF38816167            1               Z12.13   \n",
       "299  C8556CC0-32FC-4CA5-A8CD-9CCF38816167            2              Z95.810   \n",
       "332  3231F930-2978-4F50-8234-755449851E7B            2                  Z49   \n",
       "364  4C201C71-CCED-40D1-9642-F9C8C485B854            6               Z22.31   \n",
       "\n",
       "                           PrimaryDiagnosisDescription OverallDiagnosisCode  \\\n",
       "38   Encounter for screening for upper gastrointest...                    Z   \n",
       "40   Encounter for screening for respiratory disord...                    Z   \n",
       "54   Encounter for screening for nervous system dis...                    Z   \n",
       "64    Carrier of bacterial disease due to meningococci                    Z   \n",
       "88    Carrier of bacterial disease due to meningococci                    Z   \n",
       "135        Patient's noncompliance with renal dialysis                    Z   \n",
       "141     Encounter for screening for metabolic disorder                    Z   \n",
       "157    Encounter for screening for malignant neoplasms                    Z   \n",
       "218  Encounter for screening for diseases of the bl...                    Z   \n",
       "229  Encounter for screening for malignant neoplasm...                    Z   \n",
       "272  Encounter for screening for malignant neoplasm...                    Z   \n",
       "298  Encounter for screening for malignant neoplasm...                    Z   \n",
       "299  Presence of automatic (implantable) cardiac de...                    Z   \n",
       "332        Encounter for care involving renal dialysis                    Z   \n",
       "364   Carrier of bacterial disease due to meningococci                    Z   \n",
       "\n",
       "    DiagnosisCode1 DiagnosisCode2  \n",
       "38             Z13            810  \n",
       "40             Z13             83  \n",
       "54             Z13             85  \n",
       "64             Z22             31  \n",
       "88             Z22             31  \n",
       "135            Z91             15  \n",
       "141            Z13             22  \n",
       "157            Z12                 \n",
       "218            Z13              0  \n",
       "229            Z12              2  \n",
       "272            Z12             71  \n",
       "298            Z12             13  \n",
       "299            Z95            810  \n",
       "332            Z49                 \n",
       "364            Z22             31  "
      ]
     },
     "execution_count": 19,
     "metadata": {},
     "output_type": "execute_result"
    }
   ],
   "source": [
    "diagnoses_df[diagnoses_df[\"OverallDiagnosisCode\"] == \"Z\"].head(15)"
   ]
  },
  {
   "cell_type": "markdown",
   "metadata": {},
   "source": [
    "The splitting of PrimaryDiagnosis to different columns makes sense when looking at the data above.\n",
    "For example the rows 2, 3 & 7 show how the descriptions vary with the specific detail when you compare the codes"
   ]
  },
  {
   "cell_type": "markdown",
   "metadata": {},
   "source": [
    "## Data Preparation"
   ]
  },
  {
   "cell_type": "markdown",
   "metadata": {},
   "source": [
    "Combining the datasets into one dataframe"
   ]
  },
  {
   "cell_type": "code",
   "execution_count": 20,
   "metadata": {},
   "outputs": [
    {
     "data": {
      "text/html": [
       "<div>\n",
       "<style scoped>\n",
       "    .dataframe tbody tr th:only-of-type {\n",
       "        vertical-align: middle;\n",
       "    }\n",
       "\n",
       "    .dataframe tbody tr th {\n",
       "        vertical-align: top;\n",
       "    }\n",
       "\n",
       "    .dataframe thead th {\n",
       "        text-align: right;\n",
       "    }\n",
       "</style>\n",
       "<table border=\"1\" class=\"dataframe\">\n",
       "  <thead>\n",
       "    <tr style=\"text-align: right;\">\n",
       "      <th></th>\n",
       "      <th>AdmissionID</th>\n",
       "      <th>num_hours</th>\n",
       "      <th>OverallDiagnosisCode</th>\n",
       "      <th>DiagnosisCode1</th>\n",
       "      <th>DiagnosisCode2</th>\n",
       "      <th>PatientGender</th>\n",
       "      <th>PatientRace</th>\n",
       "      <th>PatientMaritalStatus</th>\n",
       "      <th>PatientLanguage</th>\n",
       "      <th>AgeRange</th>\n",
       "      <th>LabName</th>\n",
       "      <th>LabValue</th>\n",
       "    </tr>\n",
       "  </thead>\n",
       "  <tbody>\n",
       "    <tr>\n",
       "      <th>0</th>\n",
       "      <td>7</td>\n",
       "      <td>226.0</td>\n",
       "      <td>F</td>\n",
       "      <td>F06</td>\n",
       "      <td>3</td>\n",
       "      <td>Female</td>\n",
       "      <td>Asian</td>\n",
       "      <td>Single</td>\n",
       "      <td>English</td>\n",
       "      <td>60-69</td>\n",
       "      <td>CBC: WHITE BLOOD CELL COUNT</td>\n",
       "      <td>3.1</td>\n",
       "    </tr>\n",
       "    <tr>\n",
       "      <th>1</th>\n",
       "      <td>7</td>\n",
       "      <td>226.0</td>\n",
       "      <td>F</td>\n",
       "      <td>F06</td>\n",
       "      <td>3</td>\n",
       "      <td>Female</td>\n",
       "      <td>Asian</td>\n",
       "      <td>Single</td>\n",
       "      <td>English</td>\n",
       "      <td>60-69</td>\n",
       "      <td>CBC: MCH</td>\n",
       "      <td>33.0</td>\n",
       "    </tr>\n",
       "    <tr>\n",
       "      <th>2</th>\n",
       "      <td>7</td>\n",
       "      <td>226.0</td>\n",
       "      <td>F</td>\n",
       "      <td>F06</td>\n",
       "      <td>3</td>\n",
       "      <td>Female</td>\n",
       "      <td>Asian</td>\n",
       "      <td>Single</td>\n",
       "      <td>English</td>\n",
       "      <td>60-69</td>\n",
       "      <td>CBC: LYMPHOCYTES</td>\n",
       "      <td>3.3</td>\n",
       "    </tr>\n",
       "    <tr>\n",
       "      <th>3</th>\n",
       "      <td>7</td>\n",
       "      <td>226.0</td>\n",
       "      <td>F</td>\n",
       "      <td>F06</td>\n",
       "      <td>3</td>\n",
       "      <td>Female</td>\n",
       "      <td>Asian</td>\n",
       "      <td>Single</td>\n",
       "      <td>English</td>\n",
       "      <td>60-69</td>\n",
       "      <td>METABOLIC: TOTAL PROTEIN</td>\n",
       "      <td>5.3</td>\n",
       "    </tr>\n",
       "    <tr>\n",
       "      <th>4</th>\n",
       "      <td>7</td>\n",
       "      <td>226.0</td>\n",
       "      <td>F</td>\n",
       "      <td>F06</td>\n",
       "      <td>3</td>\n",
       "      <td>Female</td>\n",
       "      <td>Asian</td>\n",
       "      <td>Single</td>\n",
       "      <td>English</td>\n",
       "      <td>60-69</td>\n",
       "      <td>URINALYSIS: RED BLOOD CELLS</td>\n",
       "      <td>2.9</td>\n",
       "    </tr>\n",
       "  </tbody>\n",
       "</table>\n",
       "</div>"
      ],
      "text/plain": [
       "   AdmissionID  num_hours OverallDiagnosisCode DiagnosisCode1 DiagnosisCode2  \\\n",
       "0            7      226.0                    F            F06              3   \n",
       "1            7      226.0                    F            F06              3   \n",
       "2            7      226.0                    F            F06              3   \n",
       "3            7      226.0                    F            F06              3   \n",
       "4            7      226.0                    F            F06              3   \n",
       "\n",
       "  PatientGender PatientRace PatientMaritalStatus PatientLanguage AgeRange  \\\n",
       "0        Female       Asian               Single         English    60-69   \n",
       "1        Female       Asian               Single         English    60-69   \n",
       "2        Female       Asian               Single         English    60-69   \n",
       "3        Female       Asian               Single         English    60-69   \n",
       "4        Female       Asian               Single         English    60-69   \n",
       "\n",
       "                       LabName  LabValue  \n",
       "0  CBC: WHITE BLOOD CELL COUNT       3.1  \n",
       "1                     CBC: MCH      33.0  \n",
       "2             CBC: LYMPHOCYTES       3.3  \n",
       "3     METABOLIC: TOTAL PROTEIN       5.3  \n",
       "4  URINALYSIS: RED BLOOD CELLS       2.9  "
      ]
     },
     "execution_count": 20,
     "metadata": {},
     "output_type": "execute_result"
    }
   ],
   "source": [
    "admitted_diagnoses_df = pd.merge(admissions_df,diagnoses_df,on=['PatientID','AdmissionID'], how='left')\n",
    "admitted_diagnoses_df.drop(columns=[\"AdmissionStartDate\", \"AdmissionEndDate\", \"PrimaryDiagnosisCode\", \"PrimaryDiagnosisDescription\"], inplace=True)\n",
    "admit_patient_diag_df = pd.merge(admitted_diagnoses_df,patient_df,on=['PatientID'], how='left')\n",
    "admit_patient_diag_df.drop(columns=[\"PatientDateOfBirth\", \"PatientPopulationPercentageBelowPoverty\", \"Age\"], inplace=True)\n",
    "admit_patient_lab_diag_df = pd.merge(admit_patient_diag_df, labs_df, on=['PatientID', 'AdmissionID'], how='left')\n",
    "admit_patient_lab_diag_df.drop(columns=[\"PatientID\", \"LabUnits\", \"LabDateTime\"], inplace=True)\n",
    "admit_patient_lab_diag_df.head()"
   ]
  },
  {
   "cell_type": "code",
   "execution_count": 21,
   "metadata": {},
   "outputs": [
    {
     "data": {
      "text/plain": [
       "AdmissionID                int64\n",
       "num_hours                float64\n",
       "OverallDiagnosisCode      object\n",
       "DiagnosisCode1            object\n",
       "DiagnosisCode2            object\n",
       "PatientGender             object\n",
       "PatientRace               object\n",
       "PatientMaritalStatus      object\n",
       "PatientLanguage           object\n",
       "AgeRange                category\n",
       "LabName                   object\n",
       "LabValue                 float64\n",
       "dtype: object"
      ]
     },
     "execution_count": 21,
     "metadata": {},
     "output_type": "execute_result"
    }
   ],
   "source": [
    "admit_patient_lab_diag_df.dtypes"
   ]
  },
  {
   "cell_type": "markdown",
   "metadata": {},
   "source": [
    "Converting the string values into categories and later into integers with integer encoding "
   ]
  },
  {
   "cell_type": "code",
   "execution_count": 22,
   "metadata": {},
   "outputs": [],
   "source": [
    "admit_patient_lab_diag_df[\"OverallDiagnosisCode\"] = admit_patient_lab_diag_df[\"OverallDiagnosisCode\"].astype('category')\n",
    "admit_patient_lab_diag_df[\"DiagnosisCode1\"] = admit_patient_lab_diag_df[\"DiagnosisCode1\"].astype('category')\n",
    "admit_patient_lab_diag_df[\"DiagnosisCode2\"] = admit_patient_lab_diag_df[\"DiagnosisCode2\"].astype('category')\n",
    "admit_patient_lab_diag_df[\"PatientGender\"] = admit_patient_lab_diag_df[\"PatientGender\"].astype('category')\n",
    "admit_patient_lab_diag_df[\"PatientRace\"] = admit_patient_lab_diag_df[\"PatientRace\"].astype('category')\n",
    "admit_patient_lab_diag_df[\"PatientMaritalStatus\"] = admit_patient_lab_diag_df[\"PatientMaritalStatus\"].astype('category')\n",
    "admit_patient_lab_diag_df[\"PatientLanguage\"] = admit_patient_lab_diag_df[\"PatientLanguage\"].astype('category')\n",
    "admit_patient_lab_diag_df[\"LabName\"] = admit_patient_lab_diag_df[\"LabName\"].astype('category')"
   ]
  },
  {
   "cell_type": "code",
   "execution_count": 23,
   "metadata": {},
   "outputs": [],
   "source": [
    "admit_patient_lab_diag_df[\"OverallDiagnosisCode_cat\"] = admit_patient_lab_diag_df[\"OverallDiagnosisCode\"].cat.codes\n",
    "admit_patient_lab_diag_df[\"DiagnosisCode1_cat\"] = admit_patient_lab_diag_df[\"DiagnosisCode1\"].cat.codes\n",
    "admit_patient_lab_diag_df[\"DiagnosisCode2_cat\"] = admit_patient_lab_diag_df[\"DiagnosisCode2\"].cat.codes\n",
    "admit_patient_lab_diag_df[\"PatientGender_cat\"] = admit_patient_lab_diag_df[\"PatientGender\"].cat.codes\n",
    "admit_patient_lab_diag_df[\"PatientRace_cat\"] = admit_patient_lab_diag_df[\"PatientRace\"].cat.codes\n",
    "admit_patient_lab_diag_df[\"PatientMaritalStatus_cat\"] = admit_patient_lab_diag_df[\"PatientMaritalStatus\"].cat.codes\n",
    "admit_patient_lab_diag_df[\"PatientLanguage_cat\"] = admit_patient_lab_diag_df[\"PatientLanguage\"].cat.codes\n",
    "admit_patient_lab_diag_df[\"AgeRange_cat\"] = admit_patient_lab_diag_df[\"AgeRange\"].cat.codes\n",
    "admit_patient_lab_diag_df[\"LabName_cat\"] = admit_patient_lab_diag_df[\"LabName\"].cat.codes"
   ]
  },
  {
   "cell_type": "markdown",
   "metadata": {},
   "source": [
    "## Modeling"
   ]
  },
  {
   "cell_type": "markdown",
   "metadata": {},
   "source": [
    "### Data Preprocessing"
   ]
  },
  {
   "cell_type": "code",
   "execution_count": 24,
   "metadata": {},
   "outputs": [],
   "source": [
    "input_df = admit_patient_lab_diag_df[['AdmissionID', 'num_hours', 'OverallDiagnosisCode_cat', 'DiagnosisCode1_cat',\n",
    "                                      'DiagnosisCode2_cat', 'PatientGender_cat', 'PatientRace_cat',\n",
    "                                      'PatientMaritalStatus_cat', 'PatientLanguage_cat', 'AgeRange_cat',\n",
    "                                      'LabName_cat', 'LabValue']]"
   ]
  },
  {
   "cell_type": "code",
   "execution_count": 25,
   "metadata": {},
   "outputs": [
    {
     "data": {
      "text/plain": [
       "(111483, 12)"
      ]
     },
     "execution_count": 25,
     "metadata": {},
     "output_type": "execute_result"
    }
   ],
   "source": [
    "input_df.shape"
   ]
  },
  {
   "cell_type": "code",
   "execution_count": 26,
   "metadata": {},
   "outputs": [
    {
     "data": {
      "text/plain": [
       "Index(['AdmissionID', 'num_hours', 'OverallDiagnosisCode_cat',\n",
       "       'DiagnosisCode1_cat', 'DiagnosisCode2_cat', 'PatientGender_cat',\n",
       "       'PatientRace_cat', 'PatientMaritalStatus_cat', 'PatientLanguage_cat',\n",
       "       'AgeRange_cat', 'LabName_cat', 'LabValue'],\n",
       "      dtype='object')"
      ]
     },
     "execution_count": 26,
     "metadata": {},
     "output_type": "execute_result"
    }
   ],
   "source": [
    "input_df.columns"
   ]
  },
  {
   "cell_type": "code",
   "execution_count": 27,
   "metadata": {},
   "outputs": [],
   "source": [
    "# Converting dataframe to numpy array required for the model.\n",
    "input_numpy_arr_data = input_df.values"
   ]
  },
  {
   "cell_type": "markdown",
   "metadata": {},
   "source": [
    "### Initializing and training the model"
   ]
  },
  {
   "cell_type": "code",
   "execution_count": 28,
   "metadata": {},
   "outputs": [],
   "source": [
    "# Using 6X6 neurons to learn from the data and create clusters\n",
    "som = MiniSom(6, 6, input_len = input_df.shape[1], sigma=0.5, learning_rate=0.5)\n",
    "som.train_random(input_numpy_arr_data, 500)"
   ]
  },
  {
   "cell_type": "markdown",
   "metadata": {},
   "source": [
    "### Clustering a random data record"
   ]
  },
  {
   "cell_type": "code",
   "execution_count": 29,
   "metadata": {},
   "outputs": [
    {
     "data": {
      "text/plain": [
       "(2, 0)"
      ]
     },
     "execution_count": 29,
     "metadata": {},
     "output_type": "execute_result"
    }
   ],
   "source": [
    "# Finding which neuron is the winner(closest) to the test data\n",
    "som.winner(input_numpy_arr_data[0])"
   ]
  },
  {
   "cell_type": "markdown",
   "metadata": {},
   "source": [
    "## Next Steps"
   ]
  },
  {
   "cell_type": "markdown",
   "metadata": {},
   "source": [
    "1) Identifying how good the SOM(Self Organizing Maps) is performing in terms of creating the clusters.\n",
    "\n",
    "2) Use other unsupervised clustering models to create the clusters\n",
    "\n",
    "3) Comparing the models and identify the best one."
   ]
  }
 ],
 "metadata": {
  "kernelspec": {
   "display_name": "Python 3",
   "language": "python",
   "name": "python3"
  },
  "language_info": {
   "codemirror_mode": {
    "name": "ipython",
    "version": 3
   },
   "file_extension": ".py",
   "mimetype": "text/x-python",
   "name": "python",
   "nbconvert_exporter": "python",
   "pygments_lexer": "ipython3",
   "version": "3.7.6"
  }
 },
 "nbformat": 4,
 "nbformat_minor": 2
}
