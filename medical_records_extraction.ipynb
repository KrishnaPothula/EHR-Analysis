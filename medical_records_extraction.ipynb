{
  "nbformat": 4,
  "nbformat_minor": 0,
  "metadata": {
    "colab": {
      "name": "medical_records_extraction.ipynb",
      "provenance": [],
      "include_colab_link": true
    },
    "kernelspec": {
      "name": "python3",
      "display_name": "Python 3"
    },
    "language_info": {
      "name": "python"
    }
  },
  "cells": [
    {
      "cell_type": "markdown",
      "metadata": {
        "id": "view-in-github",
        "colab_type": "text"
      },
      "source": [
        "<a href=\"https://colab.research.google.com/github/KrishnaPothula/EHR-Analysis/blob/main/medical_records_extraction.ipynb\" target=\"_parent\"><img src=\"https://colab.research.google.com/assets/colab-badge.svg\" alt=\"Open In Colab\"/></a>"
      ]
    },
    {
      "cell_type": "markdown",
      "metadata": {
        "id": "Cn02PbNNUz6y"
      },
      "source": [
        "## Problem Statement:"
      ]
    },
    {
      "cell_type": "markdown",
      "metadata": {
        "id": "mTRWa3J0U233"
      },
      "source": [
        "Medical decisioning depends on medical history of a patient. Doctors typically use past patient records from multiple visits collected through lab tests, procedures and patient diagnoses records to determine the right treatment. The medical history and patient demographics can be used to identify and analyse patterns that groups patients into cohorts.\n",
        "\n",
        "The cohorts formed vary in terms of diseases, test results and patient data. Electronic Health Records are a systematic way to collect huge amounts of digital health information from multiple sources. Accessing this data and using it to create the cohorts presents initial analysis and proper medical path to be followed for any patient dependingon the results from similar patients belonging to the same cohort.\n",
        "\n",
        "The problem is clearly identified as an unsupervised machine learning problem and I will use relevant algorithms to distinguish various cohorts based on their differences. Furthermore, this analysis can be used for drug analysis, identifying disease progression and much more.\n"
      ]
    },
    {
      "cell_type": "markdown",
      "metadata": {
        "id": "WEo_3FJsU755"
      },
      "source": [
        "## Import Libraries"
      ]
    },
    {
      "cell_type": "code",
      "metadata": {
        "colab": {
          "base_uri": "https://localhost:8080/"
        },
        "id": "no5BiDL1znw3",
        "outputId": "22660287-b909-48bd-841f-a3e1394b523f"
      },
      "source": [
        "!sudo apt install tesseract-ocr\n",
        "!pip install pytesseract\n",
        "!pip install MiniSom"
      ],
      "execution_count": 1,
      "outputs": [
        {
          "output_type": "stream",
          "name": "stdout",
          "text": [
            "Reading package lists... Done\n",
            "Building dependency tree       \n",
            "Reading state information... Done\n",
            "The following additional packages will be installed:\n",
            "  tesseract-ocr-eng tesseract-ocr-osd\n",
            "The following NEW packages will be installed:\n",
            "  tesseract-ocr tesseract-ocr-eng tesseract-ocr-osd\n",
            "0 upgraded, 3 newly installed, 0 to remove and 40 not upgraded.\n",
            "Need to get 4,795 kB of archives.\n",
            "After this operation, 15.8 MB of additional disk space will be used.\n",
            "Get:1 http://archive.ubuntu.com/ubuntu bionic/universe amd64 tesseract-ocr-eng all 4.00~git24-0e00fe6-1.2 [1,588 kB]\n",
            "Get:2 http://archive.ubuntu.com/ubuntu bionic/universe amd64 tesseract-ocr-osd all 4.00~git24-0e00fe6-1.2 [2,989 kB]\n",
            "Get:3 http://archive.ubuntu.com/ubuntu bionic/universe amd64 tesseract-ocr amd64 4.00~git2288-10f4998a-2 [218 kB]\n",
            "Fetched 4,795 kB in 1s (4,258 kB/s)\n",
            "debconf: unable to initialize frontend: Dialog\n",
            "debconf: (No usable dialog-like program is installed, so the dialog based frontend cannot be used. at /usr/share/perl5/Debconf/FrontEnd/Dialog.pm line 76, <> line 3.)\n",
            "debconf: falling back to frontend: Readline\n",
            "debconf: unable to initialize frontend: Readline\n",
            "debconf: (This frontend requires a controlling tty.)\n",
            "debconf: falling back to frontend: Teletype\n",
            "dpkg-preconfigure: unable to re-open stdin: \n",
            "Selecting previously unselected package tesseract-ocr-eng.\n",
            "(Reading database ... 148492 files and directories currently installed.)\n",
            "Preparing to unpack .../tesseract-ocr-eng_4.00~git24-0e00fe6-1.2_all.deb ...\n",
            "Unpacking tesseract-ocr-eng (4.00~git24-0e00fe6-1.2) ...\n",
            "Selecting previously unselected package tesseract-ocr-osd.\n",
            "Preparing to unpack .../tesseract-ocr-osd_4.00~git24-0e00fe6-1.2_all.deb ...\n",
            "Unpacking tesseract-ocr-osd (4.00~git24-0e00fe6-1.2) ...\n",
            "Selecting previously unselected package tesseract-ocr.\n",
            "Preparing to unpack .../tesseract-ocr_4.00~git2288-10f4998a-2_amd64.deb ...\n",
            "Unpacking tesseract-ocr (4.00~git2288-10f4998a-2) ...\n",
            "Setting up tesseract-ocr-osd (4.00~git24-0e00fe6-1.2) ...\n",
            "Setting up tesseract-ocr-eng (4.00~git24-0e00fe6-1.2) ...\n",
            "Setting up tesseract-ocr (4.00~git2288-10f4998a-2) ...\n",
            "Processing triggers for man-db (2.8.3-2ubuntu0.1) ...\n",
            "Collecting pytesseract\n",
            "  Downloading pytesseract-0.3.8.tar.gz (14 kB)\n",
            "Requirement already satisfied: Pillow in /usr/local/lib/python3.7/dist-packages (from pytesseract) (7.1.2)\n",
            "Building wheels for collected packages: pytesseract\n",
            "  Building wheel for pytesseract (setup.py) ... \u001b[?25l\u001b[?25hdone\n",
            "  Created wheel for pytesseract: filename=pytesseract-0.3.8-py2.py3-none-any.whl size=14072 sha256=96ab21b812f1ea7bde5c7c25d419e4e8a7d9568c1e230439c069ff7f210c9827\n",
            "  Stored in directory: /root/.cache/pip/wheels/a4/89/b9/3f11250225d0f90e5454fcc30fd1b7208db226850715aa9ace\n",
            "Successfully built pytesseract\n",
            "Installing collected packages: pytesseract\n",
            "Successfully installed pytesseract-0.3.8\n",
            "Collecting MiniSom\n",
            "  Downloading MiniSom-2.2.9.tar.gz (8.1 kB)\n",
            "Building wheels for collected packages: MiniSom\n",
            "  Building wheel for MiniSom (setup.py) ... \u001b[?25l\u001b[?25hdone\n",
            "  Created wheel for MiniSom: filename=MiniSom-2.2.9-py3-none-any.whl size=8594 sha256=ea532fe35bdd1c06bf194e155f72f98e6a23c87c53abf44291caacbbcaa1c29b\n",
            "  Stored in directory: /root/.cache/pip/wheels/3d/a1/10/f50b6f4865652eac239a2700de411c3078c27e1318320e494c\n",
            "Successfully built MiniSom\n",
            "Installing collected packages: MiniSom\n",
            "Successfully installed MiniSom-2.2.9\n"
          ]
        }
      ]
    },
    {
      "cell_type": "code",
      "metadata": {
        "colab": {
          "base_uri": "https://localhost:8080/"
        },
        "id": "DND5L4RHY2y5",
        "outputId": "da1a1ce5-d41f-4f10-ff59-0773a4189002"
      },
      "source": [
        "!unzip SOMperf.zip\n",
        "!python SOMperf/setup.py install\n"
      ],
      "execution_count": 2,
      "outputs": [
        {
          "output_type": "stream",
          "name": "stdout",
          "text": [
            "Archive:  SOMperf.zip\n",
            "  inflating: SOMperf/.gitattributes  \n",
            "  inflating: SOMperf/LICENSE         \n",
            "  inflating: SOMperf/.gitignore      \n",
            "  inflating: SOMperf/README.md       \n",
            "  inflating: SOMperf/setup.py        \n",
            "  inflating: SOMperf/requirements.txt  \n",
            "  inflating: SOMperf/tests/SOMperf-Tests.ipynb  \n",
            "  inflating: SOMperf/tests/rc/som-classes-csi-1.svg  \n",
            "  inflating: SOMperf/tests/rc/som-classes-csi-2.svg  \n",
            "  inflating: SOMperf/tests/rc/som-classes-superclusters.svg  \n",
            "  inflating: SOMperf/tests/rc/som-classes-csi-3.svg  \n",
            "  inflating: SOMperf/tests/rc/som-classes.svg  \n",
            "  inflating: SOMperf/somperf/__init__.py  \n",
            "  inflating: SOMperf/somperf/__version__.py  \n",
            "  inflating: SOMperf/somperf/metrics/__init__.py  \n",
            "  inflating: SOMperf/somperf/metrics/internal.py  \n",
            "  inflating: SOMperf/somperf/metrics/external.py  \n",
            "  inflating: SOMperf/somperf/metrics/__pycache__/__init__.cpython-37.pyc  \n",
            "  inflating: SOMperf/somperf/metrics/__pycache__/external.cpython-37.pyc  \n",
            "  inflating: SOMperf/somperf/metrics/__pycache__/internal.cpython-37.pyc  \n",
            "  inflating: SOMperf/somperf/utils/__init__.py  \n",
            "  inflating: SOMperf/somperf/utils/neighborhood.py  \n",
            "  inflating: SOMperf/somperf/utils/topology.py  \n",
            "  inflating: SOMperf/somperf/utils/__pycache__/__init__.cpython-37.pyc  \n",
            "  inflating: SOMperf/somperf/utils/__pycache__/topology.cpython-37.pyc  \n",
            "  inflating: SOMperf/somperf/utils/__pycache__/neighborhood.cpython-37.pyc  \n",
            "  inflating: SOMperf/somperf/__pycache__/__init__.cpython-37.pyc  \n",
            "  inflating: SOMperf/somperf/__pycache__/__version__.cpython-37.pyc  \n",
            "  inflating: SOMperf/SOMperf.egg-info/top_level.txt  \n",
            "  inflating: SOMperf/SOMperf.egg-info/requires.txt  \n",
            "  inflating: SOMperf/SOMperf.egg-info/SOURCES.txt  \n",
            "  inflating: SOMperf/SOMperf.egg-info/dependency_links.txt  \n",
            "  inflating: SOMperf/SOMperf.egg-info/PKG-INFO  \n",
            "Traceback (most recent call last):\n",
            "  File \"SOMperf/setup.py\", line 3, in <module>\n",
            "    with open('requirements.txt') as fp:\n",
            "FileNotFoundError: [Errno 2] No such file or directory: 'requirements.txt'\n"
          ]
        }
      ]
    },
    {
      "cell_type": "code",
      "metadata": {
        "id": "kC7iV5BJzywu",
        "colab": {
          "base_uri": "https://localhost:8080/"
        },
        "outputId": "fb91295e-9aae-4088-937c-e926d9062f7d"
      },
      "source": [
        "import pytesseract\n",
        "import shutil\n",
        "import os\n",
        "import random\n",
        "try:\n",
        " from PIL import Image\n",
        "except ImportError:\n",
        " import Image\n",
        "import cv2\n",
        "import numpy as np\n",
        "import matplotlib.pyplot as plt\n",
        "# in-built libraries\n",
        "import pandas as pd\n",
        "import numpy as np\n",
        "from matplotlib import pyplot as plt\n",
        "from datetime import datetime\n",
        "import matplotlib.dates as mdates\n",
        "from datetime import date\n",
        "import math\n",
        "from sklearn import metrics\n",
        "from sklearn.cluster import DBSCAN\n",
        "from sklearn.decomposition import PCA\n",
        "# external libraries\n",
        "# pip install -r requirements.txt\n",
        "from minisom import MiniSom\n",
        "# downloaded from https://github.com/FlorentF9/SOMperf.git\n",
        "from SOMperf.somperf.metrics import *\n",
        "from SOMperf.somperf.utils.topology import rectangular_topology_dist"
      ],
      "execution_count": 3,
      "outputs": [
        {
          "output_type": "stream",
          "name": "stderr",
          "text": [
            "/usr/local/lib/python3.7/dist-packages/sklearn/utils/deprecation.py:144: FutureWarning: The sklearn.metrics.cluster.supervised module is  deprecated in version 0.22 and will be removed in version 0.24. The corresponding classes / functions should instead be imported from sklearn.metrics.cluster. Anything that cannot be imported from sklearn.metrics.cluster is now part of the private API.\n",
            "  warnings.warn(message, FutureWarning)\n",
            "/usr/local/lib/python3.7/dist-packages/sklearn/utils/linear_assignment_.py:22: FutureWarning: The linear_assignment_ module is deprecated in 0.21 and will be removed from 0.23. Use scipy.optimize.linear_sum_assignment instead.\n",
            "  FutureWarning)\n"
          ]
        }
      ]
    },
    {
      "cell_type": "markdown",
      "metadata": {
        "id": "kvheMSC_VBga"
      },
      "source": [
        "## Import Data"
      ]
    },
    {
      "cell_type": "code",
      "metadata": {
        "colab": {
          "resources": {
            "http://localhost:8080/nbextensions/google.colab/files.js": {
              "data": "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",
              "ok": true,
              "headers": [
                [
                  "content-type",
                  "application/javascript"
                ]
              ],
              "status": 200,
              "status_text": ""
            }
          },
          "base_uri": "https://localhost:8080/",
          "height": 73
        },
        "id": "dVZ8shfLz-sU",
        "outputId": "40f41ab4-96ed-479f-e6cc-70bba012d852"
      },
      "source": [
        "from google.colab import files\n",
        "uploaded = files.upload()"
      ],
      "execution_count": 43,
      "outputs": [
        {
          "output_type": "display_data",
          "data": {
            "text/html": [
              "\n",
              "     <input type=\"file\" id=\"files-1cfd5211-22b3-4ba1-b7c3-85fe7733d8c1\" name=\"files[]\" multiple disabled\n",
              "        style=\"border:none\" />\n",
              "     <output id=\"result-1cfd5211-22b3-4ba1-b7c3-85fe7733d8c1\">\n",
              "      Upload widget is only available when the cell has been executed in the\n",
              "      current browser session. Please rerun this cell to enable.\n",
              "      </output>\n",
              "      <script src=\"/nbextensions/google.colab/files.js\"></script> "
            ],
            "text/plain": [
              "<IPython.core.display.HTML object>"
            ]
          },
          "metadata": {}
        },
        {
          "output_type": "stream",
          "name": "stdout",
          "text": [
            "Saving download.jfif to download.jfif\n"
          ]
        }
      ]
    },
    {
      "cell_type": "code",
      "metadata": {
        "colab": {
          "base_uri": "https://localhost:8080/",
          "height": 269
        },
        "id": "XlefR4yU0ECX",
        "outputId": "cb28f30f-2034-41c7-c458-16104c2f032e"
      },
      "source": [
        "image_path_in_colab=\"download.jfif\"\n",
        "img = Image.open(image_path_in_colab)\n",
        "plt.imshow(img)\n",
        "plt.show()"
      ],
      "execution_count": 44,
      "outputs": [
        {
          "output_type": "display_data",
          "data": {
            "image/png": "[encoded data removed]",
            "text/plain": [
              "<Figure size 432x288 with 1 Axes>"
            ]
          },
          "metadata": {
            "needs_background": "light"
          }
        }
      ]
    },
    {
      "cell_type": "code",
      "metadata": {
        "colab": {
          "base_uri": "https://localhost:8080/"
        },
        "id": "k612enVj0dFT",
        "outputId": "7a4e793b-af1e-4b9b-875a-c041e9700870"
      },
      "source": [
        "extractedInformation = pytesseract.image_to_string(img)\n",
        "print(extractedInformation)"
      ],
      "execution_count": 45,
      "outputs": [
        {
          "output_type": "stream",
          "name": "stdout",
          "text": [
            "Idolwild\n",
            "\n",
            "A whimsical, casuynl font by bizzadude.dk\n",
            "\n",
            "PERMANENT MARKER\n",
            "\n",
            "AN ALL-CAPS, GRUNGY FONT BY FONT DINER\n",
            "Yellowlatt\n",
            "4 calligraphic, clegarl ofpering prom Asligmaliic\n",
            "\n",
            "FRENTE\n",
            "\n",
            "A NARROW, ALL-CAPS WAND-DRAWN FONT BY FRENTE\n",
            "\n",
            "Supe\n",
            "\n",
            "Novelty SD tont by Tension Type\n",
            "\n",
            "ERASER\n",
            "\n",
            "GRUUGY, ROUGH FOUMT BY DAVID RAK OWwSK'\n",
            "\n",
            " \n",
            "\n",
            " \n",
            "\n",
            " \n",
            "\f\n"
          ]
        }
      ]
    },
    {
      "cell_type": "code",
      "metadata": {
        "colab": {
          "base_uri": "https://localhost:8080/",
          "height": 371
        },
        "id": "G4DqGvewLD2f",
        "outputId": "c55de66a-3e7b-44ea-cd9c-7f7d5ab872a0"
      },
      "source": [
        "# There are 4 different text files each with data separated by tab space which we will import into individual datasets\n",
        "admissions_df = pd.read_csv(\"AdmissionsCorePopulatedTable.txt\", sep=\"\\t\")\n",
        "diagnoses_df = pd.read_csv(\"AdmissionsDiagnosesCorePopulatedTable.txt\", sep=\"\\t\")\n",
        "labs_df = pd.read_csv(\"LabsCorePopulatedTable.txt\", sep=\"\\t\")\n",
        "patient_df = pd.read_csv(\"PatientCorePopulatedTable.txt\", sep=\"\\t\")\n",
        "patient_df.head()"
      ],
      "execution_count": 7,
      "outputs": [
        {
          "output_type": "execute_result",
          "data": {
            "text/html": [
              "<div>\n",
              "<style scoped>\n",
              "    .dataframe tbody tr th:only-of-type {\n",
              "        vertical-align: middle;\n",
              "    }\n",
              "\n",
              "    .dataframe tbody tr th {\n",
              "        vertical-align: top;\n",
              "    }\n",
              "\n",
              "    .dataframe thead th {\n",
              "        text-align: right;\n",
              "    }\n",
              "</style>\n",
              "<table border=\"1\" class=\"dataframe\">\n",
              "  <thead>\n",
              "    <tr style=\"text-align: right;\">\n",
              "      <th></th>\n",
              "      <th>PatientID</th>\n",
              "      <th>PatientGender</th>\n",
              "      <th>PatientDateOfBirth</th>\n",
              "      <th>PatientRace</th>\n",
              "      <th>PatientMaritalStatus</th>\n",
              "      <th>PatientLanguage</th>\n",
              "      <th>PatientPopulationPercentageBelowPoverty</th>\n",
              "    </tr>\n",
              "  </thead>\n",
              "  <tbody>\n",
              "    <tr>\n",
              "      <th>0</th>\n",
              "      <td>FB2ABB23-C9D0-4D09-8464-49BF0B982F0F</td>\n",
              "      <td>Male</td>\n",
              "      <td>1947-12-28 02:45:40.547</td>\n",
              "      <td>Unknown</td>\n",
              "      <td>Married</td>\n",
              "      <td>Icelandic</td>\n",
              "      <td>18.08</td>\n",
              "    </tr>\n",
              "    <tr>\n",
              "      <th>1</th>\n",
              "      <td>64182B95-EB72-4E2B-BE77-8050B71498CE</td>\n",
              "      <td>Male</td>\n",
              "      <td>1952-01-18 19:51:12.917</td>\n",
              "      <td>African American</td>\n",
              "      <td>Separated</td>\n",
              "      <td>English</td>\n",
              "      <td>13.03</td>\n",
              "    </tr>\n",
              "    <tr>\n",
              "      <th>2</th>\n",
              "      <td>DB22A4D9-7E4D-485C-916A-9CD1386507FB</td>\n",
              "      <td>Female</td>\n",
              "      <td>1970-07-25 13:04:20.717</td>\n",
              "      <td>Asian</td>\n",
              "      <td>Married</td>\n",
              "      <td>English</td>\n",
              "      <td>6.67</td>\n",
              "    </tr>\n",
              "    <tr>\n",
              "      <th>3</th>\n",
              "      <td>6E70D84D-C75F-477C-BC37-9177C3698C66</td>\n",
              "      <td>Male</td>\n",
              "      <td>1979-01-04 05:45:29.580</td>\n",
              "      <td>White</td>\n",
              "      <td>Married</td>\n",
              "      <td>English</td>\n",
              "      <td>16.09</td>\n",
              "    </tr>\n",
              "    <tr>\n",
              "      <th>4</th>\n",
              "      <td>C8556CC0-32FC-4CA5-A8CD-9CCF38816167</td>\n",
              "      <td>Female</td>\n",
              "      <td>1921-04-11 11:39:49.197</td>\n",
              "      <td>White</td>\n",
              "      <td>Married</td>\n",
              "      <td>English</td>\n",
              "      <td>18.20</td>\n",
              "    </tr>\n",
              "  </tbody>\n",
              "</table>\n",
              "</div>"
            ],
            "text/plain": [
              "                              PatientID  ... PatientPopulationPercentageBelowPoverty\n",
              "0  FB2ABB23-C9D0-4D09-8464-49BF0B982F0F  ...                                   18.08\n",
              "1  64182B95-EB72-4E2B-BE77-8050B71498CE  ...                                   13.03\n",
              "2  DB22A4D9-7E4D-485C-916A-9CD1386507FB  ...                                    6.67\n",
              "3  6E70D84D-C75F-477C-BC37-9177C3698C66  ...                                   16.09\n",
              "4  C8556CC0-32FC-4CA5-A8CD-9CCF38816167  ...                                   18.20\n",
              "\n",
              "[5 rows x 7 columns]"
            ]
          },
          "metadata": {},
          "execution_count": 7
        }
      ]
    },
    {
      "cell_type": "code",
      "metadata": {
        "id": "6a8OD6X42Pyc",
        "colab": {
          "base_uri": "https://localhost:8080/",
          "height": 203
        },
        "outputId": "493f669a-3ed2-435a-80dd-ae5509ee59b5"
      },
      "source": [
        "admissions_df.head()"
      ],
      "execution_count": 8,
      "outputs": [
        {
          "output_type": "execute_result",
          "data": {
            "text/html": [
              "<div>\n",
              "<style scoped>\n",
              "    .dataframe tbody tr th:only-of-type {\n",
              "        vertical-align: middle;\n",
              "    }\n",
              "\n",
              "    .dataframe tbody tr th {\n",
              "        vertical-align: top;\n",
              "    }\n",
              "\n",
              "    .dataframe thead th {\n",
              "        text-align: right;\n",
              "    }\n",
              "</style>\n",
              "<table border=\"1\" class=\"dataframe\">\n",
              "  <thead>\n",
              "    <tr style=\"text-align: right;\">\n",
              "      <th></th>\n",
              "      <th>PatientID</th>\n",
              "      <th>AdmissionID</th>\n",
              "      <th>AdmissionStartDate</th>\n",
              "      <th>AdmissionEndDate</th>\n",
              "    </tr>\n",
              "  </thead>\n",
              "  <tbody>\n",
              "    <tr>\n",
              "      <th>0</th>\n",
              "      <td>7A025E77-7832-4F53-B9A7-09A3F98AC17E</td>\n",
              "      <td>7</td>\n",
              "      <td>2011-10-12 14:55:02.027</td>\n",
              "      <td>2011-10-22 01:16:07.557</td>\n",
              "    </tr>\n",
              "    <tr>\n",
              "      <th>1</th>\n",
              "      <td>DCE5AEB8-6DB9-4106-8AE4-02CCC5C23741</td>\n",
              "      <td>1</td>\n",
              "      <td>1993-02-11 18:57:04.003</td>\n",
              "      <td>1993-02-24 17:22:29.713</td>\n",
              "    </tr>\n",
              "    <tr>\n",
              "      <th>2</th>\n",
              "      <td>DCE5AEB8-6DB9-4106-8AE4-02CCC5C23741</td>\n",
              "      <td>2</td>\n",
              "      <td>2002-11-28 19:06:31.117</td>\n",
              "      <td>2002-12-04 19:14:40.797</td>\n",
              "    </tr>\n",
              "    <tr>\n",
              "      <th>3</th>\n",
              "      <td>DCE5AEB8-6DB9-4106-8AE4-02CCC5C23741</td>\n",
              "      <td>3</td>\n",
              "      <td>2011-07-19 18:42:45.287</td>\n",
              "      <td>2011-07-25 04:57:42.053</td>\n",
              "    </tr>\n",
              "    <tr>\n",
              "      <th>4</th>\n",
              "      <td>886B5885-1EE2-49F3-98D5-A2F02EB8A9D4</td>\n",
              "      <td>1</td>\n",
              "      <td>1994-12-03 22:20:46.077</td>\n",
              "      <td>1994-12-20 20:24:56.010</td>\n",
              "    </tr>\n",
              "  </tbody>\n",
              "</table>\n",
              "</div>"
            ],
            "text/plain": [
              "                              PatientID  ...         AdmissionEndDate\n",
              "0  7A025E77-7832-4F53-B9A7-09A3F98AC17E  ...  2011-10-22 01:16:07.557\n",
              "1  DCE5AEB8-6DB9-4106-8AE4-02CCC5C23741  ...  1993-02-24 17:22:29.713\n",
              "2  DCE5AEB8-6DB9-4106-8AE4-02CCC5C23741  ...  2002-12-04 19:14:40.797\n",
              "3  DCE5AEB8-6DB9-4106-8AE4-02CCC5C23741  ...  2011-07-25 04:57:42.053\n",
              "4  886B5885-1EE2-49F3-98D5-A2F02EB8A9D4  ...  1994-12-20 20:24:56.010\n",
              "\n",
              "[5 rows x 4 columns]"
            ]
          },
          "metadata": {},
          "execution_count": 8
        }
      ]
    },
    {
      "cell_type": "code",
      "metadata": {
        "colab": {
          "base_uri": "https://localhost:8080/",
          "height": 203
        },
        "id": "Jh4AJ3nXY2No",
        "outputId": "dcf8315b-f3eb-429c-f457-9f56734b6841"
      },
      "source": [
        "diagnoses_df.head()"
      ],
      "execution_count": 9,
      "outputs": [
        {
          "output_type": "execute_result",
          "data": {
            "text/html": [
              "<div>\n",
              "<style scoped>\n",
              "    .dataframe tbody tr th:only-of-type {\n",
              "        vertical-align: middle;\n",
              "    }\n",
              "\n",
              "    .dataframe tbody tr th {\n",
              "        vertical-align: top;\n",
              "    }\n",
              "\n",
              "    .dataframe thead th {\n",
              "        text-align: right;\n",
              "    }\n",
              "</style>\n",
              "<table border=\"1\" class=\"dataframe\">\n",
              "  <thead>\n",
              "    <tr style=\"text-align: right;\">\n",
              "      <th></th>\n",
              "      <th>PatientID</th>\n",
              "      <th>AdmissionID</th>\n",
              "      <th>PrimaryDiagnosisCode</th>\n",
              "      <th>PrimaryDiagnosisDescription</th>\n",
              "    </tr>\n",
              "  </thead>\n",
              "  <tbody>\n",
              "    <tr>\n",
              "      <th>0</th>\n",
              "      <td>80AC01B2-BD55-4BE0-A59A-4024104CF4E9</td>\n",
              "      <td>2</td>\n",
              "      <td>M01.X</td>\n",
              "      <td>Direct infection of joint in infectious and pa...</td>\n",
              "    </tr>\n",
              "    <tr>\n",
              "      <th>1</th>\n",
              "      <td>80AC01B2-BD55-4BE0-A59A-4024104CF4E9</td>\n",
              "      <td>3</td>\n",
              "      <td>D65</td>\n",
              "      <td>Disseminated intravascular coagulation [defibr...</td>\n",
              "    </tr>\n",
              "    <tr>\n",
              "      <th>2</th>\n",
              "      <td>80AC01B2-BD55-4BE0-A59A-4024104CF4E9</td>\n",
              "      <td>4</td>\n",
              "      <td>C92.1</td>\n",
              "      <td>Chronic myeloid leukemia, BCR/ABL-positive</td>\n",
              "    </tr>\n",
              "    <tr>\n",
              "      <th>3</th>\n",
              "      <td>80AC01B2-BD55-4BE0-A59A-4024104CF4E9</td>\n",
              "      <td>5</td>\n",
              "      <td>M05.51</td>\n",
              "      <td>Rheumatoid polyneuropathy with rheumatoid arth...</td>\n",
              "    </tr>\n",
              "    <tr>\n",
              "      <th>4</th>\n",
              "      <td>6A57AC0C-57F3-4C19-98A1-51135EFBC4FF</td>\n",
              "      <td>1</td>\n",
              "      <td>C91.00</td>\n",
              "      <td>Acute lymphoblastic leukemia not having achiev...</td>\n",
              "    </tr>\n",
              "  </tbody>\n",
              "</table>\n",
              "</div>"
            ],
            "text/plain": [
              "                              PatientID  ...                        PrimaryDiagnosisDescription\n",
              "0  80AC01B2-BD55-4BE0-A59A-4024104CF4E9  ...  Direct infection of joint in infectious and pa...\n",
              "1  80AC01B2-BD55-4BE0-A59A-4024104CF4E9  ...  Disseminated intravascular coagulation [defibr...\n",
              "2  80AC01B2-BD55-4BE0-A59A-4024104CF4E9  ...         Chronic myeloid leukemia, BCR/ABL-positive\n",
              "3  80AC01B2-BD55-4BE0-A59A-4024104CF4E9  ...  Rheumatoid polyneuropathy with rheumatoid arth...\n",
              "4  6A57AC0C-57F3-4C19-98A1-51135EFBC4FF  ...  Acute lymphoblastic leukemia not having achiev...\n",
              "\n",
              "[5 rows x 4 columns]"
            ]
          },
          "metadata": {},
          "execution_count": 9
        }
      ]
    },
    {
      "cell_type": "markdown",
      "metadata": {
        "id": "wYajfQcWY7IU"
      },
      "source": [
        "## Data Cleaning"
      ]
    },
    {
      "cell_type": "code",
      "metadata": {
        "id": "dakHAb0BY4Ts"
      },
      "source": [
        "# Function to calculate age compared to todays date\n",
        "def calculate_age(birth_date):\n",
        "        today = date.today()\n",
        "        age = today.year - birth_date.year\n",
        "        full_year_passed = (today.month, today.day) < (birth_date.month, birth_date.day)\n",
        "        if not full_year_passed:\n",
        "            age -= 1\n",
        "        return age"
      ],
      "execution_count": 10,
      "outputs": []
    },
    {
      "cell_type": "code",
      "metadata": {
        "id": "N7AEoGcGY-Ck"
      },
      "source": [
        "# Adding the age column to the dataset\n",
        "myFmt = mdates.DateFormatter('%d')\n",
        "patient_df[\"PatientDateOfBirth\"] = patient_df[\"PatientDateOfBirth\"].apply(lambda x: datetime.strptime(x, '%Y-%m-%d %H:%M:%S.%f'))\n",
        "patient_df[\"Age\"] = patient_df[\"PatientDateOfBirth\"].apply(calculate_age)"
      ],
      "execution_count": 11,
      "outputs": []
    },
    {
      "cell_type": "markdown",
      "metadata": {
        "id": "Qn0HkO08ZCPK"
      },
      "source": [
        "Converting AdmissionStartDate and AdmissionEndDate into datetime64 format to calculate the number of hours spent in admission"
      ]
    },
    {
      "cell_type": "code",
      "metadata": {
        "id": "bBVrwQ-vY_yr"
      },
      "source": [
        "admissions_df[\"AdmissionStartDate\"] = admissions_df[\"AdmissionStartDate\"].apply(lambda x: datetime.strptime(x, '%Y-%m-%d %H:%M:%S.%f'))\n",
        "admissions_df[\"AdmissionEndDate\"] = admissions_df[\"AdmissionEndDate\"].apply(lambda x: datetime.strptime(x, '%Y-%m-%d %H:%M:%S.%f'))"
      ],
      "execution_count": 12,
      "outputs": []
    },
    {
      "cell_type": "code",
      "metadata": {
        "colab": {
          "base_uri": "https://localhost:8080/"
        },
        "id": "4x4Je_i0ZFJa",
        "outputId": "16f01f64-ab45-4004-b626-61864c96fb61"
      },
      "source": [
        "admissions_df.dtypes"
      ],
      "execution_count": 13,
      "outputs": [
        {
          "output_type": "execute_result",
          "data": {
            "text/plain": [
              "PatientID                     object\n",
              "AdmissionID                    int64\n",
              "AdmissionStartDate    datetime64[ns]\n",
              "AdmissionEndDate      datetime64[ns]\n",
              "dtype: object"
            ]
          },
          "metadata": {},
          "execution_count": 13
        }
      ]
    },
    {
      "cell_type": "code",
      "metadata": {
        "id": "uYRzshRaZG02"
      },
      "source": [
        "admissions_df[\"num_hours\"] = (admissions_df.AdmissionEndDate-admissions_df.AdmissionStartDate).astype('timedelta64[h]')"
      ],
      "execution_count": 14,
      "outputs": []
    },
    {
      "cell_type": "code",
      "metadata": {
        "colab": {
          "base_uri": "https://localhost:8080/",
          "height": 203
        },
        "id": "uhD4I8pYZI6u",
        "outputId": "ddd5e8ae-2db9-480e-b82b-8f2e25e39a1f"
      },
      "source": [
        "admissions_df.head()"
      ],
      "execution_count": 15,
      "outputs": [
        {
          "output_type": "execute_result",
          "data": {
            "text/html": [
              "<div>\n",
              "<style scoped>\n",
              "    .dataframe tbody tr th:only-of-type {\n",
              "        vertical-align: middle;\n",
              "    }\n",
              "\n",
              "    .dataframe tbody tr th {\n",
              "        vertical-align: top;\n",
              "    }\n",
              "\n",
              "    .dataframe thead th {\n",
              "        text-align: right;\n",
              "    }\n",
              "</style>\n",
              "<table border=\"1\" class=\"dataframe\">\n",
              "  <thead>\n",
              "    <tr style=\"text-align: right;\">\n",
              "      <th></th>\n",
              "      <th>PatientID</th>\n",
              "      <th>AdmissionID</th>\n",
              "      <th>AdmissionStartDate</th>\n",
              "      <th>AdmissionEndDate</th>\n",
              "      <th>num_hours</th>\n",
              "    </tr>\n",
              "  </thead>\n",
              "  <tbody>\n",
              "    <tr>\n",
              "      <th>0</th>\n",
              "      <td>7A025E77-7832-4F53-B9A7-09A3F98AC17E</td>\n",
              "      <td>7</td>\n",
              "      <td>2011-10-12 14:55:02.027</td>\n",
              "      <td>2011-10-22 01:16:07.557</td>\n",
              "      <td>226.0</td>\n",
              "    </tr>\n",
              "    <tr>\n",
              "      <th>1</th>\n",
              "      <td>DCE5AEB8-6DB9-4106-8AE4-02CCC5C23741</td>\n",
              "      <td>1</td>\n",
              "      <td>1993-02-11 18:57:04.003</td>\n",
              "      <td>1993-02-24 17:22:29.713</td>\n",
              "      <td>310.0</td>\n",
              "    </tr>\n",
              "    <tr>\n",
              "      <th>2</th>\n",
              "      <td>DCE5AEB8-6DB9-4106-8AE4-02CCC5C23741</td>\n",
              "      <td>2</td>\n",
              "      <td>2002-11-28 19:06:31.117</td>\n",
              "      <td>2002-12-04 19:14:40.797</td>\n",
              "      <td>144.0</td>\n",
              "    </tr>\n",
              "    <tr>\n",
              "      <th>3</th>\n",
              "      <td>DCE5AEB8-6DB9-4106-8AE4-02CCC5C23741</td>\n",
              "      <td>3</td>\n",
              "      <td>2011-07-19 18:42:45.287</td>\n",
              "      <td>2011-07-25 04:57:42.053</td>\n",
              "      <td>130.0</td>\n",
              "    </tr>\n",
              "    <tr>\n",
              "      <th>4</th>\n",
              "      <td>886B5885-1EE2-49F3-98D5-A2F02EB8A9D4</td>\n",
              "      <td>1</td>\n",
              "      <td>1994-12-03 22:20:46.077</td>\n",
              "      <td>1994-12-20 20:24:56.010</td>\n",
              "      <td>406.0</td>\n",
              "    </tr>\n",
              "  </tbody>\n",
              "</table>\n",
              "</div>"
            ],
            "text/plain": [
              "                              PatientID  ...  num_hours\n",
              "0  7A025E77-7832-4F53-B9A7-09A3F98AC17E  ...      226.0\n",
              "1  DCE5AEB8-6DB9-4106-8AE4-02CCC5C23741  ...      310.0\n",
              "2  DCE5AEB8-6DB9-4106-8AE4-02CCC5C23741  ...      144.0\n",
              "3  DCE5AEB8-6DB9-4106-8AE4-02CCC5C23741  ...      130.0\n",
              "4  886B5885-1EE2-49F3-98D5-A2F02EB8A9D4  ...      406.0\n",
              "\n",
              "[5 rows x 5 columns]"
            ]
          },
          "metadata": {},
          "execution_count": 15
        }
      ]
    },
    {
      "cell_type": "markdown",
      "metadata": {
        "id": "7idsjDoRZOZg"
      },
      "source": [
        "## Visualization and Analysis"
      ]
    },
    {
      "cell_type": "markdown",
      "metadata": {
        "id": "TKP3iaZ5ZRnr"
      },
      "source": [
        "### Patient Data Distribution"
      ]
    },
    {
      "cell_type": "code",
      "metadata": {
        "colab": {
          "base_uri": "https://localhost:8080/",
          "height": 337
        },
        "id": "ejv-eTffZK7s",
        "outputId": "a51cfba2-8f91-482a-df75-0fb878d77e8e"
      },
      "source": [
        "f, ((ax1, ax2), (ax3, ax4)) = plt.subplots(2, 2, figsize=(15,5))\n",
        "patient_grouped_df = patient_df.groupby('PatientGender')['PatientID'].nunique().reset_index()\n",
        "ax1.bar(patient_grouped_df[\"PatientGender\"],patient_grouped_df[\"PatientID\"])\n",
        "patient_grouped_df = patient_df.groupby('PatientRace')['PatientID'].nunique().reset_index()\n",
        "ax2.bar(patient_grouped_df[\"PatientRace\"],patient_grouped_df[\"PatientID\"])\n",
        "patient_grouped_df = patient_df.groupby('PatientMaritalStatus')['PatientID'].nunique().reset_index()\n",
        "ax3.bar(patient_grouped_df[\"PatientMaritalStatus\"],patient_grouped_df[\"PatientID\"])\n",
        "patient_grouped_df = patient_df.groupby('PatientLanguage')['PatientID'].nunique().reset_index()\n",
        "ax4.bar(patient_grouped_df[\"PatientLanguage\"],patient_grouped_df[\"PatientID\"])"
      ],
      "execution_count": 16,
      "outputs": [
        {
          "output_type": "execute_result",
          "data": {
            "text/plain": [
              "<BarContainer object of 4 artists>"
            ]
          },
          "metadata": {},
          "execution_count": 16
        },
        {
          "output_type": "display_data",
          "data": {
            "image/png": "[encoded data removed]",
            "text/plain": [
              "<Figure size 1080x360 with 4 Axes>"
            ]
          },
          "metadata": {
            "needs_background": "light"
          }
        }
      ]
    },
    {
      "cell_type": "markdown",
      "metadata": {
        "id": "pko0EY6GZXH7"
      },
      "source": [
        "The graphs show distribution of categories across the patients. The goal is to understand why some groups are favoured compared to others"
      ]
    },
    {
      "cell_type": "markdown",
      "metadata": {
        "id": "5fC0k3emZaOB"
      },
      "source": [
        "Creating age groups - Grouping creates categories of ages for better clustering"
      ]
    },
    {
      "cell_type": "code",
      "metadata": {
        "colab": {
          "base_uri": "https://localhost:8080/",
          "height": 337
        },
        "id": "DPidT85UZUKb",
        "outputId": "c751e94f-2bd9-4e3b-e558-3059e836b5dc"
      },
      "source": [
        "bins = [0, 30, 40, 50, 60, 70, 80, 90, 100, 120]\n",
        "labels = ['<30', '30-39', '40-49', '50-59', '60-69', '70-79', '80-89', '90-99', '100>']\n",
        "patient_df['AgeRange'] = pd.cut(patient_df.Age, bins, labels = labels,include_lowest = True)\n",
        "\n",
        "plt.figure(figsize=(15,5))\n",
        "patient_grouped_df = patient_df.groupby('AgeRange')['PatientID'].nunique().reset_index()\n",
        "plt.bar(patient_grouped_df[\"AgeRange\"],patient_grouped_df[\"PatientID\"])"
      ],
      "execution_count": 17,
      "outputs": [
        {
          "output_type": "execute_result",
          "data": {
            "text/plain": [
              "<BarContainer object of 9 artists>"
            ]
          },
          "metadata": {},
          "execution_count": 17
        },
        {
          "output_type": "display_data",
          "data": {
            "image/png": "[encoded data removed]",
            "text/plain": [
              "<Figure size 1080x360 with 1 Axes>"
            ]
          },
          "metadata": {
            "needs_background": "light"
          }
        }
      ]
    },
    {
      "cell_type": "markdown",
      "metadata": {
        "id": "AMZitXyiZfI8"
      },
      "source": [
        "### Admission Data Distribution"
      ]
    },
    {
      "cell_type": "code",
      "metadata": {
        "colab": {
          "base_uri": "https://localhost:8080/",
          "height": 431
        },
        "id": "r_ujaKv6Zcps",
        "outputId": "e5cfa6ac-ab98-46fe-ca57-3225ab2d1aa2"
      },
      "source": [
        "f, ((ax1, ax2)) = plt.subplots(1, 2, figsize=(15,5))\n",
        "admission_grouped_df = admissions_df.groupby('AdmissionID')['PatientID'].nunique().reset_index()\n",
        "ax1.bar(admission_grouped_df[\"AdmissionID\"],admission_grouped_df[\"PatientID\"])\n",
        "admissions_df.boxplot(column=['num_hours'], by='AdmissionID', ax=ax2)"
      ],
      "execution_count": 18,
      "outputs": [
        {
          "output_type": "stream",
          "name": "stderr",
          "text": [
            "/usr/local/lib/python3.7/dist-packages/numpy/core/_asarray.py:83: VisibleDeprecationWarning: Creating an ndarray from ragged nested sequences (which is a list-or-tuple of lists-or-tuples-or ndarrays with different lengths or shapes) is deprecated. If you meant to do this, you must specify 'dtype=object' when creating the ndarray\n",
            "  return array(a, dtype, copy=False, order=order)\n"
          ]
        },
        {
          "output_type": "execute_result",
          "data": {
            "text/plain": [
              "<matplotlib.axes._subplots.AxesSubplot at 0x7f4a8e49ced0>"
            ]
          },
          "metadata": {},
          "execution_count": 18
        },
        {
          "output_type": "display_data",
          "data": {
            "image/png": "[encoded data removed]",
            "text/plain": [
              "<Figure size 1080x360 with 2 Axes>"
            ]
          },
          "metadata": {
            "needs_background": "light"
          }
        }
      ]
    },
    {
      "cell_type": "markdown",
      "metadata": {
        "id": "mk5-gW_uZkXi"
      },
      "source": [
        "The bar chart shows the earlier visits to have more patients. The boxplot shows the visit number which takes up most of the time."
      ]
    },
    {
      "cell_type": "markdown",
      "metadata": {
        "id": "70orr4ZyZnAR"
      },
      "source": [
        "### Diagnosis Data Distribution"
      ]
    },
    {
      "cell_type": "code",
      "metadata": {
        "colab": {
          "base_uri": "https://localhost:8080/",
          "height": 203
        },
        "id": "yDWhAp_ZZhpp",
        "outputId": "16c7d1d2-03f3-49b5-d5d8-bf84299145b0"
      },
      "source": [
        "diagnoses_grouped_df = diagnoses_df.groupby('PrimaryDiagnosisCode')['PatientID'].nunique().reset_index()\n",
        "diagnoses_grouped_df.head()"
      ],
      "execution_count": 19,
      "outputs": [
        {
          "output_type": "execute_result",
          "data": {
            "text/html": [
              "<div>\n",
              "<style scoped>\n",
              "    .dataframe tbody tr th:only-of-type {\n",
              "        vertical-align: middle;\n",
              "    }\n",
              "\n",
              "    .dataframe tbody tr th {\n",
              "        vertical-align: top;\n",
              "    }\n",
              "\n",
              "    .dataframe thead th {\n",
              "        text-align: right;\n",
              "    }\n",
              "</style>\n",
              "<table border=\"1\" class=\"dataframe\">\n",
              "  <thead>\n",
              "    <tr style=\"text-align: right;\">\n",
              "      <th></th>\n",
              "      <th>PrimaryDiagnosisCode</th>\n",
              "      <th>PatientID</th>\n",
              "    </tr>\n",
              "  </thead>\n",
              "  <tbody>\n",
              "    <tr>\n",
              "      <th>0</th>\n",
              "      <td>A42.0</td>\n",
              "      <td>1</td>\n",
              "    </tr>\n",
              "    <tr>\n",
              "      <th>1</th>\n",
              "      <td>A48.2</td>\n",
              "      <td>1</td>\n",
              "    </tr>\n",
              "    <tr>\n",
              "      <th>2</th>\n",
              "      <td>A52.0</td>\n",
              "      <td>1</td>\n",
              "    </tr>\n",
              "    <tr>\n",
              "      <th>3</th>\n",
              "      <td>A83.6</td>\n",
              "      <td>1</td>\n",
              "    </tr>\n",
              "    <tr>\n",
              "      <th>4</th>\n",
              "      <td>A98.3</td>\n",
              "      <td>1</td>\n",
              "    </tr>\n",
              "  </tbody>\n",
              "</table>\n",
              "</div>"
            ],
            "text/plain": [
              "  PrimaryDiagnosisCode  PatientID\n",
              "0                A42.0          1\n",
              "1                A48.2          1\n",
              "2                A52.0          1\n",
              "3                A83.6          1\n",
              "4                A98.3          1"
            ]
          },
          "metadata": {},
          "execution_count": 19
        }
      ]
    },
    {
      "cell_type": "markdown",
      "metadata": {
        "id": "s2_CKryhZsGD"
      },
      "source": [
        "Dividing the PrimaryDiagnosisCode into multiple columns to be able to create better clusters"
      ]
    },
    {
      "cell_type": "code",
      "metadata": {
        "colab": {
          "base_uri": "https://localhost:8080/",
          "height": 287
        },
        "id": "UdAhYwgzZpOa",
        "outputId": "b9f00767-1022-4b0b-beb4-38de739593e2"
      },
      "source": [
        "diagnoses_df[\"OverallDiagnosisCode\"] = diagnoses_df[\"PrimaryDiagnosisCode\"].str[0]\n",
        "\n",
        "diagnoses_df[\"DiagnosisCode1\"] = diagnoses_df[\"PrimaryDiagnosisCode\"].str.split(\".\")\n",
        "diagnoses_df[\"DiagnosisCode1\"] = diagnoses_df[\"DiagnosisCode1\"].apply(lambda x: x[0])\n",
        "\n",
        "diagnoses_df[\"DiagnosisCode2\"] = diagnoses_df[\"PrimaryDiagnosisCode\"].str.split(\".\")\n",
        "diagnoses_df[\"DiagnosisCode2\"] = diagnoses_df[\"DiagnosisCode2\"].apply(lambda x: \"\" if len(x) < 2 else x[1])\n",
        "\n",
        "diagnoses_df.head()"
      ],
      "execution_count": 20,
      "outputs": [
        {
          "output_type": "execute_result",
          "data": {
            "text/html": [
              "<div>\n",
              "<style scoped>\n",
              "    .dataframe tbody tr th:only-of-type {\n",
              "        vertical-align: middle;\n",
              "    }\n",
              "\n",
              "    .dataframe tbody tr th {\n",
              "        vertical-align: top;\n",
              "    }\n",
              "\n",
              "    .dataframe thead th {\n",
              "        text-align: right;\n",
              "    }\n",
              "</style>\n",
              "<table border=\"1\" class=\"dataframe\">\n",
              "  <thead>\n",
              "    <tr style=\"text-align: right;\">\n",
              "      <th></th>\n",
              "      <th>PatientID</th>\n",
              "      <th>AdmissionID</th>\n",
              "      <th>PrimaryDiagnosisCode</th>\n",
              "      <th>PrimaryDiagnosisDescription</th>\n",
              "      <th>OverallDiagnosisCode</th>\n",
              "      <th>DiagnosisCode1</th>\n",
              "      <th>DiagnosisCode2</th>\n",
              "    </tr>\n",
              "  </thead>\n",
              "  <tbody>\n",
              "    <tr>\n",
              "      <th>0</th>\n",
              "      <td>80AC01B2-BD55-4BE0-A59A-4024104CF4E9</td>\n",
              "      <td>2</td>\n",
              "      <td>M01.X</td>\n",
              "      <td>Direct infection of joint in infectious and pa...</td>\n",
              "      <td>M</td>\n",
              "      <td>M01</td>\n",
              "      <td>X</td>\n",
              "    </tr>\n",
              "    <tr>\n",
              "      <th>1</th>\n",
              "      <td>80AC01B2-BD55-4BE0-A59A-4024104CF4E9</td>\n",
              "      <td>3</td>\n",
              "      <td>D65</td>\n",
              "      <td>Disseminated intravascular coagulation [defibr...</td>\n",
              "      <td>D</td>\n",
              "      <td>D65</td>\n",
              "      <td></td>\n",
              "    </tr>\n",
              "    <tr>\n",
              "      <th>2</th>\n",
              "      <td>80AC01B2-BD55-4BE0-A59A-4024104CF4E9</td>\n",
              "      <td>4</td>\n",
              "      <td>C92.1</td>\n",
              "      <td>Chronic myeloid leukemia, BCR/ABL-positive</td>\n",
              "      <td>C</td>\n",
              "      <td>C92</td>\n",
              "      <td>1</td>\n",
              "    </tr>\n",
              "    <tr>\n",
              "      <th>3</th>\n",
              "      <td>80AC01B2-BD55-4BE0-A59A-4024104CF4E9</td>\n",
              "      <td>5</td>\n",
              "      <td>M05.51</td>\n",
              "      <td>Rheumatoid polyneuropathy with rheumatoid arth...</td>\n",
              "      <td>M</td>\n",
              "      <td>M05</td>\n",
              "      <td>51</td>\n",
              "    </tr>\n",
              "    <tr>\n",
              "      <th>4</th>\n",
              "      <td>6A57AC0C-57F3-4C19-98A1-51135EFBC4FF</td>\n",
              "      <td>1</td>\n",
              "      <td>C91.00</td>\n",
              "      <td>Acute lymphoblastic leukemia not having achiev...</td>\n",
              "      <td>C</td>\n",
              "      <td>C91</td>\n",
              "      <td>00</td>\n",
              "    </tr>\n",
              "  </tbody>\n",
              "</table>\n",
              "</div>"
            ],
            "text/plain": [
              "                              PatientID  ...  DiagnosisCode2\n",
              "0  80AC01B2-BD55-4BE0-A59A-4024104CF4E9  ...               X\n",
              "1  80AC01B2-BD55-4BE0-A59A-4024104CF4E9  ...                \n",
              "2  80AC01B2-BD55-4BE0-A59A-4024104CF4E9  ...               1\n",
              "3  80AC01B2-BD55-4BE0-A59A-4024104CF4E9  ...              51\n",
              "4  6A57AC0C-57F3-4C19-98A1-51135EFBC4FF  ...              00\n",
              "\n",
              "[5 rows x 7 columns]"
            ]
          },
          "metadata": {},
          "execution_count": 20
        }
      ]
    },
    {
      "cell_type": "markdown",
      "metadata": {
        "id": "VnLJ01eAZxEg"
      },
      "source": [
        "Understanding the common OverallDiagnosisCode among different patients"
      ]
    },
    {
      "cell_type": "code",
      "metadata": {
        "colab": {
          "base_uri": "https://localhost:8080/",
          "height": 295
        },
        "id": "IJ5Z9o8-ZuKc",
        "outputId": "9eb6ea9b-2d22-4dcc-f0d1-9affd65942df"
      },
      "source": [
        "diagnoses_grouped_df = diagnoses_df.groupby('OverallDiagnosisCode')['PatientID'].nunique().reset_index()\n",
        "diagnoses_grouped_df.plot.bar(x=\"OverallDiagnosisCode\" , y=\"PatientID\")"
      ],
      "execution_count": 21,
      "outputs": [
        {
          "output_type": "execute_result",
          "data": {
            "text/plain": [
              "<matplotlib.axes._subplots.AxesSubplot at 0x7f4a8e2fe4d0>"
            ]
          },
          "metadata": {},
          "execution_count": 21
        },
        {
          "output_type": "display_data",
          "data": {
            "image/png": "[encoded data removed]",
            "text/plain": [
              "<Figure size 432x288 with 1 Axes>"
            ]
          },
          "metadata": {
            "needs_background": "light"
          }
        }
      ]
    },
    {
      "cell_type": "code",
      "metadata": {
        "colab": {
          "base_uri": "https://localhost:8080/",
          "height": 780
        },
        "id": "_a-y0nbdZzih",
        "outputId": "207862d9-f0f8-4a46-e403-3e7c2cb9a448"
      },
      "source": [
        "diagnoses_df[diagnoses_df[\"OverallDiagnosisCode\"] == \"Z\"].head(15)"
      ],
      "execution_count": 22,
      "outputs": [
        {
          "output_type": "execute_result",
          "data": {
            "text/html": [
              "<div>\n",
              "<style scoped>\n",
              "    .dataframe tbody tr th:only-of-type {\n",
              "        vertical-align: middle;\n",
              "    }\n",
              "\n",
              "    .dataframe tbody tr th {\n",
              "        vertical-align: top;\n",
              "    }\n",
              "\n",
              "    .dataframe thead th {\n",
              "        text-align: right;\n",
              "    }\n",
              "</style>\n",
              "<table border=\"1\" class=\"dataframe\">\n",
              "  <thead>\n",
              "    <tr style=\"text-align: right;\">\n",
              "      <th></th>\n",
              "      <th>PatientID</th>\n",
              "      <th>AdmissionID</th>\n",
              "      <th>PrimaryDiagnosisCode</th>\n",
              "      <th>PrimaryDiagnosisDescription</th>\n",
              "      <th>OverallDiagnosisCode</th>\n",
              "      <th>DiagnosisCode1</th>\n",
              "      <th>DiagnosisCode2</th>\n",
              "    </tr>\n",
              "  </thead>\n",
              "  <tbody>\n",
              "    <tr>\n",
              "      <th>38</th>\n",
              "      <td>9C75DF1F-9DA6-4C98-8F5B-E10BDC805ED0</td>\n",
              "      <td>1</td>\n",
              "      <td>Z13.810</td>\n",
              "      <td>Encounter for screening for upper gastrointest...</td>\n",
              "      <td>Z</td>\n",
              "      <td>Z13</td>\n",
              "      <td>810</td>\n",
              "    </tr>\n",
              "    <tr>\n",
              "      <th>40</th>\n",
              "      <td>A19A0B00-4C9A-4206-B1FE-17E6DA3CEB0B</td>\n",
              "      <td>1</td>\n",
              "      <td>Z13.83</td>\n",
              "      <td>Encounter for screening for respiratory disord...</td>\n",
              "      <td>Z</td>\n",
              "      <td>Z13</td>\n",
              "      <td>83</td>\n",
              "    </tr>\n",
              "    <tr>\n",
              "      <th>54</th>\n",
              "      <td>FA157FA5-F488-4884-BF87-E144630D595C</td>\n",
              "      <td>5</td>\n",
              "      <td>Z13.85</td>\n",
              "      <td>Encounter for screening for nervous system dis...</td>\n",
              "      <td>Z</td>\n",
              "      <td>Z13</td>\n",
              "      <td>85</td>\n",
              "    </tr>\n",
              "    <tr>\n",
              "      <th>64</th>\n",
              "      <td>DA6CECFF-DE13-4C4C-919F-64E1A2B76C9D</td>\n",
              "      <td>4</td>\n",
              "      <td>Z22.31</td>\n",
              "      <td>Carrier of bacterial disease due to meningococci</td>\n",
              "      <td>Z</td>\n",
              "      <td>Z22</td>\n",
              "      <td>31</td>\n",
              "    </tr>\n",
              "    <tr>\n",
              "      <th>88</th>\n",
              "      <td>25B786AF-0F99-478C-9CFA-0EA607E45834</td>\n",
              "      <td>6</td>\n",
              "      <td>Z22.31</td>\n",
              "      <td>Carrier of bacterial disease due to meningococci</td>\n",
              "      <td>Z</td>\n",
              "      <td>Z22</td>\n",
              "      <td>31</td>\n",
              "    </tr>\n",
              "    <tr>\n",
              "      <th>135</th>\n",
              "      <td>69B5D2A0-12FD-46EF-A5FF-B29C4BAFBE49</td>\n",
              "      <td>1</td>\n",
              "      <td>Z91.15</td>\n",
              "      <td>Patient's noncompliance with renal dialysis</td>\n",
              "      <td>Z</td>\n",
              "      <td>Z91</td>\n",
              "      <td>15</td>\n",
              "    </tr>\n",
              "    <tr>\n",
              "      <th>141</th>\n",
              "      <td>8D389A8C-A6D8-4447-9DDE-1A28AB4EC667</td>\n",
              "      <td>2</td>\n",
              "      <td>Z13.22</td>\n",
              "      <td>Encounter for screening for metabolic disorder</td>\n",
              "      <td>Z</td>\n",
              "      <td>Z13</td>\n",
              "      <td>22</td>\n",
              "    </tr>\n",
              "    <tr>\n",
              "      <th>157</th>\n",
              "      <td>49DADA25-F2C2-42BB-8210-D78E6C7B0D48</td>\n",
              "      <td>1</td>\n",
              "      <td>Z12</td>\n",
              "      <td>Encounter for screening for malignant neoplasms</td>\n",
              "      <td>Z</td>\n",
              "      <td>Z12</td>\n",
              "      <td></td>\n",
              "    </tr>\n",
              "    <tr>\n",
              "      <th>218</th>\n",
              "      <td>9E18822E-7D13-45C7-B50E-F95CFF92BC3E</td>\n",
              "      <td>1</td>\n",
              "      <td>Z13.0</td>\n",
              "      <td>Encounter for screening for diseases of the bl...</td>\n",
              "      <td>Z</td>\n",
              "      <td>Z13</td>\n",
              "      <td>0</td>\n",
              "    </tr>\n",
              "    <tr>\n",
              "      <th>229</th>\n",
              "      <td>98F593D2-8894-49BB-93B9-5A0E2CF85E2E</td>\n",
              "      <td>1</td>\n",
              "      <td>Z12.2</td>\n",
              "      <td>Encounter for screening for malignant neoplasm...</td>\n",
              "      <td>Z</td>\n",
              "      <td>Z12</td>\n",
              "      <td>2</td>\n",
              "    </tr>\n",
              "    <tr>\n",
              "      <th>272</th>\n",
              "      <td>6623F5D6-D581-4268-9F9B-21612FBBF7B5</td>\n",
              "      <td>3</td>\n",
              "      <td>Z12.71</td>\n",
              "      <td>Encounter for screening for malignant neoplasm...</td>\n",
              "      <td>Z</td>\n",
              "      <td>Z12</td>\n",
              "      <td>71</td>\n",
              "    </tr>\n",
              "    <tr>\n",
              "      <th>298</th>\n",
              "      <td>C8556CC0-32FC-4CA5-A8CD-9CCF38816167</td>\n",
              "      <td>1</td>\n",
              "      <td>Z12.13</td>\n",
              "      <td>Encounter for screening for malignant neoplasm...</td>\n",
              "      <td>Z</td>\n",
              "      <td>Z12</td>\n",
              "      <td>13</td>\n",
              "    </tr>\n",
              "    <tr>\n",
              "      <th>299</th>\n",
              "      <td>C8556CC0-32FC-4CA5-A8CD-9CCF38816167</td>\n",
              "      <td>2</td>\n",
              "      <td>Z95.810</td>\n",
              "      <td>Presence of automatic (implantable) cardiac de...</td>\n",
              "      <td>Z</td>\n",
              "      <td>Z95</td>\n",
              "      <td>810</td>\n",
              "    </tr>\n",
              "    <tr>\n",
              "      <th>332</th>\n",
              "      <td>3231F930-2978-4F50-8234-755449851E7B</td>\n",
              "      <td>2</td>\n",
              "      <td>Z49</td>\n",
              "      <td>Encounter for care involving renal dialysis</td>\n",
              "      <td>Z</td>\n",
              "      <td>Z49</td>\n",
              "      <td></td>\n",
              "    </tr>\n",
              "    <tr>\n",
              "      <th>364</th>\n",
              "      <td>4C201C71-CCED-40D1-9642-F9C8C485B854</td>\n",
              "      <td>6</td>\n",
              "      <td>Z22.31</td>\n",
              "      <td>Carrier of bacterial disease due to meningococci</td>\n",
              "      <td>Z</td>\n",
              "      <td>Z22</td>\n",
              "      <td>31</td>\n",
              "    </tr>\n",
              "  </tbody>\n",
              "</table>\n",
              "</div>"
            ],
            "text/plain": [
              "                                PatientID  ...  DiagnosisCode2\n",
              "38   9C75DF1F-9DA6-4C98-8F5B-E10BDC805ED0  ...             810\n",
              "40   A19A0B00-4C9A-4206-B1FE-17E6DA3CEB0B  ...              83\n",
              "54   FA157FA5-F488-4884-BF87-E144630D595C  ...              85\n",
              "64   DA6CECFF-DE13-4C4C-919F-64E1A2B76C9D  ...              31\n",
              "88   25B786AF-0F99-478C-9CFA-0EA607E45834  ...              31\n",
              "135  69B5D2A0-12FD-46EF-A5FF-B29C4BAFBE49  ...              15\n",
              "141  8D389A8C-A6D8-4447-9DDE-1A28AB4EC667  ...              22\n",
              "157  49DADA25-F2C2-42BB-8210-D78E6C7B0D48  ...                \n",
              "218  9E18822E-7D13-45C7-B50E-F95CFF92BC3E  ...               0\n",
              "229  98F593D2-8894-49BB-93B9-5A0E2CF85E2E  ...               2\n",
              "272  6623F5D6-D581-4268-9F9B-21612FBBF7B5  ...              71\n",
              "298  C8556CC0-32FC-4CA5-A8CD-9CCF38816167  ...              13\n",
              "299  C8556CC0-32FC-4CA5-A8CD-9CCF38816167  ...             810\n",
              "332  3231F930-2978-4F50-8234-755449851E7B  ...                \n",
              "364  4C201C71-CCED-40D1-9642-F9C8C485B854  ...              31\n",
              "\n",
              "[15 rows x 7 columns]"
            ]
          },
          "metadata": {},
          "execution_count": 22
        }
      ]
    },
    {
      "cell_type": "markdown",
      "metadata": {
        "id": "07LNZpFkZ5GM"
      },
      "source": [
        "The splitting of PrimaryDiagnosis to different columns makes sense when looking at the data above.\n",
        "For example the rows 2, 3 & 7 show how the descriptions vary with the specific detail when you compare the codes"
      ]
    },
    {
      "cell_type": "markdown",
      "metadata": {
        "id": "Vsa0iJx2Z7sq"
      },
      "source": [
        "## Data Preparation"
      ]
    },
    {
      "cell_type": "markdown",
      "metadata": {
        "id": "4Oaz_PrPZ-Je"
      },
      "source": [
        "Combining the datasets into one dataframe"
      ]
    },
    {
      "cell_type": "code",
      "metadata": {
        "colab": {
          "base_uri": "https://localhost:8080/",
          "height": 475
        },
        "id": "jBzmzDuoZ2Ee",
        "outputId": "80fa4adc-cbb0-44fb-d905-e2df949ed6c3"
      },
      "source": [
        "admitted_diagnoses_df = pd.merge(admissions_df,diagnoses_df,on=['PatientID','AdmissionID'], how='left')\n",
        "admitted_diagnoses_df.drop(columns=[\"AdmissionStartDate\", \"AdmissionEndDate\", \"PrimaryDiagnosisCode\", \"PrimaryDiagnosisDescription\"], inplace=True)\n",
        "admit_patient_diag_df = pd.merge(admitted_diagnoses_df,patient_df,on=['PatientID'], how='left')\n",
        "admit_patient_diag_df.drop(columns=[\"PatientDateOfBirth\", \"PatientPopulationPercentageBelowPoverty\", \"Age\"], inplace=True)\n",
        "# admit_patient_lab_diag_df = pd.merge(admit_patient_diag_df, labs_df, on=['PatientID', 'AdmissionID'], how='left')\n",
        "# admit_patient_lab_diag_df.drop(columns=[\"PatientID\", \"LabUnits\", \"LabDateTime\"], inplace=True)\n",
        "admit_patient_diag_df.head()"
      ],
      "execution_count": 23,
      "outputs": [
        {
          "output_type": "execute_result",
          "data": {
            "text/html": [
              "<div>\n",
              "<style scoped>\n",
              "    .dataframe tbody tr th:only-of-type {\n",
              "        vertical-align: middle;\n",
              "    }\n",
              "\n",
              "    .dataframe tbody tr th {\n",
              "        vertical-align: top;\n",
              "    }\n",
              "\n",
              "    .dataframe thead th {\n",
              "        text-align: right;\n",
              "    }\n",
              "</style>\n",
              "<table border=\"1\" class=\"dataframe\">\n",
              "  <thead>\n",
              "    <tr style=\"text-align: right;\">\n",
              "      <th></th>\n",
              "      <th>PatientID</th>\n",
              "      <th>AdmissionID</th>\n",
              "      <th>num_hours</th>\n",
              "      <th>OverallDiagnosisCode</th>\n",
              "      <th>DiagnosisCode1</th>\n",
              "      <th>DiagnosisCode2</th>\n",
              "      <th>PatientGender</th>\n",
              "      <th>PatientRace</th>\n",
              "      <th>PatientMaritalStatus</th>\n",
              "      <th>PatientLanguage</th>\n",
              "      <th>AgeRange</th>\n",
              "    </tr>\n",
              "  </thead>\n",
              "  <tbody>\n",
              "    <tr>\n",
              "      <th>0</th>\n",
              "      <td>7A025E77-7832-4F53-B9A7-09A3F98AC17E</td>\n",
              "      <td>7</td>\n",
              "      <td>226.0</td>\n",
              "      <td>F</td>\n",
              "      <td>F06</td>\n",
              "      <td>3</td>\n",
              "      <td>Female</td>\n",
              "      <td>Asian</td>\n",
              "      <td>Single</td>\n",
              "      <td>English</td>\n",
              "      <td>60-69</td>\n",
              "    </tr>\n",
              "    <tr>\n",
              "      <th>1</th>\n",
              "      <td>DCE5AEB8-6DB9-4106-8AE4-02CCC5C23741</td>\n",
              "      <td>1</td>\n",
              "      <td>310.0</td>\n",
              "      <td>K</td>\n",
              "      <td>K91</td>\n",
              "      <td></td>\n",
              "      <td>Female</td>\n",
              "      <td>White</td>\n",
              "      <td>Single</td>\n",
              "      <td>Unknown</td>\n",
              "      <td>50-59</td>\n",
              "    </tr>\n",
              "    <tr>\n",
              "      <th>2</th>\n",
              "      <td>DCE5AEB8-6DB9-4106-8AE4-02CCC5C23741</td>\n",
              "      <td>2</td>\n",
              "      <td>144.0</td>\n",
              "      <td>F</td>\n",
              "      <td>F40</td>\n",
              "      <td>01</td>\n",
              "      <td>Female</td>\n",
              "      <td>White</td>\n",
              "      <td>Single</td>\n",
              "      <td>Unknown</td>\n",
              "      <td>50-59</td>\n",
              "    </tr>\n",
              "    <tr>\n",
              "      <th>3</th>\n",
              "      <td>DCE5AEB8-6DB9-4106-8AE4-02CCC5C23741</td>\n",
              "      <td>3</td>\n",
              "      <td>130.0</td>\n",
              "      <td>C</td>\n",
              "      <td>C40</td>\n",
              "      <td>11</td>\n",
              "      <td>Female</td>\n",
              "      <td>White</td>\n",
              "      <td>Single</td>\n",
              "      <td>Unknown</td>\n",
              "      <td>50-59</td>\n",
              "    </tr>\n",
              "    <tr>\n",
              "      <th>4</th>\n",
              "      <td>886B5885-1EE2-49F3-98D5-A2F02EB8A9D4</td>\n",
              "      <td>1</td>\n",
              "      <td>406.0</td>\n",
              "      <td>M</td>\n",
              "      <td>M05</td>\n",
              "      <td>752</td>\n",
              "      <td>Female</td>\n",
              "      <td>Unknown</td>\n",
              "      <td>Married</td>\n",
              "      <td>English</td>\n",
              "      <td>40-49</td>\n",
              "    </tr>\n",
              "  </tbody>\n",
              "</table>\n",
              "</div>"
            ],
            "text/plain": [
              "                              PatientID  AdmissionID  ...  PatientLanguage AgeRange\n",
              "0  7A025E77-7832-4F53-B9A7-09A3F98AC17E            7  ...          English    60-69\n",
              "1  DCE5AEB8-6DB9-4106-8AE4-02CCC5C23741            1  ...          Unknown    50-59\n",
              "2  DCE5AEB8-6DB9-4106-8AE4-02CCC5C23741            2  ...          Unknown    50-59\n",
              "3  DCE5AEB8-6DB9-4106-8AE4-02CCC5C23741            3  ...          Unknown    50-59\n",
              "4  886B5885-1EE2-49F3-98D5-A2F02EB8A9D4            1  ...          English    40-49\n",
              "\n",
              "[5 rows x 11 columns]"
            ]
          },
          "metadata": {},
          "execution_count": 23
        }
      ]
    },
    {
      "cell_type": "code",
      "metadata": {
        "colab": {
          "base_uri": "https://localhost:8080/"
        },
        "id": "JyN49F4VaAZg",
        "outputId": "b3ae56c5-df4a-41bd-f0be-1dbfafa80e96"
      },
      "source": [
        "admit_patient_diag_df.shape"
      ],
      "execution_count": 24,
      "outputs": [
        {
          "output_type": "execute_result",
          "data": {
            "text/plain": [
              "(372, 11)"
            ]
          },
          "metadata": {},
          "execution_count": 24
        }
      ]
    },
    {
      "cell_type": "code",
      "metadata": {
        "colab": {
          "base_uri": "https://localhost:8080/"
        },
        "id": "sz6LMVYYaDZA",
        "outputId": "4f23c1b4-4cc0-46b6-ecbe-e851b7e72476"
      },
      "source": [
        "admit_patient_diag_df.dtypes"
      ],
      "execution_count": 25,
      "outputs": [
        {
          "output_type": "execute_result",
          "data": {
            "text/plain": [
              "PatientID                 object\n",
              "AdmissionID                int64\n",
              "num_hours                float64\n",
              "OverallDiagnosisCode      object\n",
              "DiagnosisCode1            object\n",
              "DiagnosisCode2            object\n",
              "PatientGender             object\n",
              "PatientRace               object\n",
              "PatientMaritalStatus      object\n",
              "PatientLanguage           object\n",
              "AgeRange                category\n",
              "dtype: object"
            ]
          },
          "metadata": {},
          "execution_count": 25
        }
      ]
    },
    {
      "cell_type": "code",
      "metadata": {
        "id": "p77ODAE1aFgr"
      },
      "source": [
        "admit_patient_diag_df[\"OverallDiagnosisCode\"] = admit_patient_diag_df[\"OverallDiagnosisCode\"].astype('category')\n",
        "admit_patient_diag_df[\"DiagnosisCode1\"] = admit_patient_diag_df[\"DiagnosisCode1\"].astype('category')\n",
        "admit_patient_diag_df[\"DiagnosisCode2\"] = admit_patient_diag_df[\"DiagnosisCode2\"].astype('category')\n",
        "admit_patient_diag_df[\"PatientGender\"] = admit_patient_diag_df[\"PatientGender\"].astype('category')\n",
        "admit_patient_diag_df[\"PatientRace\"] = admit_patient_diag_df[\"PatientRace\"].astype('category')\n",
        "admit_patient_diag_df[\"PatientMaritalStatus\"] = admit_patient_diag_df[\"PatientMaritalStatus\"].astype('category')\n",
        "admit_patient_diag_df[\"PatientLanguage\"] = admit_patient_diag_df[\"PatientLanguage\"].astype('category')"
      ],
      "execution_count": 26,
      "outputs": []
    },
    {
      "cell_type": "code",
      "metadata": {
        "id": "QPPagsGZaHzH"
      },
      "source": [
        "admit_patient_diag_df[\"OverallDiagnosisCode_cat\"] = admit_patient_diag_df[\"OverallDiagnosisCode\"].cat.codes\n",
        "admit_patient_diag_df[\"DiagnosisCode1_cat\"] = admit_patient_diag_df[\"DiagnosisCode1\"].cat.codes\n",
        "admit_patient_diag_df[\"DiagnosisCode2_cat\"] = admit_patient_diag_df[\"DiagnosisCode2\"].cat.codes\n",
        "admit_patient_diag_df[\"PatientGender_cat\"] = admit_patient_diag_df[\"PatientGender\"].cat.codes\n",
        "admit_patient_diag_df[\"PatientRace_cat\"] = admit_patient_diag_df[\"PatientRace\"].cat.codes\n",
        "admit_patient_diag_df[\"PatientMaritalStatus_cat\"] = admit_patient_diag_df[\"PatientMaritalStatus\"].cat.codes\n",
        "admit_patient_diag_df[\"PatientLanguage_cat\"] = admit_patient_diag_df[\"PatientLanguage\"].cat.codes\n",
        "admit_patient_diag_df[\"AgeRange_cat\"] = admit_patient_diag_df[\"AgeRange\"].cat.codes"
      ],
      "execution_count": 27,
      "outputs": []
    },
    {
      "cell_type": "code",
      "metadata": {
        "colab": {
          "base_uri": "https://localhost:8080/"
        },
        "id": "Xnwd6gZtaJVI",
        "outputId": "40c50ec2-d455-41f5-dfb9-e5de9d8ec88f"
      },
      "source": [
        "admit_patient_diag_df.dtypes"
      ],
      "execution_count": 28,
      "outputs": [
        {
          "output_type": "execute_result",
          "data": {
            "text/plain": [
              "PatientID                     object\n",
              "AdmissionID                    int64\n",
              "num_hours                    float64\n",
              "OverallDiagnosisCode        category\n",
              "DiagnosisCode1              category\n",
              "DiagnosisCode2              category\n",
              "PatientGender               category\n",
              "PatientRace                 category\n",
              "PatientMaritalStatus        category\n",
              "PatientLanguage             category\n",
              "AgeRange                    category\n",
              "OverallDiagnosisCode_cat        int8\n",
              "DiagnosisCode1_cat             int16\n",
              "DiagnosisCode2_cat             int16\n",
              "PatientGender_cat               int8\n",
              "PatientRace_cat                 int8\n",
              "PatientMaritalStatus_cat        int8\n",
              "PatientLanguage_cat             int8\n",
              "AgeRange_cat                    int8\n",
              "dtype: object"
            ]
          },
          "metadata": {},
          "execution_count": 28
        }
      ]
    },
    {
      "cell_type": "markdown",
      "metadata": {
        "id": "uXDbw3-laPT5"
      },
      "source": [
        "## Modeling"
      ]
    },
    {
      "cell_type": "markdown",
      "metadata": {
        "id": "IGUGWV0aaSqB"
      },
      "source": [
        "### Data Preprocessing"
      ]
    },
    {
      "cell_type": "code",
      "metadata": {
        "id": "DouGrGaxaLQ3"
      },
      "source": [
        "input_df = admit_patient_diag_df[['AdmissionID', 'num_hours', 'OverallDiagnosisCode_cat', 'DiagnosisCode1_cat',\n",
        "                                      'DiagnosisCode2_cat', 'PatientGender_cat', 'PatientRace_cat',\n",
        "                                      'PatientMaritalStatus_cat', 'PatientLanguage_cat', 'AgeRange_cat']]"
      ],
      "execution_count": 29,
      "outputs": []
    },
    {
      "cell_type": "code",
      "metadata": {
        "colab": {
          "base_uri": "https://localhost:8080/"
        },
        "id": "aDRV37iMaUzh",
        "outputId": "751464f3-201f-4abb-a62a-be326a52beec"
      },
      "source": [
        "input_df.shape"
      ],
      "execution_count": 30,
      "outputs": [
        {
          "output_type": "execute_result",
          "data": {
            "text/plain": [
              "(372, 10)"
            ]
          },
          "metadata": {},
          "execution_count": 30
        }
      ]
    },
    {
      "cell_type": "code",
      "metadata": {
        "colab": {
          "base_uri": "https://localhost:8080/"
        },
        "id": "PgQVLDgiaWXS",
        "outputId": "29367ce6-954f-4d74-987e-826eb26c1e76"
      },
      "source": [
        "input_df.columns"
      ],
      "execution_count": 31,
      "outputs": [
        {
          "output_type": "execute_result",
          "data": {
            "text/plain": [
              "Index(['AdmissionID', 'num_hours', 'OverallDiagnosisCode_cat',\n",
              "       'DiagnosisCode1_cat', 'DiagnosisCode2_cat', 'PatientGender_cat',\n",
              "       'PatientRace_cat', 'PatientMaritalStatus_cat', 'PatientLanguage_cat',\n",
              "       'AgeRange_cat'],\n",
              "      dtype='object')"
            ]
          },
          "metadata": {},
          "execution_count": 31
        }
      ]
    },
    {
      "cell_type": "code",
      "metadata": {
        "id": "45t3JZAGaYMp"
      },
      "source": [
        "# Converting dataframe to numpy array required for the model.\n",
        "input_numpy_arr_data = input_df.values"
      ],
      "execution_count": 32,
      "outputs": []
    },
    {
      "cell_type": "markdown",
      "metadata": {
        "id": "W5mvLofXacXL"
      },
      "source": [
        "### Initializing and training the model"
      ]
    },
    {
      "cell_type": "code",
      "metadata": {
        "id": "nDtSjFooaZ_d"
      },
      "source": [
        "# Using 6X6 neurons to learn from the data and create clusters\n",
        "som = MiniSom(6, 6, input_len = input_df.shape[1], sigma=0.5, learning_rate=0.5, random_seed=999)\n",
        "som.train_random(input_numpy_arr_data, 100)"
      ],
      "execution_count": 33,
      "outputs": []
    },
    {
      "cell_type": "markdown",
      "metadata": {
        "id": "YgnvCL2MahV9"
      },
      "source": [
        "adding seed to the model to ensure the winner does not change between each run."
      ]
    },
    {
      "cell_type": "markdown",
      "metadata": {
        "id": "HshnH4Tuaked"
      },
      "source": [
        "### Clustering a random data record"
      ]
    },
    {
      "cell_type": "code",
      "metadata": {
        "colab": {
          "base_uri": "https://localhost:8080/"
        },
        "id": "vgDGgmQPaefK",
        "outputId": "f93ba61b-1b0d-4609-8d8b-2b01c63230df"
      },
      "source": [
        "# Finding which neuron is the winner(closest) to the test data\n",
        "som.winner(input_numpy_arr_data[100])"
      ],
      "execution_count": 46,
      "outputs": [
        {
          "output_type": "execute_result",
          "data": {
            "text/plain": [
              "(2, 1)"
            ]
          },
          "metadata": {},
          "execution_count": 46
        }
      ]
    },
    {
      "cell_type": "markdown",
      "metadata": {
        "id": "4B6PMhDwaowq"
      },
      "source": [
        "### How good is SOM performing"
      ]
    },
    {
      "cell_type": "code",
      "metadata": {
        "colab": {
          "base_uri": "https://localhost:8080/"
        },
        "id": "RjyZaeozammD",
        "outputId": "11efc07f-4b78-4878-c0bd-0c06e8fcdec5"
      },
      "source": [
        "weights = som.get_weights().reshape(6*6, -1)\n",
        "\n",
        "# compute a few metrics\n",
        "print('Topographic product = ', topographic_product(rectangular_topology_dist((6,6)), weights))\n",
        "print('Neighborhood preservation = ', neighborhood_preservation(1, weights, input_numpy_arr_data))\n",
        "print('Trustworthiness = ', trustworthiness(1, weights, input_numpy_arr_data))"
      ],
      "execution_count": 35,
      "outputs": [
        {
          "output_type": "stream",
          "name": "stdout",
          "text": [
            "Topographic product =  0.10703059915636332\n",
            "Neighborhood preservation =  -0.5464109270560884\n",
            "Trustworthiness =  0.8189960701441128\n"
          ]
        }
      ]
    },
    {
      "cell_type": "markdown",
      "metadata": {
        "id": "Qkp4tUagatsA"
      },
      "source": [
        "Manhattan distance generally works only if the points are arranged in the form of a grid and the problem which we are working on gives more priority to the distance between the points only along with the grids, but not the geometric distance.This gives us 81% trustworthiness."
      ]
    },
    {
      "cell_type": "markdown",
      "metadata": {
        "id": "7FIIvzn4awkw"
      },
      "source": [
        "### DBSCAN - Density-Based Spatial Clustering of Applications with Noise"
      ]
    },
    {
      "cell_type": "markdown",
      "metadata": {
        "id": "N9VASg8gazlz"
      },
      "source": [
        "Comparing our results with another model gives us a good idea on how good the data actually is. I am using the DBSCAN model that decides the number of clusters within a dataset."
      ]
    },
    {
      "cell_type": "code",
      "metadata": {
        "colab": {
          "base_uri": "https://localhost:8080/"
        },
        "id": "wbXARdQsarNi",
        "outputId": "c152c82d-c279-4d2f-d2f8-1473de3f63a5"
      },
      "source": [
        "dbscan = DBSCAN(eps=36, min_samples=10)\n",
        "# Fitting\n",
        "dbscan.fit(input_df)\n",
        "\n",
        "clustering_labels = dbscan.fit_predict(input_df)\n",
        "np.unique(clustering_labels)"
      ],
      "execution_count": 36,
      "outputs": [
        {
          "output_type": "execute_result",
          "data": {
            "text/plain": [
              "array([-1,  0,  1,  2,  3,  4])"
            ]
          },
          "metadata": {},
          "execution_count": 36
        }
      ]
    },
    {
      "cell_type": "code",
      "metadata": {
        "colab": {
          "base_uri": "https://localhost:8080/"
        },
        "id": "iu3Izpk5a1vO",
        "outputId": "4b3db3e7-50d6-476b-af9e-c18080460f4d"
      },
      "source": [
        "metrics.silhouette_score(input_df, clustering_labels)"
      ],
      "execution_count": 37,
      "outputs": [
        {
          "output_type": "execute_result",
          "data": {
            "text/plain": [
              "-0.019685330227404426"
            ]
          },
          "metadata": {},
          "execution_count": 37
        }
      ]
    },
    {
      "cell_type": "markdown",
      "metadata": {
        "id": "D7q4tsHra6Bz"
      },
      "source": [
        "*Using* DBSCAN has given a silhouette score of -0.019. Silhouette score close to 1 indicates that the clusters decided by DBSCAN were good enough, but anything close to zero or negative shows that the algorithm chose either less number of clusters or too many."
      ]
    },
    {
      "cell_type": "markdown",
      "metadata": {
        "id": "VYlxV_hma9Zd"
      },
      "source": [
        "This proves that our model is better in terms of assigning data points to their relavent clusters."
      ]
    },
    {
      "cell_type": "markdown",
      "metadata": {
        "id": "IlHtxLWsbE43"
      },
      "source": [
        "#### Visualizing DBSCAN clusters:"
      ]
    },
    {
      "cell_type": "code",
      "metadata": {
        "colab": {
          "base_uri": "https://localhost:8080/",
          "height": 296
        },
        "id": "EM5lcfT-a3pz",
        "outputId": "2466cb89-0090-417a-ea82-b9da7641b8d4"
      },
      "source": [
        "plt.scatter(input_df.iloc[:, 1], input_df.iloc[:, 2], c=clustering_labels, cmap=\"plasma\")\n",
        "plt.xlabel(\"No. of hours\")\n",
        "plt.ylabel(\"Overall diagnosis code\")"
      ],
      "execution_count": 38,
      "outputs": [
        {
          "output_type": "execute_result",
          "data": {
            "text/plain": [
              "Text(0, 0.5, 'Overall diagnosis code')"
            ]
          },
          "metadata": {},
          "execution_count": 38
        },
        {
          "output_type": "display_data",
          "data": {
            "image/png": "[encoded data removed]",
            "text/plain": [
              "<Figure size 432x288 with 1 Axes>"
            ]
          },
          "metadata": {
            "needs_background": "light"
          }
        }
      ]
    },
    {
      "cell_type": "markdown",
      "metadata": {
        "id": "71tNogLCbKkN"
      },
      "source": [
        "The DBSCAN cluster plot at first glance doesnt make much sense but if you look closely you will notice that the blue dots which represent error(-1) cluster falls all over the place but other nodes are fairly clustered. The reason why DBSCAN does not perform well is because the number of error/unclustered data points are high compared to the clustered ones"
      ]
    },
    {
      "cell_type": "markdown",
      "metadata": {
        "id": "Hh2xEn3CbPP2"
      },
      "source": [
        "### Plotting MiniSOM clusters"
      ]
    },
    {
      "cell_type": "code",
      "metadata": {
        "colab": {
          "base_uri": "https://localhost:8080/"
        },
        "id": "XiQWzvXZbHne",
        "outputId": "a10b527f-d633-4cf9-ae53-754c12ee63f9"
      },
      "source": [
        "labels = []\n",
        "for i in range(input_df.shape[0]):\n",
        "    labels.append(som.winner(input_numpy_arr_data[i]))\n",
        "input_df[\"labels_som\"] = labels"
      ],
      "execution_count": 39,
      "outputs": [
        {
          "output_type": "stream",
          "name": "stderr",
          "text": [
            "/usr/local/lib/python3.7/dist-packages/ipykernel_launcher.py:4: SettingWithCopyWarning: \n",
            "A value is trying to be set on a copy of a slice from a DataFrame.\n",
            "Try using .loc[row_indexer,col_indexer] = value instead\n",
            "\n",
            "See the caveats in the documentation: https://pandas.pydata.org/pandas-docs/stable/user_guide/indexing.html#returning-a-view-versus-a-copy\n",
            "  after removing the cwd from sys.path.\n"
          ]
        }
      ]
    },
    {
      "cell_type": "code",
      "metadata": {
        "colab": {
          "base_uri": "https://localhost:8080/",
          "height": 223
        },
        "id": "NIS64b1DbRgY",
        "outputId": "53e58f67-e63c-4533-f516-2146149b98e3"
      },
      "source": [
        "input_df.head()"
      ],
      "execution_count": 40,
      "outputs": [
        {
          "output_type": "execute_result",
          "data": {
            "text/html": [
              "<div>\n",
              "<style scoped>\n",
              "    .dataframe tbody tr th:only-of-type {\n",
              "        vertical-align: middle;\n",
              "    }\n",
              "\n",
              "    .dataframe tbody tr th {\n",
              "        vertical-align: top;\n",
              "    }\n",
              "\n",
              "    .dataframe thead th {\n",
              "        text-align: right;\n",
              "    }\n",
              "</style>\n",
              "<table border=\"1\" class=\"dataframe\">\n",
              "  <thead>\n",
              "    <tr style=\"text-align: right;\">\n",
              "      <th></th>\n",
              "      <th>AdmissionID</th>\n",
              "      <th>num_hours</th>\n",
              "      <th>OverallDiagnosisCode_cat</th>\n",
              "      <th>DiagnosisCode1_cat</th>\n",
              "      <th>DiagnosisCode2_cat</th>\n",
              "      <th>PatientGender_cat</th>\n",
              "      <th>PatientRace_cat</th>\n",
              "      <th>PatientMaritalStatus_cat</th>\n",
              "      <th>PatientLanguage_cat</th>\n",
              "      <th>AgeRange_cat</th>\n",
              "      <th>labels_som</th>\n",
              "    </tr>\n",
              "  </thead>\n",
              "  <tbody>\n",
              "    <tr>\n",
              "      <th>0</th>\n",
              "      <td>7</td>\n",
              "      <td>226.0</td>\n",
              "      <td>5</td>\n",
              "      <td>78</td>\n",
              "      <td>48</td>\n",
              "      <td>0</td>\n",
              "      <td>1</td>\n",
              "      <td>3</td>\n",
              "      <td>0</td>\n",
              "      <td>4</td>\n",
              "      <td>(1, 2)</td>\n",
              "    </tr>\n",
              "    <tr>\n",
              "      <th>1</th>\n",
              "      <td>1</td>\n",
              "      <td>310.0</td>\n",
              "      <td>10</td>\n",
              "      <td>133</td>\n",
              "      <td>0</td>\n",
              "      <td>0</td>\n",
              "      <td>3</td>\n",
              "      <td>3</td>\n",
              "      <td>3</td>\n",
              "      <td>3</td>\n",
              "      <td>(1, 1)</td>\n",
              "    </tr>\n",
              "    <tr>\n",
              "      <th>2</th>\n",
              "      <td>2</td>\n",
              "      <td>144.0</td>\n",
              "      <td>5</td>\n",
              "      <td>90</td>\n",
              "      <td>3</td>\n",
              "      <td>0</td>\n",
              "      <td>3</td>\n",
              "      <td>3</td>\n",
              "      <td>3</td>\n",
              "      <td>3</td>\n",
              "      <td>(2, 1)</td>\n",
              "    </tr>\n",
              "    <tr>\n",
              "      <th>3</th>\n",
              "      <td>3</td>\n",
              "      <td>130.0</td>\n",
              "      <td>2</td>\n",
              "      <td>27</td>\n",
              "      <td>18</td>\n",
              "      <td>0</td>\n",
              "      <td>3</td>\n",
              "      <td>3</td>\n",
              "      <td>3</td>\n",
              "      <td>3</td>\n",
              "      <td>(0, 1)</td>\n",
              "    </tr>\n",
              "    <tr>\n",
              "      <th>4</th>\n",
              "      <td>1</td>\n",
              "      <td>406.0</td>\n",
              "      <td>11</td>\n",
              "      <td>136</td>\n",
              "      <td>111</td>\n",
              "      <td>0</td>\n",
              "      <td>2</td>\n",
              "      <td>1</td>\n",
              "      <td>0</td>\n",
              "      <td>2</td>\n",
              "      <td>(1, 1)</td>\n",
              "    </tr>\n",
              "  </tbody>\n",
              "</table>\n",
              "</div>"
            ],
            "text/plain": [
              "   AdmissionID  num_hours  ...  AgeRange_cat  labels_som\n",
              "0            7      226.0  ...             4      (1, 2)\n",
              "1            1      310.0  ...             3      (1, 1)\n",
              "2            2      144.0  ...             3      (2, 1)\n",
              "3            3      130.0  ...             3      (0, 1)\n",
              "4            1      406.0  ...             2      (1, 1)\n",
              "\n",
              "[5 rows x 11 columns]"
            ]
          },
          "metadata": {},
          "execution_count": 40
        }
      ]
    },
    {
      "cell_type": "code",
      "metadata": {
        "colab": {
          "base_uri": "https://localhost:8080/",
          "height": 296
        },
        "id": "lkPvjSHKbT6E",
        "outputId": "ed544d96-ac0e-4e76-8f8f-a41ee8222b0d"
      },
      "source": [
        "labels_list = pd.factorize(input_df['labels_som'].tolist())[0]\n",
        "plt.scatter(input_df.iloc[:, 1], input_df.iloc[:, 2], c=labels_list, cmap=\"plasma\")\n",
        "plt.xlabel(\"No. of hours\")\n",
        "plt.ylabel(\"Overall diagnosis code\")"
      ],
      "execution_count": 50,
      "outputs": [
        {
          "output_type": "execute_result",
          "data": {
            "text/plain": [
              "Text(0, 0.5, 'Overall diagnosis code')"
            ]
          },
          "metadata": {},
          "execution_count": 50
        },
        {
          "output_type": "display_data",
          "data": {
            "image/png": "[encoded data removed]",
            "text/plain": [
              "<Figure size 432x288 with 1 Axes>"
            ]
          },
          "metadata": {
            "needs_background": "light"
          }
        }
      ]
    },
    {
      "cell_type": "markdown",
      "metadata": {
        "id": "OD6KRA6Ibn21"
      },
      "source": [
        "The SOM clusters are better defined compared to DBSCAN and this might be the driving factor for the model to perform well compared to DBSCAN."
      ]
    }
  ]
}